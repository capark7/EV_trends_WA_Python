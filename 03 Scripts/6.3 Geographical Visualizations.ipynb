{
 "cells": [
  {
   "cell_type": "markdown",
   "id": "0368d28d",
   "metadata": {},
   "source": [
    "# 6.3 Geographical Visualizations "
   ]
  },
  {
   "cell_type": "markdown",
   "id": "26f3fa10",
   "metadata": {},
   "source": [
    "### 1. Import data and libraries\n",
    "### 2. Data Checking\n",
    "### 3. Choropleth Maps"
   ]
  },
  {
   "cell_type": "code",
   "execution_count": null,
   "id": "de25e210",
   "metadata": {},
   "outputs": [],
   "source": []
  },
  {
   "cell_type": "markdown",
   "id": "6b3e5a98",
   "metadata": {},
   "source": [
    "## 1 Import data and libraries"
   ]
  },
  {
   "cell_type": "code",
   "execution_count": 1,
   "id": "98cc0556",
   "metadata": {},
   "outputs": [],
   "source": [
    "import pandas as pd\n",
    "import numpy as np\n",
    "import seaborn as sns\n",
    "import matplotlib\n",
    "import os\n",
    "import folium\n",
    "import json\n"
   ]
  },
  {
   "cell_type": "code",
   "execution_count": 2,
   "id": "1f101844",
   "metadata": {},
   "outputs": [],
   "source": [
    "# This command propts matplotlib visuals to appear in the notebook \n",
    "\n",
    "%matplotlib inline"
   ]
  },
  {
   "cell_type": "code",
   "execution_count": 3,
   "id": "b06704f4",
   "metadata": {},
   "outputs": [],
   "source": [
    "#Define path\n",
    "\n",
    "path = r'C:\\Users\\Caroline\\Documents\\Career Foundry\\06 2023 EVCS washington state'"
   ]
  },
  {
   "cell_type": "code",
   "execution_count": 4,
   "id": "afe7cbb9",
   "metadata": {},
   "outputs": [],
   "source": [
    "# Import data\n",
    "\n",
    "df_present = pd.read_pickle(os.path.join(path, '02 Data', 'Prepared Data', 'WA_present.pkl'))"
   ]
  },
  {
   "cell_type": "markdown",
   "id": "15fd68fe",
   "metadata": {},
   "source": [
    "GeoJSON data of Washington State and Counties from https://cartographyvectors.com/map/1396-washington-state-counties - Data is free for personal and commerical use with attribution."
   ]
  },
  {
   "cell_type": "code",
   "execution_count": 10,
   "id": "fbab6327",
   "metadata": {},
   "outputs": [
    {
     "ename": "FileNotFoundError",
     "evalue": "[Errno 2] No such file or directory: 'washington-state-counties.geojson'",
     "output_type": "error",
     "traceback": [
      "\u001b[1;31m---------------------------------------------------------------------------\u001b[0m",
      "\u001b[1;31mFileNotFoundError\u001b[0m                         Traceback (most recent call last)",
      "Cell \u001b[1;32mIn[10], line 2\u001b[0m\n\u001b[0;32m      1\u001b[0m \u001b[38;5;66;03m# Load the GeoJSON data from the file in your working directory\u001b[39;00m\n\u001b[1;32m----> 2\u001b[0m \u001b[38;5;28;01mwith\u001b[39;00m \u001b[38;5;28;43mopen\u001b[39;49m\u001b[43m(\u001b[49m\u001b[38;5;124;43m'\u001b[39;49m\u001b[38;5;124;43mwashington-state-counties.geojson\u001b[39;49m\u001b[38;5;124;43m'\u001b[39;49m\u001b[43m)\u001b[49m \u001b[38;5;28;01mas\u001b[39;00m file:\n\u001b[0;32m      3\u001b[0m     WA_json \u001b[38;5;241m=\u001b[39m json\u001b[38;5;241m.\u001b[39mload(file)\n",
      "File \u001b[1;32m~\\anaconda3\\lib\\site-packages\\IPython\\core\\interactiveshell.py:284\u001b[0m, in \u001b[0;36m_modified_open\u001b[1;34m(file, *args, **kwargs)\u001b[0m\n\u001b[0;32m    277\u001b[0m \u001b[38;5;28;01mif\u001b[39;00m file \u001b[38;5;129;01min\u001b[39;00m {\u001b[38;5;241m0\u001b[39m, \u001b[38;5;241m1\u001b[39m, \u001b[38;5;241m2\u001b[39m}:\n\u001b[0;32m    278\u001b[0m     \u001b[38;5;28;01mraise\u001b[39;00m \u001b[38;5;167;01mValueError\u001b[39;00m(\n\u001b[0;32m    279\u001b[0m         \u001b[38;5;124mf\u001b[39m\u001b[38;5;124m\"\u001b[39m\u001b[38;5;124mIPython won\u001b[39m\u001b[38;5;124m'\u001b[39m\u001b[38;5;124mt let you open fd=\u001b[39m\u001b[38;5;132;01m{\u001b[39;00mfile\u001b[38;5;132;01m}\u001b[39;00m\u001b[38;5;124m by default \u001b[39m\u001b[38;5;124m\"\u001b[39m\n\u001b[0;32m    280\u001b[0m         \u001b[38;5;124m\"\u001b[39m\u001b[38;5;124mas it is likely to crash IPython. If you know what you are doing, \u001b[39m\u001b[38;5;124m\"\u001b[39m\n\u001b[0;32m    281\u001b[0m         \u001b[38;5;124m\"\u001b[39m\u001b[38;5;124myou can use builtins\u001b[39m\u001b[38;5;124m'\u001b[39m\u001b[38;5;124m open.\u001b[39m\u001b[38;5;124m\"\u001b[39m\n\u001b[0;32m    282\u001b[0m     )\n\u001b[1;32m--> 284\u001b[0m \u001b[38;5;28;01mreturn\u001b[39;00m io_open(file, \u001b[38;5;241m*\u001b[39margs, \u001b[38;5;241m*\u001b[39m\u001b[38;5;241m*\u001b[39mkwargs)\n",
      "\u001b[1;31mFileNotFoundError\u001b[0m: [Errno 2] No such file or directory: 'washington-state-counties.geojson'"
     ]
    }
   ],
   "source": [
    "# Load the GeoJSON data from the file in your working directory\n",
    "with open('washington-state-counties.geojson') as file:\n",
    "    WA_json = json.load(file)"
   ]
  },
  {
   "cell_type": "code",
   "execution_count": 11,
   "id": "27dc00c0",
   "metadata": {},
   "outputs": [
    {
     "ename": "NameError",
     "evalue": "name 'WA_json' is not defined",
     "output_type": "error",
     "traceback": [
      "\u001b[1;31m---------------------------------------------------------------------------\u001b[0m",
      "\u001b[1;31mNameError\u001b[0m                                 Traceback (most recent call last)",
      "Cell \u001b[1;32mIn[11], line 2\u001b[0m\n\u001b[0;32m      1\u001b[0m \u001b[38;5;66;03m# Check if the response contains valid GeoJSON data\u001b[39;00m\n\u001b[1;32m----> 2\u001b[0m \u001b[38;5;28;01mif\u001b[39;00m \u001b[43mWA_json\u001b[49m\u001b[38;5;241m.\u001b[39mget(\u001b[38;5;124m'\u001b[39m\u001b[38;5;124mtype\u001b[39m\u001b[38;5;124m'\u001b[39m) \u001b[38;5;241m==\u001b[39m \u001b[38;5;124m'\u001b[39m\u001b[38;5;124mFeatureCollection\u001b[39m\u001b[38;5;124m'\u001b[39m \u001b[38;5;129;01mand\u001b[39;00m \u001b[38;5;28misinstance\u001b[39m(WA_json\u001b[38;5;241m.\u001b[39mget(\u001b[38;5;124m'\u001b[39m\u001b[38;5;124mfeatures\u001b[39m\u001b[38;5;124m'\u001b[39m), \u001b[38;5;28mlist\u001b[39m):\n\u001b[0;32m      3\u001b[0m     \u001b[38;5;28mprint\u001b[39m(\u001b[38;5;124m\"\u001b[39m\u001b[38;5;124mValid GeoJSON data\u001b[39m\u001b[38;5;124m\"\u001b[39m)\n\u001b[0;32m      4\u001b[0m \u001b[38;5;28;01melse\u001b[39;00m:\n",
      "\u001b[1;31mNameError\u001b[0m: name 'WA_json' is not defined"
     ]
    }
   ],
   "source": [
    "# Check if the response contains valid GeoJSON data\n",
    "if WA_json.get('type') == 'FeatureCollection' and isinstance(WA_json.get('features'), list):\n",
    "    print(\"Valid GeoJSON data\")\n",
    "else:\n",
    "    print(\"Not a valid GeoJSON data\")"
   ]
  },
  {
   "cell_type": "code",
   "execution_count": null,
   "id": "a0f81f3b",
   "metadata": {},
   "outputs": [],
   "source": [
    "#check shape of imported data\n",
    "df_present.shape"
   ]
  },
  {
   "cell_type": "code",
   "execution_count": null,
   "id": "910aef27",
   "metadata": {},
   "outputs": [],
   "source": [
    "#check shape of imported data\n",
    "#df_hist.shape"
   ]
  },
  {
   "cell_type": "markdown",
   "id": "6e3fd207",
   "metadata": {},
   "source": [
    "## 2. Data Checking "
   ]
  },
  {
   "cell_type": "code",
   "execution_count": null,
   "id": "df4339b0",
   "metadata": {},
   "outputs": [],
   "source": [
    "df_present.head()"
   ]
  },
  {
   "cell_type": "code",
   "execution_count": null,
   "id": "34c54a67",
   "metadata": {},
   "outputs": [],
   "source": [
    "# check for NaN\n",
    "\n",
    "df_present.isnull().sum()"
   ]
  },
  {
   "cell_type": "markdown",
   "id": "d47e3eff",
   "metadata": {},
   "source": [
    " There are two counties with no EV charging stations. Thus the NaN."
   ]
  },
  {
   "cell_type": "code",
   "execution_count": null,
   "id": "61cee8a7",
   "metadata": {},
   "outputs": [],
   "source": [
    "# Select only the necessary columns and put them in a list called columns\n",
    "\n",
    "columns = ['County','evcs_sum', 'L3cs_sum_county', 'popdensity']"
   ]
  },
  {
   "cell_type": "code",
   "execution_count": null,
   "id": "10b9481d",
   "metadata": {},
   "outputs": [],
   "source": [
    "# Create a subset\n",
    "\n",
    "geoset1 = df_present[columns]"
   ]
  },
  {
   "cell_type": "code",
   "execution_count": null,
   "id": "d30f418b",
   "metadata": {},
   "outputs": [],
   "source": [
    "# Impute missing values with 0\n",
    "\n",
    "geoset1['evcs_sum'].fillna(0, inplace=True)\n",
    "geoset1['L3cs_sum_county'].fillna(0, inplace=True)"
   ]
  },
  {
   "cell_type": "code",
   "execution_count": null,
   "id": "7a1cc96c",
   "metadata": {},
   "outputs": [],
   "source": [
    "# check for NaN\n",
    "\n",
    "geoset1.isnull().sum()"
   ]
  },
  {
   "cell_type": "code",
   "execution_count": null,
   "id": "788e143f",
   "metadata": {},
   "outputs": [],
   "source": [
    "# Remove duplicate values\n",
    "geoset = geoset1.drop_duplicates()"
   ]
  },
  {
   "cell_type": "code",
   "execution_count": null,
   "id": "a14fb976",
   "metadata": {},
   "outputs": [],
   "source": [
    "#no dups - WA has 39 counties and all the columns are measures of values by county\n",
    "geoset.shape "
   ]
  },
  {
   "cell_type": "code",
   "execution_count": null,
   "id": "73b25d4f",
   "metadata": {},
   "outputs": [],
   "source": [
    "# Create a subset to evaluate the state without King County\n",
    "geoset_NoKing = geoset[geoset['County'] != 'King']\n"
   ]
  },
  {
   "cell_type": "code",
   "execution_count": null,
   "id": "57c41e8c",
   "metadata": {},
   "outputs": [],
   "source": [
    "geoset_NoKing.shape"
   ]
  },
  {
   "cell_type": "code",
   "execution_count": null,
   "id": "1eef87d5",
   "metadata": {},
   "outputs": [],
   "source": [
    "sns.histplot(geoset['evcs_sum'], bins=10, kde = True)  "
   ]
  },
  {
   "cell_type": "code",
   "execution_count": null,
   "id": "6204cdce",
   "metadata": {},
   "outputs": [],
   "source": [
    "sns.histplot(geoset_NoKing['evcs_sum'], bins=10, kde = True) "
   ]
  },
  {
   "cell_type": "markdown",
   "id": "20f01838",
   "metadata": {},
   "source": [
    "## 3 Choropleth maps"
   ]
  },
  {
   "cell_type": "code",
   "execution_count": null,
   "id": "7104aca6",
   "metadata": {
    "scrolled": true
   },
   "outputs": [],
   "source": [
    "# Specify the number of color categories\n",
    "num_categories = 20\n",
    "\n",
    "# Create a Folium map\n",
    "map = folium.Map(location=[47.5, -120.5], zoom_start=7)\n",
    "\n",
    "# Add the Choropleth layer using the GeoJSON data\n",
    "folium.Choropleth(\n",
    "    geo_data = WA_json,\n",
    "    data = geoset,\n",
    "    columns = ['County', 'evcs_sum'],\n",
    "    key_on = 'feature.properties.NAME',\n",
    "    fill_color = 'YlOrBr',\n",
    "    fill_opacity = 0.6,\n",
    "    line_opacity = 0.1,\n",
    "    legend_name = \"EV Charging Stations\",\n",
    "    bins=num_categories\n",
    ").add_to(map)\n",
    "\n",
    "# Add a layer control to the map\n",
    "folium.LayerControl().add_to(map)\n",
    "\n",
    "# Display the map and save as html file\n",
    "map.save('C:/Users/Caroline/Documents/Career Foundry/06 2023 EVCS washington state/04 Visualizations/map_EVCS.html')\n",
    "\n",
    "map"
   ]
  },
  {
   "cell_type": "code",
   "execution_count": null,
   "id": "ee05a2ba",
   "metadata": {},
   "outputs": [],
   "source": [
    "# Specify the number of color categories\n",
    "num_categories = 10\n",
    "\n",
    "# Create a Folium map\n",
    "map = folium.Map(location=[47.5, -120.5], zoom_start=7)\n",
    "\n",
    "# Add the Choropleth layer using the GeoJSON data\n",
    "folium.Choropleth(\n",
    "    geo_data = WA_json,\n",
    "    data = geoset_NoKing,\n",
    "    columns = ['County', 'evcs_sum'],\n",
    "    key_on = 'feature.properties.NAME',\n",
    "    fill_color = 'YlOrBr',\n",
    "    fill_opacity = 0.6,\n",
    "    line_opacity = 0.1,\n",
    "    legend_name = \"EV Charging Stations - King Co Excluded\",\n",
    "    bins=num_categories\n",
    ").add_to(map)\n",
    "\n",
    "# Add a layer control to the map\n",
    "folium.LayerControl().add_to(map)\n",
    "\n",
    "# Display the map and save as html file\n",
    "map.save('C:/Users/Caroline/Documents/Career Foundry/06 2023 EVCS washington state/04 Visualizations/map_EVCS_king.html')\n",
    "\n",
    "map"
   ]
  },
  {
   "cell_type": "markdown",
   "id": "5ffdc09d",
   "metadata": {},
   "source": [
    "In the first choropleth map of EV charging stations in Washington state, the map shows that the vast majority of charging stations are in King County, which contains the city of Seattle. In the second choropleth map with King County filtered out we are able to see that other counties - ones near Tacoma, Olympia, Vancouver, Everett, and Spokane as well as others - also have a noticeable number of charging stations per county. "
   ]
  },
  {
   "cell_type": "code",
   "execution_count": null,
   "id": "54b835e3",
   "metadata": {},
   "outputs": [],
   "source": [
    "# Specify the number of color categories\n",
    "num_categories = 10\n",
    "\n",
    "# Create a Folium map\n",
    "map = folium.Map(location=[47.5, -120.5], zoom_start=7)\n",
    "\n",
    "# Add the Choropleth layer using the GeoJSON data\n",
    "folium.Choropleth(\n",
    "    geo_data = WA_json,\n",
    "    data = geoset,\n",
    "    columns = ['County', 'L3cs_sum_county'],\n",
    "    key_on = 'feature.properties.NAME',\n",
    "    fill_color = 'YlOrBr',\n",
    "    fill_opacity = 0.6,\n",
    "    line_opacity = 0.1,\n",
    "    legend_name = \"Number of Level 3 charging ports\",\n",
    "    bins=num_categories\n",
    ").add_to(map)\n",
    "\n",
    "# Add a layer control to the map\n",
    "folium.LayerControl().add_to(map)\n",
    "\n",
    "# Display the map and save as html file\n",
    "map.save('C:/Users/Caroline/Documents/Career Foundry/06 2023 EVCS washington state/04 Visualizations/map_L3.html')\n",
    "\n",
    "map"
   ]
  },
  {
   "cell_type": "code",
   "execution_count": null,
   "id": "acf33bf1",
   "metadata": {},
   "outputs": [],
   "source": [
    "# Specify the number of color categories\n",
    "num_categories = 10\n",
    "\n",
    "# Create a Folium map\n",
    "map = folium.Map(location=[47.5, -120.5], zoom_start=7)\n",
    "\n",
    "# Add the Choropleth layer using the GeoJSON data\n",
    "folium.Choropleth(\n",
    "    geo_data = WA_json,\n",
    "    data = geoset_NoKing,\n",
    "    columns = ['County', 'L3cs_sum_county'],\n",
    "    key_on = 'feature.properties.NAME',\n",
    "    fill_color = 'YlOrBr',\n",
    "    fill_opacity = 0.6,\n",
    "    line_opacity = 0.1,\n",
    "    legend_name = \"Number of Level 3 charging ports, King County excluded\",\n",
    "    bins=num_categories\n",
    ").add_to(map)\n",
    "\n",
    "# Add a layer control to the map\n",
    "folium.LayerControl().add_to(map)\n",
    "\n",
    "# Display the map and save as html file\n",
    "map.save('C:/Users/Caroline/Documents/Career Foundry/06 2023 EVCS washington state/04 Visualizations/map_L3_noKing.html')\n",
    "\n",
    "map"
   ]
  },
  {
   "cell_type": "markdown",
   "id": "f7a777f3",
   "metadata": {},
   "source": [
    "In the first map of L3 charging ports in Washington state, we are able to see that the distribution of L3 ports is a bit less concentrated in King County and slightly more spread across the state. In the second map with King County filtered out we are able to see that Snohomish Co (contains Everett) and Clark Co (contains Vancouver) have the next highest amount of L3 charging ports per county. This information helps answer one of my questions of how L3 charging ports are distributed across the state, though I still wish to compare the counties by the number of Charging stations that have the presence of an L3 port."
   ]
  },
  {
   "cell_type": "code",
   "execution_count": null,
   "id": "02456059",
   "metadata": {},
   "outputs": [],
   "source": [
    "# Specify the number of color categories\n",
    "num_categories = 10\n",
    "\n",
    "# Create a Folium map\n",
    "map = folium.Map(location=[47.5, -120.5], zoom_start=7)\n",
    "\n",
    "# Add the Choropleth layer using the GeoJSON data\n",
    "folium.Choropleth(\n",
    "    geo_data = WA_json,\n",
    "    data = geoset,\n",
    "    columns = ['County', 'popdensity'],\n",
    "    key_on = 'feature.properties.NAME',\n",
    "    fill_color = 'YlOrBr',\n",
    "    fill_opacity = 0.6,\n",
    "    line_opacity = 0.1,\n",
    "    legend_name = \"Population Density - people per square mile\",\n",
    "    bins=num_categories\n",
    ").add_to(map)\n",
    "\n",
    "# Add a layer control to the map\n",
    "folium.LayerControl().add_to(map)\n",
    "\n",
    "# Display the map and save as html file\n",
    "map.save('C:/Users/Caroline/Documents/Career Foundry/06 2023 EVCS washington state/04 Visualizations/map_popdensity.html')\n",
    "\n",
    "map"
   ]
  },
  {
   "cell_type": "markdown",
   "id": "75ba6679",
   "metadata": {},
   "source": [
    "Population density follow a similar but not identical distribution to the other maps. However choropleth maps are likely not the best method to use to compare."
   ]
  }
 ],
 "metadata": {
  "kernelspec": {
   "display_name": "Python 3 (ipykernel)",
   "language": "python",
   "name": "python3"
  },
  "language_info": {
   "codemirror_mode": {
    "name": "ipython",
    "version": 3
   },
   "file_extension": ".py",
   "mimetype": "text/x-python",
   "name": "python",
   "nbconvert_exporter": "python",
   "pygments_lexer": "ipython3",
   "version": "3.9.13"
  }
 },
 "nbformat": 4,
 "nbformat_minor": 5
}
