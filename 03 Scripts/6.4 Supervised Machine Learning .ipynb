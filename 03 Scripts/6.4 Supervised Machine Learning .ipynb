{
 "cells": [
  {
   "cell_type": "markdown",
   "id": "e64032d0",
   "metadata": {},
   "source": [
    "# 6.4 Supervised Machine Learning "
   ]
  },
  {
   "cell_type": "markdown",
   "id": "22aba4d3",
   "metadata": {},
   "source": [
    "## Outine\n",
    "\n",
    "### 1. Import data and libraries\n",
    "### 2. Check and clean data\n",
    "### 3. Explore the data visually\n",
    "### 4. Prepare the data for regression analysis\n",
    "### 5. Perform linear regression analysis\n",
    "### 6. Visualize the results & reflect\n"
   ]
  },
  {
   "cell_type": "markdown",
   "id": "303a78f5",
   "metadata": {},
   "source": [
    "# 1. Importing libraries and data"
   ]
  },
  {
   "cell_type": "code",
   "execution_count": 1,
   "id": "bf921cf7",
   "metadata": {},
   "outputs": [],
   "source": [
    "import pandas as pd\n",
    "import numpy as np\n",
    "import seaborn as sns\n",
    "import matplotlib\n",
    "import matplotlib.pyplot as plt\n",
    "import os\n",
    "import sklearn\n",
    "from sklearn.model_selection import train_test_split\n",
    "from sklearn.linear_model import LinearRegression\n",
    "from sklearn.metrics import mean_squared_error, r2_score"
   ]
  },
  {
   "cell_type": "code",
   "execution_count": 2,
   "id": "6bb437b2",
   "metadata": {},
   "outputs": [],
   "source": [
    "# Set the option to display graphs within the notebook.\n",
    "\n",
    "%matplotlib inline"
   ]
  },
  {
   "cell_type": "code",
   "execution_count": 3,
   "id": "42dfb2cd",
   "metadata": {},
   "outputs": [],
   "source": [
    "#Define file path\n",
    "\n",
    "path = r'C:\\Users\\Caroline\\Documents\\Career Foundry\\06 2023 EVCS washington state'"
   ]
  },
  {
   "cell_type": "code",
   "execution_count": 4,
   "id": "77b0b979",
   "metadata": {},
   "outputs": [],
   "source": [
    "# Import data\n",
    "\n",
    "#df_present = pd.read_pickle(os.path.join(path, '02 Data', 'Prepared Data', 'WA_present.pkl'))"
   ]
  },
  {
   "cell_type": "code",
   "execution_count": 5,
   "id": "29fe2ad8",
   "metadata": {},
   "outputs": [],
   "source": [
    "# Import data\n",
    "df_hist = pd.read_pickle(os.path.join(path, '02 Data', 'Prepared Data', 'WA_hist.pkl'))"
   ]
  },
  {
   "cell_type": "markdown",
   "id": "69d66e89",
   "metadata": {},
   "source": [
    "# 2. Data checking and cleaning "
   ]
  },
  {
   "cell_type": "markdown",
   "id": "a10487f4",
   "metadata": {},
   "source": [
    "    #Hypotheses\n",
    "    Hyp 1 - Growth Rate of EV registrations > rate of population growth - X = rate of population growth over time, y = rate of EV% growth\n",
    "    Hyp 2 - % of EV registrations has increased over time - X = time, y = %of EV of vehicle registrations\n",
    "    Hyp 3 - Counties with denser populations have higher rates of EV ownership - X = population density, y = Rate of EV ownership\n",
    "    Hyp 4 - (cyclical) increaseing EV per population increases the #EVCS per county - X: EV per population, y = EVCS/county\n",
    "\n",
    "- Of these hypotheses, Hypothesis 2 is a good candidate to for testing with machine learning. Hyp 3 may be evaluated with linear regression but with only 39 counties the data would be limited."
   ]
  },
  {
   "cell_type": "code",
   "execution_count": 6,
   "id": "5f6edfc9",
   "metadata": {},
   "outputs": [
    {
     "data": {
      "text/plain": [
       "Index(['Date', 'County', 'BEV Registered', 'PHEV Registerd', 'EV Total',\n",
       "       'Non-EV Total', 'Total Vehicles', 'BEV %', 'Overall EV %', 'Year',\n",
       "       'Month', 'Station Count', 'Cum_CS_count', 'Cumulative EVCS WA',\n",
       "       'Estimated Population', 'EVs per person', 'Total Vehicles per person'],\n",
       "      dtype='object')"
      ]
     },
     "execution_count": 6,
     "metadata": {},
     "output_type": "execute_result"
    }
   ],
   "source": [
    "df_hist.columns"
   ]
  },
  {
   "cell_type": "code",
   "execution_count": 7,
   "id": "6fb4b6a1",
   "metadata": {},
   "outputs": [
    {
     "data": {
      "text/html": [
       "<div>\n",
       "<style scoped>\n",
       "    .dataframe tbody tr th:only-of-type {\n",
       "        vertical-align: middle;\n",
       "    }\n",
       "\n",
       "    .dataframe tbody tr th {\n",
       "        vertical-align: top;\n",
       "    }\n",
       "\n",
       "    .dataframe thead th {\n",
       "        text-align: right;\n",
       "    }\n",
       "</style>\n",
       "<table border=\"1\" class=\"dataframe\">\n",
       "  <thead>\n",
       "    <tr style=\"text-align: right;\">\n",
       "      <th></th>\n",
       "      <th>Date</th>\n",
       "      <th>County</th>\n",
       "      <th>BEV Registered</th>\n",
       "      <th>PHEV Registerd</th>\n",
       "      <th>EV Total</th>\n",
       "      <th>Non-EV Total</th>\n",
       "      <th>Total Vehicles</th>\n",
       "      <th>BEV %</th>\n",
       "      <th>Overall EV %</th>\n",
       "      <th>Year</th>\n",
       "      <th>Month</th>\n",
       "      <th>Station Count</th>\n",
       "      <th>Cum_CS_count</th>\n",
       "      <th>Cumulative EVCS WA</th>\n",
       "      <th>Estimated Population</th>\n",
       "      <th>EVs per person</th>\n",
       "      <th>Total Vehicles per person</th>\n",
       "    </tr>\n",
       "  </thead>\n",
       "  <tbody>\n",
       "    <tr>\n",
       "      <th>0</th>\n",
       "      <td>2014-06-01</td>\n",
       "      <td>Adams</td>\n",
       "      <td>0</td>\n",
       "      <td>0</td>\n",
       "      <td>0</td>\n",
       "      <td>0</td>\n",
       "      <td>0</td>\n",
       "      <td>NaN</td>\n",
       "      <td>NaN</td>\n",
       "      <td>2014</td>\n",
       "      <td>6</td>\n",
       "      <td>1</td>\n",
       "      <td>1</td>\n",
       "      <td>9</td>\n",
       "      <td>19482</td>\n",
       "      <td>NaN</td>\n",
       "      <td>NaN</td>\n",
       "    </tr>\n",
       "    <tr>\n",
       "      <th>1</th>\n",
       "      <td>2017-01-01</td>\n",
       "      <td>Adams</td>\n",
       "      <td>1</td>\n",
       "      <td>1</td>\n",
       "      <td>2</td>\n",
       "      <td>17252</td>\n",
       "      <td>17254</td>\n",
       "      <td>50.000000</td>\n",
       "      <td>0.011592</td>\n",
       "      <td>2017</td>\n",
       "      <td>1</td>\n",
       "      <td>0</td>\n",
       "      <td>1</td>\n",
       "      <td>309</td>\n",
       "      <td>19968</td>\n",
       "      <td>0.000100</td>\n",
       "      <td>0.864083</td>\n",
       "    </tr>\n",
       "    <tr>\n",
       "      <th>2</th>\n",
       "      <td>2017-02-01</td>\n",
       "      <td>Adams</td>\n",
       "      <td>2</td>\n",
       "      <td>2</td>\n",
       "      <td>4</td>\n",
       "      <td>17197</td>\n",
       "      <td>17201</td>\n",
       "      <td>50.000000</td>\n",
       "      <td>0.023254</td>\n",
       "      <td>2017</td>\n",
       "      <td>2</td>\n",
       "      <td>0</td>\n",
       "      <td>1</td>\n",
       "      <td>316</td>\n",
       "      <td>19984</td>\n",
       "      <td>0.000200</td>\n",
       "      <td>0.860739</td>\n",
       "    </tr>\n",
       "    <tr>\n",
       "      <th>3</th>\n",
       "      <td>2017-03-01</td>\n",
       "      <td>Adams</td>\n",
       "      <td>2</td>\n",
       "      <td>4</td>\n",
       "      <td>6</td>\n",
       "      <td>17177</td>\n",
       "      <td>17183</td>\n",
       "      <td>33.333333</td>\n",
       "      <td>0.034918</td>\n",
       "      <td>2017</td>\n",
       "      <td>3</td>\n",
       "      <td>0</td>\n",
       "      <td>1</td>\n",
       "      <td>322</td>\n",
       "      <td>20000</td>\n",
       "      <td>0.000300</td>\n",
       "      <td>0.859150</td>\n",
       "    </tr>\n",
       "    <tr>\n",
       "      <th>4</th>\n",
       "      <td>2017-04-01</td>\n",
       "      <td>Adams</td>\n",
       "      <td>2</td>\n",
       "      <td>3</td>\n",
       "      <td>5</td>\n",
       "      <td>17200</td>\n",
       "      <td>17205</td>\n",
       "      <td>40.000000</td>\n",
       "      <td>0.029061</td>\n",
       "      <td>2017</td>\n",
       "      <td>4</td>\n",
       "      <td>0</td>\n",
       "      <td>1</td>\n",
       "      <td>331</td>\n",
       "      <td>20015</td>\n",
       "      <td>0.000250</td>\n",
       "      <td>0.859605</td>\n",
       "    </tr>\n",
       "    <tr>\n",
       "      <th>5</th>\n",
       "      <td>2017-05-01</td>\n",
       "      <td>Adams</td>\n",
       "      <td>2</td>\n",
       "      <td>3</td>\n",
       "      <td>5</td>\n",
       "      <td>17276</td>\n",
       "      <td>17281</td>\n",
       "      <td>40.000000</td>\n",
       "      <td>0.028934</td>\n",
       "      <td>2017</td>\n",
       "      <td>5</td>\n",
       "      <td>0</td>\n",
       "      <td>1</td>\n",
       "      <td>345</td>\n",
       "      <td>20031</td>\n",
       "      <td>0.000250</td>\n",
       "      <td>0.862713</td>\n",
       "    </tr>\n",
       "    <tr>\n",
       "      <th>6</th>\n",
       "      <td>2017-06-01</td>\n",
       "      <td>Adams</td>\n",
       "      <td>2</td>\n",
       "      <td>3</td>\n",
       "      <td>5</td>\n",
       "      <td>17310</td>\n",
       "      <td>17315</td>\n",
       "      <td>40.000000</td>\n",
       "      <td>0.028877</td>\n",
       "      <td>2017</td>\n",
       "      <td>6</td>\n",
       "      <td>0</td>\n",
       "      <td>1</td>\n",
       "      <td>349</td>\n",
       "      <td>20047</td>\n",
       "      <td>0.000249</td>\n",
       "      <td>0.863720</td>\n",
       "    </tr>\n",
       "    <tr>\n",
       "      <th>7</th>\n",
       "      <td>2017-07-01</td>\n",
       "      <td>Adams</td>\n",
       "      <td>3</td>\n",
       "      <td>3</td>\n",
       "      <td>6</td>\n",
       "      <td>17307</td>\n",
       "      <td>17313</td>\n",
       "      <td>50.000000</td>\n",
       "      <td>0.034656</td>\n",
       "      <td>2017</td>\n",
       "      <td>7</td>\n",
       "      <td>0</td>\n",
       "      <td>1</td>\n",
       "      <td>358</td>\n",
       "      <td>20062</td>\n",
       "      <td>0.000299</td>\n",
       "      <td>0.862975</td>\n",
       "    </tr>\n",
       "    <tr>\n",
       "      <th>8</th>\n",
       "      <td>2017-08-01</td>\n",
       "      <td>Adams</td>\n",
       "      <td>3</td>\n",
       "      <td>3</td>\n",
       "      <td>6</td>\n",
       "      <td>17280</td>\n",
       "      <td>17286</td>\n",
       "      <td>50.000000</td>\n",
       "      <td>0.034710</td>\n",
       "      <td>2017</td>\n",
       "      <td>8</td>\n",
       "      <td>0</td>\n",
       "      <td>1</td>\n",
       "      <td>365</td>\n",
       "      <td>20078</td>\n",
       "      <td>0.000299</td>\n",
       "      <td>0.860942</td>\n",
       "    </tr>\n",
       "    <tr>\n",
       "      <th>9</th>\n",
       "      <td>2017-09-01</td>\n",
       "      <td>Adams</td>\n",
       "      <td>3</td>\n",
       "      <td>3</td>\n",
       "      <td>6</td>\n",
       "      <td>17386</td>\n",
       "      <td>17392</td>\n",
       "      <td>50.000000</td>\n",
       "      <td>0.034499</td>\n",
       "      <td>2017</td>\n",
       "      <td>9</td>\n",
       "      <td>0</td>\n",
       "      <td>1</td>\n",
       "      <td>372</td>\n",
       "      <td>20094</td>\n",
       "      <td>0.000299</td>\n",
       "      <td>0.865532</td>\n",
       "    </tr>\n",
       "  </tbody>\n",
       "</table>\n",
       "</div>"
      ],
      "text/plain": [
       "        Date County  BEV Registered  PHEV Registerd  EV Total  Non-EV Total  \\\n",
       "0 2014-06-01  Adams               0               0         0             0   \n",
       "1 2017-01-01  Adams               1               1         2         17252   \n",
       "2 2017-02-01  Adams               2               2         4         17197   \n",
       "3 2017-03-01  Adams               2               4         6         17177   \n",
       "4 2017-04-01  Adams               2               3         5         17200   \n",
       "5 2017-05-01  Adams               2               3         5         17276   \n",
       "6 2017-06-01  Adams               2               3         5         17310   \n",
       "7 2017-07-01  Adams               3               3         6         17307   \n",
       "8 2017-08-01  Adams               3               3         6         17280   \n",
       "9 2017-09-01  Adams               3               3         6         17386   \n",
       "\n",
       "   Total Vehicles      BEV %  Overall EV %  Year  Month  Station Count  \\\n",
       "0               0        NaN           NaN  2014      6              1   \n",
       "1           17254  50.000000      0.011592  2017      1              0   \n",
       "2           17201  50.000000      0.023254  2017      2              0   \n",
       "3           17183  33.333333      0.034918  2017      3              0   \n",
       "4           17205  40.000000      0.029061  2017      4              0   \n",
       "5           17281  40.000000      0.028934  2017      5              0   \n",
       "6           17315  40.000000      0.028877  2017      6              0   \n",
       "7           17313  50.000000      0.034656  2017      7              0   \n",
       "8           17286  50.000000      0.034710  2017      8              0   \n",
       "9           17392  50.000000      0.034499  2017      9              0   \n",
       "\n",
       "   Cum_CS_count  Cumulative EVCS WA  Estimated Population  EVs per person  \\\n",
       "0             1                   9                 19482             NaN   \n",
       "1             1                 309                 19968        0.000100   \n",
       "2             1                 316                 19984        0.000200   \n",
       "3             1                 322                 20000        0.000300   \n",
       "4             1                 331                 20015        0.000250   \n",
       "5             1                 345                 20031        0.000250   \n",
       "6             1                 349                 20047        0.000249   \n",
       "7             1                 358                 20062        0.000299   \n",
       "8             1                 365                 20078        0.000299   \n",
       "9             1                 372                 20094        0.000299   \n",
       "\n",
       "   Total Vehicles per person  \n",
       "0                        NaN  \n",
       "1                   0.864083  \n",
       "2                   0.860739  \n",
       "3                   0.859150  \n",
       "4                   0.859605  \n",
       "5                   0.862713  \n",
       "6                   0.863720  \n",
       "7                   0.862975  \n",
       "8                   0.860942  \n",
       "9                   0.865532  "
      ]
     },
     "execution_count": 7,
     "metadata": {},
     "output_type": "execute_result"
    }
   ],
   "source": [
    "#Visual check of df\n",
    "df_hist. head(10)"
   ]
  },
  {
   "cell_type": "code",
   "execution_count": 8,
   "id": "29fc8c4d",
   "metadata": {},
   "outputs": [
    {
     "data": {
      "text/plain": [
       "(3203, 17)"
      ]
     },
     "execution_count": 8,
     "metadata": {},
     "output_type": "execute_result"
    }
   ],
   "source": [
    "df_hist.shape"
   ]
  },
  {
   "cell_type": "code",
   "execution_count": 9,
   "id": "1a556175",
   "metadata": {},
   "outputs": [
    {
     "data": {
      "text/plain": [
       "Date                           0\n",
       "County                         0\n",
       "BEV Registered                 0\n",
       "PHEV Registerd                 0\n",
       "EV Total                       0\n",
       "Non-EV Total                   0\n",
       "Total Vehicles                 0\n",
       "BEV %                        200\n",
       "Overall EV %                 200\n",
       "Year                           0\n",
       "Month                          0\n",
       "Station Count                  0\n",
       "Cum_CS_count                   0\n",
       "Cumulative EVCS WA             0\n",
       "Estimated Population           0\n",
       "EVs per person               200\n",
       "Total Vehicles per person    200\n",
       "dtype: int64"
      ]
     },
     "execution_count": 9,
     "metadata": {},
     "output_type": "execute_result"
    }
   ],
   "source": [
    "# Check for missing values\n",
    "\n",
    "df_hist.isnull().sum()\n"
   ]
  },
  {
   "cell_type": "code",
   "execution_count": 10,
   "id": "5c0d73a6",
   "metadata": {},
   "outputs": [],
   "source": [
    "# Drop rows with any NaN values\n",
    "df_hist = df_hist.dropna()"
   ]
  },
  {
   "cell_type": "code",
   "execution_count": 11,
   "id": "b087232d",
   "metadata": {},
   "outputs": [
    {
     "data": {
      "text/plain": [
       "Date                         0\n",
       "County                       0\n",
       "BEV Registered               0\n",
       "PHEV Registerd               0\n",
       "EV Total                     0\n",
       "Non-EV Total                 0\n",
       "Total Vehicles               0\n",
       "BEV %                        0\n",
       "Overall EV %                 0\n",
       "Year                         0\n",
       "Month                        0\n",
       "Station Count                0\n",
       "Cum_CS_count                 0\n",
       "Cumulative EVCS WA           0\n",
       "Estimated Population         0\n",
       "EVs per person               0\n",
       "Total Vehicles per person    0\n",
       "dtype: int64"
      ]
     },
     "execution_count": 11,
     "metadata": {},
     "output_type": "execute_result"
    }
   ],
   "source": [
    "# Check for missing values\n",
    "\n",
    "df_hist.isnull().sum()"
   ]
  },
  {
   "cell_type": "code",
   "execution_count": 14,
   "id": "b31b3309",
   "metadata": {},
   "outputs": [
    {
     "data": {
      "text/plain": [
       "(3003, 17)"
      ]
     },
     "execution_count": 14,
     "metadata": {},
     "output_type": "execute_result"
    }
   ],
   "source": [
    "df_hist.shape\n"
   ]
  },
  {
   "cell_type": "code",
   "execution_count": 15,
   "id": "2901450e",
   "metadata": {},
   "outputs": [],
   "source": [
    "# Check for duplicate values\n",
    "dups = df_hist.duplicated()"
   ]
  },
  {
   "cell_type": "code",
   "execution_count": 16,
   "id": "866fe8c6",
   "metadata": {},
   "outputs": [
    {
     "data": {
      "text/plain": [
       "(3003,)"
      ]
     },
     "execution_count": 16,
     "metadata": {},
     "output_type": "execute_result"
    }
   ],
   "source": [
    "dups.shape # No dups"
   ]
  },
  {
   "cell_type": "markdown",
   "id": "bc9cc2ec",
   "metadata": {},
   "source": [
    "# 3. Explore the data visually"
   ]
  },
  {
   "cell_type": "code",
   "execution_count": 17,
   "id": "6f119225",
   "metadata": {},
   "outputs": [
    {
     "name": "stdout",
     "output_type": "stream",
     "text": [
      "Mean: 0.49866789474863477\n",
      "Median: 0.30219945163808115\n",
      "Max Value: 4.523835959408648\n"
     ]
    }
   ],
   "source": [
    "#For Overall EV %:\n",
    "print(f\"Mean: {df_hist['Overall EV %'].mean()}\")\n",
    "print(f\"Median: {df_hist['Overall EV %'].median()}\")\n",
    "print(f\"Max Value: {df_hist['Overall EV %'].max()}\")"
   ]
  },
  {
   "cell_type": "markdown",
   "id": "a8be015f",
   "metadata": {},
   "source": [
    " - data indicates that there may be outliers to the right of the mean"
   ]
  },
  {
   "cell_type": "code",
   "execution_count": 18,
   "id": "23a59a7d",
   "metadata": {},
   "outputs": [
    {
     "name": "stderr",
     "output_type": "stream",
     "text": [
      "C:\\Users\\Caroline\\AppData\\Local\\Temp\\ipykernel_7944\\2144455789.py:2: UserWarning: \n",
      "\n",
      "`distplot` is a deprecated function and will be removed in seaborn v0.14.0.\n",
      "\n",
      "Please adapt your code to use either `displot` (a figure-level function with\n",
      "similar flexibility) or `histplot` (an axes-level function for histograms).\n",
      "\n",
      "For a guide to updating your code to use the new functions, please see\n",
      "https://gist.github.com/mwaskom/de44147ed2974457ad6372750bbe5751\n",
      "\n",
      "  sns.distplot(df_hist['Overall EV %'], bins=25)\n"
     ]
    },
    {
     "data": {
      "text/plain": [
       "<AxesSubplot:xlabel='Overall EV %', ylabel='Density'>"
      ]
     },
     "execution_count": 18,
     "metadata": {},
     "output_type": "execute_result"
    },
    {
     "data": {
      "image/png": "[encoded data removed]",
      "text/plain": [
       "<Figure size 640x480 with 1 Axes>"
      ]
     },
     "metadata": {},
     "output_type": "display_data"
    }
   ],
   "source": [
    "#plot a histogram of the Overall EV%\n",
    "sns.distplot(df_hist['Overall EV %'], bins=25)"
   ]
  },
  {
   "cell_type": "code",
   "execution_count": 19,
   "id": "599a6027",
   "metadata": {},
   "outputs": [
    {
     "data": {
      "image/png": "[encoded data removed]",
      "text/plain": [
       "<Figure size 640x480 with 1 Axes>"
      ]
     },
     "metadata": {},
     "output_type": "display_data"
    }
   ],
   "source": [
    "# Create a scatterplot using matplotlib for another look at how the chosen variables plot against each other.\n",
    "\n",
    "df_hist.plot(x = 'Date', y='Overall EV %',style='o') # The style option creates a scatterplot; without it, we only have lines.\n",
    "plt.title('Percent of EV registered between 2017-2023')  \n",
    "plt.xlabel('Date')  \n",
    "plt.ylabel('EV as percent of Total Vehicles')  \n",
    "plt.show()"
   ]
  },
  {
   "cell_type": "markdown",
   "id": "f855c325",
   "metadata": {},
   "source": [
    "# 4. Prepare the data for regression analysis"
   ]
  },
  {
   "cell_type": "code",
   "execution_count": 20,
   "id": "5a316186",
   "metadata": {},
   "outputs": [],
   "source": [
    "#  Extract year and month from the 'Date' column\n",
    "df_hist['Year'] = df_hist['Date'].dt.year\n",
    "df_hist['Month'] = df_hist['Date'].dt.month"
   ]
  },
  {
   "cell_type": "code",
   "execution_count": 21,
   "id": "3f40f88c",
   "metadata": {},
   "outputs": [],
   "source": [
    "# Convert 'Year' and 'Month' into a single number representing the time \n",
    "# Month is multiplied by 8.3 because 100/12 = 8.3333\n",
    "df_hist['Time'] = df_hist['Year'] * 100 + df_hist['Month'] *8.3"
   ]
  },
  {
   "cell_type": "code",
   "execution_count": 22,
   "id": "4d4e60ac",
   "metadata": {},
   "outputs": [],
   "source": [
    "#  Reshape the variables into NumPy arrays and put them into separate objects.\n",
    "\n",
    "X = df_hist['Time'].values.reshape(-1, 1)\n",
    "y = df_hist['Overall EV %'].values.reshape(-1, 1)"
   ]
  },
  {
   "cell_type": "code",
   "execution_count": 23,
   "id": "b73b59f6",
   "metadata": {},
   "outputs": [
    {
     "data": {
      "text/plain": [
       "array([[201708.3],\n",
       "       [201716.6],\n",
       "       [201724.9],\n",
       "       ...,\n",
       "       [202324.9],\n",
       "       [202333.2],\n",
       "       [202341.5]])"
      ]
     },
     "execution_count": 23,
     "metadata": {},
     "output_type": "execute_result"
    }
   ],
   "source": [
    "# Check X and y arrays\n",
    "X"
   ]
  },
  {
   "cell_type": "code",
   "execution_count": 24,
   "id": "99ee0126",
   "metadata": {},
   "outputs": [
    {
     "data": {
      "text/plain": [
       "array([[0.01159152],\n",
       "       [0.02325446],\n",
       "       [0.03491823],\n",
       "       ...,\n",
       "       [0.30842209],\n",
       "       [0.31731176],\n",
       "       [0.32998228]])"
      ]
     },
     "execution_count": 24,
     "metadata": {},
     "output_type": "execute_result"
    }
   ],
   "source": [
    "y"
   ]
  },
  {
   "cell_type": "markdown",
   "id": "561b9bee",
   "metadata": {},
   "source": [
    "# 5. Perform linear regression analysis"
   ]
  },
  {
   "cell_type": "code",
   "execution_count": 25,
   "id": "957adbc9",
   "metadata": {},
   "outputs": [],
   "source": [
    "# Split data into a training set and a test set.\n",
    "\n",
    "X_train, X_test, y_train, y_test = train_test_split(X, y, test_size=0.3, random_state=7)"
   ]
  },
  {
   "cell_type": "code",
   "execution_count": 26,
   "id": "c9cf8e07",
   "metadata": {},
   "outputs": [],
   "source": [
    "# Create a regression object, which will be fit onto the training set.\n",
    "regression = LinearRegression()  "
   ]
  },
  {
   "cell_type": "code",
   "execution_count": 27,
   "id": "b50172ff",
   "metadata": {},
   "outputs": [
    {
     "data": {
      "text/html": [
       "<style>#sk-container-id-1 {color: black;background-color: white;}#sk-container-id-1 pre{padding: 0;}#sk-container-id-1 div.sk-toggleable {background-color: white;}#sk-container-id-1 label.sk-toggleable__label {cursor: pointer;display: block;width: 100%;margin-bottom: 0;padding: 0.3em;box-sizing: border-box;text-align: center;}#sk-container-id-1 label.sk-toggleable__label-arrow:before {content: \"▸\";float: left;margin-right: 0.25em;color: #696969;}#sk-container-id-1 label.sk-toggleable__label-arrow:hover:before {color: black;}#sk-container-id-1 div.sk-estimator:hover label.sk-toggleable__label-arrow:before {color: black;}#sk-container-id-1 div.sk-toggleable__content {max-height: 0;max-width: 0;overflow: hidden;text-align: left;background-color: #f0f8ff;}#sk-container-id-1 div.sk-toggleable__content pre {margin: 0.2em;color: black;border-radius: 0.25em;background-color: #f0f8ff;}#sk-container-id-1 input.sk-toggleable__control:checked~div.sk-toggleable__content {max-height: 200px;max-width: 100%;overflow: auto;}#sk-container-id-1 input.sk-toggleable__control:checked~label.sk-toggleable__label-arrow:before {content: \"▾\";}#sk-container-id-1 div.sk-estimator input.sk-toggleable__control:checked~label.sk-toggleable__label {background-color: #d4ebff;}#sk-container-id-1 div.sk-label input.sk-toggleable__control:checked~label.sk-toggleable__label {background-color: #d4ebff;}#sk-container-id-1 input.sk-hidden--visually {border: 0;clip: rect(1px 1px 1px 1px);clip: rect(1px, 1px, 1px, 1px);height: 1px;margin: -1px;overflow: hidden;padding: 0;position: absolute;width: 1px;}#sk-container-id-1 div.sk-estimator {font-family: monospace;background-color: #f0f8ff;border: 1px dotted black;border-radius: 0.25em;box-sizing: border-box;margin-bottom: 0.5em;}#sk-container-id-1 div.sk-estimator:hover {background-color: #d4ebff;}#sk-container-id-1 div.sk-parallel-item::after {content: \"\";width: 100%;border-bottom: 1px solid gray;flex-grow: 1;}#sk-container-id-1 div.sk-label:hover label.sk-toggleable__label {background-color: #d4ebff;}#sk-container-id-1 div.sk-serial::before {content: \"\";position: absolute;border-left: 1px solid gray;box-sizing: border-box;top: 0;bottom: 0;left: 50%;z-index: 0;}#sk-container-id-1 div.sk-serial {display: flex;flex-direction: column;align-items: center;background-color: white;padding-right: 0.2em;padding-left: 0.2em;position: relative;}#sk-container-id-1 div.sk-item {position: relative;z-index: 1;}#sk-container-id-1 div.sk-parallel {display: flex;align-items: stretch;justify-content: center;background-color: white;position: relative;}#sk-container-id-1 div.sk-item::before, #sk-container-id-1 div.sk-parallel-item::before {content: \"\";position: absolute;border-left: 1px solid gray;box-sizing: border-box;top: 0;bottom: 0;left: 50%;z-index: -1;}#sk-container-id-1 div.sk-parallel-item {display: flex;flex-direction: column;z-index: 1;position: relative;background-color: white;}#sk-container-id-1 div.sk-parallel-item:first-child::after {align-self: flex-end;width: 50%;}#sk-container-id-1 div.sk-parallel-item:last-child::after {align-self: flex-start;width: 50%;}#sk-container-id-1 div.sk-parallel-item:only-child::after {width: 0;}#sk-container-id-1 div.sk-dashed-wrapped {border: 1px dashed gray;margin: 0 0.4em 0.5em 0.4em;box-sizing: border-box;padding-bottom: 0.4em;background-color: white;}#sk-container-id-1 div.sk-label label {font-family: monospace;font-weight: bold;display: inline-block;line-height: 1.2em;}#sk-container-id-1 div.sk-label-container {text-align: center;}#sk-container-id-1 div.sk-container {/* jupyter's `normalize.less` sets `[hidden] { display: none; }` but bootstrap.min.css set `[hidden] { display: none !important; }` so we also need the `!important` here to be able to override the default hidden behavior on the sphinx rendered scikit-learn.org. See: https://github.com/scikit-learn/scikit-learn/issues/21755 */display: inline-block !important;position: relative;}#sk-container-id-1 div.sk-text-repr-fallback {display: none;}</style><div id=\"sk-container-id-1\" class=\"sk-top-container\"><div class=\"sk-text-repr-fallback\"><pre>LinearRegression()</pre><b>In a Jupyter environment, please rerun this cell to show the HTML representation or trust the notebook. <br />On GitHub, the HTML representation is unable to render, please try loading this page with nbviewer.org.</b></div><div class=\"sk-container\" hidden><div class=\"sk-item\"><div class=\"sk-estimator sk-toggleable\"><input class=\"sk-toggleable__control sk-hidden--visually\" id=\"sk-estimator-id-1\" type=\"checkbox\" checked><label for=\"sk-estimator-id-1\" class=\"sk-toggleable__label sk-toggleable__label-arrow\">LinearRegression</label><div class=\"sk-toggleable__content\"><pre>LinearRegression()</pre></div></div></div></div></div>"
      ],
      "text/plain": [
       "LinearRegression()"
      ]
     },
     "execution_count": 27,
     "metadata": {},
     "output_type": "execute_result"
    }
   ],
   "source": [
    "# Fit the regression object onto the training set.\n",
    "\n",
    "regression.fit(X_train, y_train)"
   ]
  },
  {
   "cell_type": "code",
   "execution_count": 28,
   "id": "3680a7d5",
   "metadata": {},
   "outputs": [],
   "source": [
    "# Predict the values of y using X.\n",
    "\n",
    "y_predicted = regression.predict(X_test)"
   ]
  },
  {
   "cell_type": "code",
   "execution_count": 29,
   "id": "cb11fb18",
   "metadata": {},
   "outputs": [],
   "source": [
    "# Sort X_test and y_test based on the date for correct plotting\n",
    "sort_indices = X_test[:, 0].argsort()\n",
    "X_test_sorted = X_test[sort_indices]\n",
    "y_test_sorted = y_test[sort_indices]"
   ]
  },
  {
   "cell_type": "code",
   "execution_count": 30,
   "id": "02c6a24d",
   "metadata": {},
   "outputs": [
    {
     "data": {
      "image/png": "[encoded data removed]",
      "text/plain": [
       "<Figure size 640x480 with 1 Axes>"
      ]
     },
     "metadata": {},
     "output_type": "display_data"
    }
   ],
   "source": [
    "# Create a plot that shows the regression line from the model on the test set\n",
    "\n",
    "plot_test = plt\n",
    "plot_test.scatter(X_test_sorted[:, 0], y_test_sorted[:, 0], color='gray', s=15)\n",
    "plot_test.plot(X_test_sorted[:, 0], y_predicted, color='red', linewidth=3)\n",
    "plot_test.title('Percent of EV registered between 2017-2023 (Test set)')\n",
    "plot_test.xlabel('Date')\n",
    "plot_test.ylabel('EV as percent of Total Vehicles')\n",
    "plot_test.show()"
   ]
  },
  {
   "cell_type": "code",
   "execution_count": 31,
   "id": "30590fe9",
   "metadata": {},
   "outputs": [],
   "source": [
    "# Calculate mean squared error\n",
    "rmse = mean_squared_error(y_test, y_predicted)"
   ]
  },
  {
   "cell_type": "code",
   "execution_count": 32,
   "id": "bc27d0ec",
   "metadata": {},
   "outputs": [],
   "source": [
    "# Calculate R-squared\n",
    "r2_hyp2 = r2_score(y_test, y_predicted)"
   ]
  },
  {
   "cell_type": "code",
   "execution_count": 33,
   "id": "1fde01bb",
   "metadata": {},
   "outputs": [
    {
     "name": "stdout",
     "output_type": "stream",
     "text": [
      "Slope: [[0.00138199]]\n",
      "Mean squared error:  0.24602302570207996\n",
      "R2 score :  0.19061880940975895\n"
     ]
    }
   ],
   "source": [
    "# Print the model summary statistics to evaluate the performance of the model.\n",
    "\n",
    "print('Slope:' ,regression.coef_)\n",
    "print('Mean squared error: ', rmse)\n",
    "print('R2 score : ', r2_hyp2)"
   ]
  },
  {
   "cell_type": "code",
   "execution_count": 34,
   "id": "8cdc3777",
   "metadata": {},
   "outputs": [
    {
     "data": {
      "text/html": [
       "<div>\n",
       "<style scoped>\n",
       "    .dataframe tbody tr th:only-of-type {\n",
       "        vertical-align: middle;\n",
       "    }\n",
       "\n",
       "    .dataframe tbody tr th {\n",
       "        vertical-align: top;\n",
       "    }\n",
       "\n",
       "    .dataframe thead th {\n",
       "        text-align: right;\n",
       "    }\n",
       "</style>\n",
       "<table border=\"1\" class=\"dataframe\">\n",
       "  <thead>\n",
       "    <tr style=\"text-align: right;\">\n",
       "      <th></th>\n",
       "      <th>Actual</th>\n",
       "      <th>Predicted</th>\n",
       "    </tr>\n",
       "  </thead>\n",
       "  <tbody>\n",
       "    <tr>\n",
       "      <th>0</th>\n",
       "      <td>0.935340</td>\n",
       "      <td>0.803680</td>\n",
       "    </tr>\n",
       "    <tr>\n",
       "      <th>1</th>\n",
       "      <td>0.162134</td>\n",
       "      <td>0.573164</td>\n",
       "    </tr>\n",
       "    <tr>\n",
       "      <th>2</th>\n",
       "      <td>0.481609</td>\n",
       "      <td>0.205001</td>\n",
       "    </tr>\n",
       "    <tr>\n",
       "      <th>3</th>\n",
       "      <td>1.193697</td>\n",
       "      <td>0.699892</td>\n",
       "    </tr>\n",
       "    <tr>\n",
       "      <th>4</th>\n",
       "      <td>0.199760</td>\n",
       "      <td>0.308236</td>\n",
       "    </tr>\n",
       "    <tr>\n",
       "      <th>5</th>\n",
       "      <td>0.305344</td>\n",
       "      <td>0.918938</td>\n",
       "    </tr>\n",
       "    <tr>\n",
       "      <th>6</th>\n",
       "      <td>0.167514</td>\n",
       "      <td>0.654010</td>\n",
       "    </tr>\n",
       "    <tr>\n",
       "      <th>7</th>\n",
       "      <td>0.795165</td>\n",
       "      <td>0.688422</td>\n",
       "    </tr>\n",
       "    <tr>\n",
       "      <th>8</th>\n",
       "      <td>0.281778</td>\n",
       "      <td>0.366141</td>\n",
       "    </tr>\n",
       "    <tr>\n",
       "      <th>9</th>\n",
       "      <td>0.277478</td>\n",
       "      <td>0.135625</td>\n",
       "    </tr>\n",
       "    <tr>\n",
       "      <th>10</th>\n",
       "      <td>0.821702</td>\n",
       "      <td>0.584634</td>\n",
       "    </tr>\n",
       "    <tr>\n",
       "      <th>11</th>\n",
       "      <td>0.438147</td>\n",
       "      <td>0.676951</td>\n",
       "    </tr>\n",
       "    <tr>\n",
       "      <th>12</th>\n",
       "      <td>0.261989</td>\n",
       "      <td>0.181507</td>\n",
       "    </tr>\n",
       "    <tr>\n",
       "      <th>13</th>\n",
       "      <td>0.546026</td>\n",
       "      <td>0.170037</td>\n",
       "    </tr>\n",
       "    <tr>\n",
       "      <th>14</th>\n",
       "      <td>0.883864</td>\n",
       "      <td>0.907467</td>\n",
       "    </tr>\n",
       "    <tr>\n",
       "      <th>15</th>\n",
       "      <td>0.748299</td>\n",
       "      <td>0.665481</td>\n",
       "    </tr>\n",
       "    <tr>\n",
       "      <th>16</th>\n",
       "      <td>0.410925</td>\n",
       "      <td>0.688422</td>\n",
       "    </tr>\n",
       "    <tr>\n",
       "      <th>17</th>\n",
       "      <td>0.555917</td>\n",
       "      <td>0.861032</td>\n",
       "    </tr>\n",
       "    <tr>\n",
       "      <th>18</th>\n",
       "      <td>0.223527</td>\n",
       "      <td>0.780739</td>\n",
       "    </tr>\n",
       "    <tr>\n",
       "      <th>19</th>\n",
       "      <td>1.508985</td>\n",
       "      <td>0.826621</td>\n",
       "    </tr>\n",
       "    <tr>\n",
       "      <th>20</th>\n",
       "      <td>0.461744</td>\n",
       "      <td>0.803680</td>\n",
       "    </tr>\n",
       "    <tr>\n",
       "      <th>21</th>\n",
       "      <td>1.415552</td>\n",
       "      <td>0.412023</td>\n",
       "    </tr>\n",
       "    <tr>\n",
       "      <th>22</th>\n",
       "      <td>0.717758</td>\n",
       "      <td>0.469376</td>\n",
       "    </tr>\n",
       "    <tr>\n",
       "      <th>23</th>\n",
       "      <td>0.171990</td>\n",
       "      <td>0.607575</td>\n",
       "    </tr>\n",
       "    <tr>\n",
       "      <th>24</th>\n",
       "      <td>0.198192</td>\n",
       "      <td>0.734304</td>\n",
       "    </tr>\n",
       "    <tr>\n",
       "      <th>25</th>\n",
       "      <td>1.507520</td>\n",
       "      <td>0.849562</td>\n",
       "    </tr>\n",
       "    <tr>\n",
       "      <th>26</th>\n",
       "      <td>0.022292</td>\n",
       "      <td>0.066802</td>\n",
       "    </tr>\n",
       "    <tr>\n",
       "      <th>27</th>\n",
       "      <td>0.310976</td>\n",
       "      <td>0.596105</td>\n",
       "    </tr>\n",
       "    <tr>\n",
       "      <th>28</th>\n",
       "      <td>0.156641</td>\n",
       "      <td>0.262354</td>\n",
       "    </tr>\n",
       "    <tr>\n",
       "      <th>29</th>\n",
       "      <td>0.303472</td>\n",
       "      <td>0.262354</td>\n",
       "    </tr>\n",
       "  </tbody>\n",
       "</table>\n",
       "</div>"
      ],
      "text/plain": [
       "      Actual  Predicted\n",
       "0   0.935340   0.803680\n",
       "1   0.162134   0.573164\n",
       "2   0.481609   0.205001\n",
       "3   1.193697   0.699892\n",
       "4   0.199760   0.308236\n",
       "5   0.305344   0.918938\n",
       "6   0.167514   0.654010\n",
       "7   0.795165   0.688422\n",
       "8   0.281778   0.366141\n",
       "9   0.277478   0.135625\n",
       "10  0.821702   0.584634\n",
       "11  0.438147   0.676951\n",
       "12  0.261989   0.181507\n",
       "13  0.546026   0.170037\n",
       "14  0.883864   0.907467\n",
       "15  0.748299   0.665481\n",
       "16  0.410925   0.688422\n",
       "17  0.555917   0.861032\n",
       "18  0.223527   0.780739\n",
       "19  1.508985   0.826621\n",
       "20  0.461744   0.803680\n",
       "21  1.415552   0.412023\n",
       "22  0.717758   0.469376\n",
       "23  0.171990   0.607575\n",
       "24  0.198192   0.734304\n",
       "25  1.507520   0.849562\n",
       "26  0.022292   0.066802\n",
       "27  0.310976   0.596105\n",
       "28  0.156641   0.262354\n",
       "29  0.303472   0.262354"
      ]
     },
     "execution_count": 34,
     "metadata": {},
     "output_type": "execute_result"
    }
   ],
   "source": [
    "# Create a dataframe comparing the actual and predicted values of y.\n",
    "\n",
    "data = pd.DataFrame({'Actual': y_test.flatten(), 'Predicted': y_predicted.flatten()})\n",
    "data.head(30)"
   ]
  },
  {
   "cell_type": "markdown",
   "id": "c6bf940d",
   "metadata": {},
   "source": [
    "# 6. Visualize the results & reflect"
   ]
  },
  {
   "cell_type": "code",
   "execution_count": 35,
   "id": "b3eaa361",
   "metadata": {},
   "outputs": [
    {
     "name": "stdout",
     "output_type": "stream",
     "text": [
      "Slope: [[0.00138199]]\n",
      "Mean squared error: 0.26784357556225075\n",
      "R2 score: 0.1974079500842213\n"
     ]
    }
   ],
   "source": [
    "#Compare the regression to the training data\n",
    "y_predicted_train = regression.predict(X_train) # Use the y to predict the X value.\n",
    "rmse = mean_squared_error(y_train, y_predicted_train)\n",
    "r2 = r2_score(y_train, y_predicted_train)\n",
    "print('Slope:', regression.coef_)\n",
    "print('Mean squared error:', rmse)\n",
    "print('R2 score:', r2)"
   ]
  },
  {
   "cell_type": "code",
   "execution_count": 36,
   "id": "18750cff",
   "metadata": {},
   "outputs": [
    {
     "data": {
      "image/png": "[encoded data removed]",
      "text/plain": [
       "<Figure size 640x480 with 1 Axes>"
      ]
     },
     "metadata": {},
     "output_type": "display_data"
    }
   ],
   "source": [
    "# Visualizing the training set results.\n",
    "\n",
    "plot_test = plt\n",
    "plot_test.scatter(X_train, y_train, color='green', s = 15)\n",
    "plot_test.plot(X_train, y_predicted_train, color='red', linewidth =3)\n",
    "plot_test.title('Percent of EV registered between 2017-2023 (Train set)')\n",
    "plot_test.xlabel('Date - converted')\n",
    "plot_test.ylabel('EV as percent of Total Vehicles')\n",
    "plot_test.show()"
   ]
  },
  {
   "cell_type": "markdown",
   "id": "1dc820af",
   "metadata": {},
   "source": [
    "    The MSE is 0.26784357556225075 which indicates that, on average, the actual values deviate by approximately 0.26 percent from the predicted regression line. While this value seems small, however the dependent variable ranges between 0 to 4.12 percent and in that light the deviation is more significant. The data shows considerable variation, so while there is some accuracy to the model, some counties consistently deviate from the overall state average.\n",
    "\n",
    "    The R2 score is 0.1974079500842213 - which suggests that the model is not a great fit to descibe the data, and large portion of the variance in the data may be attributed to other factors. It appears that the model better represents the overall (unweighted) average increase in the percentage of EVs of total vehicles across the entire state of Washington, rather than accurately predicting the percentage of EVs in a particular county.\n",
    "\n",
    "    Possible methods to improve the model's performance: One option is to segment the data by individual counties or population density and create separate models for each group. This could account for regional variations and specific characteristics of different counties. Additionally, exploring alternative models beyond a simple linear regression line may lead to a better fit for the data."
   ]
  },
  {
   "cell_type": "markdown",
   "id": "319dca41",
   "metadata": {},
   "source": [
    "    Data Bias - since the data is drawn from governement sources I do not think there is much bias from undersampling or data collection methods or from missing data. There data suggests that there is an urban-rural divide in terms of EV adoption. There may also be socioeconomic factors influencing how likelly people in different areas buy electric vehicles.  "
   ]
  },
  {
   "cell_type": "code",
   "execution_count": null,
   "id": "2bd381d4",
   "metadata": {},
   "outputs": [],
   "source": []
  },
  {
   "cell_type": "code",
   "execution_count": null,
   "id": "ebd047b1",
   "metadata": {},
   "outputs": [],
   "source": []
  }
 ],
 "metadata": {
  "kernelspec": {
   "display_name": "Python 3 (ipykernel)",
   "language": "python",
   "name": "python3"
  },
  "language_info": {
   "codemirror_mode": {
    "name": "ipython",
    "version": 3
   },
   "file_extension": ".py",
   "mimetype": "text/x-python",
   "name": "python",
   "nbconvert_exporter": "python",
   "pygments_lexer": "ipython3",
   "version": "3.9.13"
  }
 },
 "nbformat": 4,
 "nbformat_minor": 5
}
