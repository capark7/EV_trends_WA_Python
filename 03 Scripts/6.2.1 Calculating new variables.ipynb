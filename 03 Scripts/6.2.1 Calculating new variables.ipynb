{
 "cells": [
  {
   "cell_type": "markdown",
   "id": "2f1a94e2",
   "metadata": {},
   "source": [
    "# 6.2 Calculating new variables"
   ]
  },
  {
   "cell_type": "markdown",
   "id": "5542f95d",
   "metadata": {},
   "source": [
    "- 1. Importing Libraries and Data\n",
    "- 2. Data Checking & Consistency\n",
    "    - 2a. Drop columns not for comparisons\n",
    "    - 2b. Adding new variables & calculations "
   ]
  },
  {
   "cell_type": "code",
   "execution_count": null,
   "id": "ed6b581e",
   "metadata": {},
   "outputs": [],
   "source": []
  },
  {
   "cell_type": "markdown",
   "id": "334084ad",
   "metadata": {},
   "source": [
    "## 1. Importing Libraries and Data"
   ]
  },
  {
   "cell_type": "code",
   "execution_count": 1,
   "id": "4012ed1a",
   "metadata": {},
   "outputs": [],
   "source": [
    "import pandas as pd\n",
    "import numpy as np\n",
    "import os"
   ]
  },
  {
   "cell_type": "code",
   "execution_count": 2,
   "id": "0f8122c8",
   "metadata": {},
   "outputs": [],
   "source": [
    "#Define path\n",
    "\n",
    "path = r'C:\\Users\\Caroline\\Documents\\Career Foundry\\06 2023 EVCS washington state'"
   ]
  },
  {
   "cell_type": "code",
   "execution_count": 3,
   "id": "c788b481",
   "metadata": {},
   "outputs": [],
   "source": [
    "# Import data\n",
    "\n",
    "df_station = pd.read_pickle(os.path.join(path, '02 Data', 'Prepared Data', 'EVCS.pkl'))"
   ]
  },
  {
   "cell_type": "code",
   "execution_count": 4,
   "id": "15a1c0b3",
   "metadata": {},
   "outputs": [],
   "source": [
    "df_ev_data = pd.read_pickle(os.path.join(path, '02 Data', 'Prepared Data', 'EV list.pkl'))"
   ]
  },
  {
   "cell_type": "code",
   "execution_count": 5,
   "id": "54995d7e",
   "metadata": {},
   "outputs": [],
   "source": [
    "df_ev_hist = pd.read_pickle(os.path.join(path, '02 Data', 'Prepared Data', 'EV sales hist.pkl'))"
   ]
  },
  {
   "cell_type": "code",
   "execution_count": 6,
   "id": "7d892ad3",
   "metadata": {},
   "outputs": [],
   "source": [
    "df_pop = pd.read_pickle(os.path.join(path, '02 Data', 'Prepared Data', 'County pop.pkl'))"
   ]
  },
  {
   "cell_type": "code",
   "execution_count": 7,
   "id": "6861edf4",
   "metadata": {},
   "outputs": [],
   "source": [
    "df_city = pd.read_pickle(os.path.join(path, '02 Data', 'Prepared Data', 'WA cities.pkl'))"
   ]
  },
  {
   "cell_type": "code",
   "execution_count": 8,
   "id": "b1b94e03",
   "metadata": {},
   "outputs": [],
   "source": [
    "df_popdensity = pd.read_csv(os.path.join(path, '02 Data', 'Original Data', 'ruca2010revised.csv'))"
   ]
  },
  {
   "cell_type": "code",
   "execution_count": 9,
   "id": "ed8add0a",
   "metadata": {},
   "outputs": [
    {
     "data": {
      "text/plain": [
       "(134726, 11)"
      ]
     },
     "execution_count": 9,
     "metadata": {},
     "output_type": "execute_result"
    }
   ],
   "source": [
    "#check shape of imported data\n",
    "df_ev_data.shape"
   ]
  },
  {
   "cell_type": "code",
   "execution_count": 10,
   "id": "1f33b15e",
   "metadata": {},
   "outputs": [
    {
     "data": {
      "text/plain": [
       "(1900, 22)"
      ]
     },
     "execution_count": 10,
     "metadata": {},
     "output_type": "execute_result"
    }
   ],
   "source": [
    "#check shape of imported data\n",
    "df_station.shape"
   ]
  },
  {
   "cell_type": "code",
   "execution_count": 11,
   "id": "76e4f004",
   "metadata": {},
   "outputs": [
    {
     "name": "stdout",
     "output_type": "stream",
     "text": [
      "<class 'pandas.core.frame.DataFrame'>\n",
      "Int64Index: 1900 entries, 0 to 1899\n",
      "Data columns (total 22 columns):\n",
      " #   Column               Non-Null Count  Dtype         \n",
      "---  ------               --------------  -----         \n",
      " 0   ID                   1900 non-null   object        \n",
      " 1   Station Name         1900 non-null   object        \n",
      " 2   City                 1900 non-null   object        \n",
      " 3   County               1900 non-null   object        \n",
      " 4   Latitude             1900 non-null   float64       \n",
      " 5   Longitude            1900 non-null   float64       \n",
      " 6   EV Level1            1900 non-null   int8          \n",
      " 7   EV Level2            1900 non-null   int8          \n",
      " 8   EV Level3            1900 non-null   int8          \n",
      " 9   Open Date            1900 non-null   object        \n",
      " 10  EV Network           1900 non-null   object        \n",
      " 11  Restricted Access    267 non-null    object        \n",
      " 12  EV Pricing           542 non-null    object        \n",
      " 13  EV Connector Types   1900 non-null   object        \n",
      " 14  EV_Connect NEMA515   1900 non-null   bool          \n",
      " 15  EV_Connect NEMA520   1900 non-null   bool          \n",
      " 16  EV_Connect NEMA1450  1900 non-null   bool          \n",
      " 17  EV_Connect CCS       1900 non-null   bool          \n",
      " 18  EV_Connect CHADEMO   1900 non-null   bool          \n",
      " 19  EV_Connect TESLA     1900 non-null   bool          \n",
      " 20  EV_Connect J1772     1900 non-null   bool          \n",
      " 21  Open Date2           1900 non-null   datetime64[ns]\n",
      "dtypes: bool(7), datetime64[ns](1), float64(2), int8(3), object(9)\n",
      "memory usage: 211.5+ KB\n"
     ]
    }
   ],
   "source": [
    "df_station.info()"
   ]
  },
  {
   "cell_type": "code",
   "execution_count": 12,
   "id": "b48a1823",
   "metadata": {},
   "outputs": [
    {
     "data": {
      "text/plain": [
       "(6006, 9)"
      ]
     },
     "execution_count": 12,
     "metadata": {},
     "output_type": "execute_result"
    }
   ],
   "source": [
    "#check shape of imported data\n",
    "df_ev_hist.shape"
   ]
  },
  {
   "cell_type": "code",
   "execution_count": 13,
   "id": "d89152b8",
   "metadata": {},
   "outputs": [
    {
     "data": {
      "text/plain": [
       "(281, 5)"
      ]
     },
     "execution_count": 13,
     "metadata": {},
     "output_type": "execute_result"
    }
   ],
   "source": [
    "#check shape of imported data\n",
    "df_city.shape"
   ]
  },
  {
   "cell_type": "code",
   "execution_count": 14,
   "id": "c1e54daa",
   "metadata": {},
   "outputs": [
    {
     "data": {
      "text/plain": [
       "(39, 7)"
      ]
     },
     "execution_count": 14,
     "metadata": {},
     "output_type": "execute_result"
    }
   ],
   "source": [
    "#check shape of imported data\n",
    "df_pop.shape"
   ]
  },
  {
   "cell_type": "code",
   "execution_count": 15,
   "id": "4ec584f1",
   "metadata": {},
   "outputs": [
    {
     "data": {
      "text/plain": [
       "(1458, 8)"
      ]
     },
     "execution_count": 15,
     "metadata": {},
     "output_type": "execute_result"
    }
   ],
   "source": [
    "#check shape of imported data\n",
    "df_popdensity.shape"
   ]
  },
  {
   "cell_type": "code",
   "execution_count": null,
   "id": "69b85a0e",
   "metadata": {},
   "outputs": [],
   "source": []
  },
  {
   "cell_type": "markdown",
   "id": "47871027",
   "metadata": {},
   "source": [
    "## 2. Data Checking and Consistency"
   ]
  },
  {
   "cell_type": "code",
   "execution_count": 16,
   "id": "d8495472",
   "metadata": {},
   "outputs": [
    {
     "name": "stdout",
     "output_type": "stream",
     "text": [
      "<class 'pandas.core.frame.DataFrame'>\n",
      "RangeIndex: 1458 entries, 0 to 1457\n",
      "Data columns (total 8 columns):\n",
      " #   Column       Non-Null Count  Dtype  \n",
      "---  ------       --------------  -----  \n",
      " 0   FIPS Code    1458 non-null   int64  \n",
      " 1   State        1458 non-null   object \n",
      " 2   do_not_use   1458 non-null   object \n",
      " 3   County       1458 non-null   object \n",
      " 4   RUCA code    1458 non-null   int64  \n",
      " 5   Tract Pop    1458 non-null   int64  \n",
      " 6   Area sq mi   1458 non-null   float64\n",
      " 7   Pop Density  1446 non-null   float64\n",
      "dtypes: float64(2), int64(3), object(3)\n",
      "memory usage: 91.2+ KB\n"
     ]
    }
   ],
   "source": [
    "# checking df_popdensity\n",
    "df_popdensity.info()"
   ]
  },
  {
   "cell_type": "code",
   "execution_count": 17,
   "id": "9f58bc02",
   "metadata": {},
   "outputs": [],
   "source": [
    "# Group by 'County' and calculate sum of columns Tract Pop and Area\n",
    "df_grouped = df_popdensity.groupby('County').agg({'Tract Pop': 'sum', 'Area sq mi': 'sum'}).reset_index()"
   ]
  },
  {
   "cell_type": "code",
   "execution_count": 18,
   "id": "9a5238e4",
   "metadata": {},
   "outputs": [],
   "source": [
    "#Rename 'Tract Pop' for clarity\n",
    "df_popdensity2 = df_grouped.rename(columns={'Tract Pop': 'CtyPop2010'})"
   ]
  },
  {
   "cell_type": "code",
   "execution_count": 19,
   "id": "1da09bf5",
   "metadata": {},
   "outputs": [],
   "source": [
    "#Check the 2010 County population from the RUCA dataset against the 2010 County population from the population dataset\n",
    "compare2010pop = df_pop['CountyPop_10'] - df_popdensity2['CtyPop2010']"
   ]
  },
  {
   "cell_type": "code",
   "execution_count": 20,
   "id": "c84b015a",
   "metadata": {},
   "outputs": [
    {
     "data": {
      "text/plain": [
       "0     0\n",
       "1     0\n",
       "2     0\n",
       "3     0\n",
       "4     0\n",
       "5     0\n",
       "6     0\n",
       "7     0\n",
       "8     0\n",
       "9     0\n",
       "10    0\n",
       "11    0\n",
       "12    0\n",
       "13    0\n",
       "14    0\n",
       "15    0\n",
       "16    0\n",
       "17    0\n",
       "18    0\n",
       "19    0\n",
       "20    0\n",
       "21    0\n",
       "22    0\n",
       "23    0\n",
       "24    0\n",
       "25    0\n",
       "26    0\n",
       "27    0\n",
       "28    0\n",
       "29    0\n",
       "30    0\n",
       "31    0\n",
       "32    0\n",
       "33    0\n",
       "34    0\n",
       "35    0\n",
       "36    0\n",
       "37    0\n",
       "38    0\n",
       "dtype: int64"
      ]
     },
     "execution_count": 20,
     "metadata": {},
     "output_type": "execute_result"
    }
   ],
   "source": [
    "compare2010pop"
   ]
  },
  {
   "cell_type": "markdown",
   "id": "1e8e36f6",
   "metadata": {},
   "source": [
    "### 2a. Dropping columns"
   ]
  },
  {
   "cell_type": "code",
   "execution_count": 21,
   "id": "c1d0f29c",
   "metadata": {},
   "outputs": [],
   "source": [
    "#Drop columns not necessary \n",
    "df_station = df_station.drop(columns = ['ID', 'Open Date', 'EV Network', 'Restricted Access', 'EV Pricing', 'EV Connector Types', 'EV_Connect NEMA515', 'EV_Connect NEMA520', 'EV_Connect NEMA1450', 'EV_Connect CCS', 'EV_Connect CHADEMO', 'EV_Connect TESLA', 'EV_Connect J1772' ])"
   ]
  },
  {
   "cell_type": "code",
   "execution_count": 22,
   "id": "fc284803",
   "metadata": {},
   "outputs": [
    {
     "data": {
      "text/html": [
       "<div>\n",
       "<style scoped>\n",
       "    .dataframe tbody tr th:only-of-type {\n",
       "        vertical-align: middle;\n",
       "    }\n",
       "\n",
       "    .dataframe tbody tr th {\n",
       "        vertical-align: top;\n",
       "    }\n",
       "\n",
       "    .dataframe thead th {\n",
       "        text-align: right;\n",
       "    }\n",
       "</style>\n",
       "<table border=\"1\" class=\"dataframe\">\n",
       "  <thead>\n",
       "    <tr style=\"text-align: right;\">\n",
       "      <th></th>\n",
       "      <th>Station Name</th>\n",
       "      <th>City</th>\n",
       "      <th>County</th>\n",
       "      <th>Latitude</th>\n",
       "      <th>Longitude</th>\n",
       "      <th>EV Level1</th>\n",
       "      <th>EV Level2</th>\n",
       "      <th>EV Level3</th>\n",
       "      <th>Open Date2</th>\n",
       "    </tr>\n",
       "  </thead>\n",
       "  <tbody>\n",
       "    <tr>\n",
       "      <th>0</th>\n",
       "      <td>Aberdeen, WA - Tesla Supercharger</td>\n",
       "      <td>Aberdeen</td>\n",
       "      <td>Grays Harbor</td>\n",
       "      <td>46.976679</td>\n",
       "      <td>-123.813485</td>\n",
       "      <td>0</td>\n",
       "      <td>0</td>\n",
       "      <td>8</td>\n",
       "      <td>2017-01-15</td>\n",
       "    </tr>\n",
       "    <tr>\n",
       "      <th>1</th>\n",
       "      <td>Walmart 2037 (Aberdeen, WA)</td>\n",
       "      <td>Aberdeen</td>\n",
       "      <td>Grays Harbor</td>\n",
       "      <td>46.976420</td>\n",
       "      <td>-123.807080</td>\n",
       "      <td>0</td>\n",
       "      <td>0</td>\n",
       "      <td>4</td>\n",
       "      <td>2021-07-03</td>\n",
       "    </tr>\n",
       "    <tr>\n",
       "      <th>2</th>\n",
       "      <td>415 West Heron Street (US-3HE-7VZ-1A)</td>\n",
       "      <td>Aberdeen</td>\n",
       "      <td>Grays Harbor</td>\n",
       "      <td>46.970800</td>\n",
       "      <td>-123.821380</td>\n",
       "      <td>0</td>\n",
       "      <td>0</td>\n",
       "      <td>1</td>\n",
       "      <td>2023-01-16</td>\n",
       "    </tr>\n",
       "    <tr>\n",
       "      <th>3</th>\n",
       "      <td>415 West Heron Street (US-3HE-7VZ-1B)</td>\n",
       "      <td>Aberdeen</td>\n",
       "      <td>Grays Harbor</td>\n",
       "      <td>46.971140</td>\n",
       "      <td>-123.820991</td>\n",
       "      <td>0</td>\n",
       "      <td>0</td>\n",
       "      <td>1</td>\n",
       "      <td>2023-01-16</td>\n",
       "    </tr>\n",
       "    <tr>\n",
       "      <th>4</th>\n",
       "      <td>415 West Heron Street (US-3HE-7VZ-2A)</td>\n",
       "      <td>Aberdeen</td>\n",
       "      <td>Grays Harbor</td>\n",
       "      <td>46.971140</td>\n",
       "      <td>-123.820990</td>\n",
       "      <td>0</td>\n",
       "      <td>0</td>\n",
       "      <td>1</td>\n",
       "      <td>2023-01-16</td>\n",
       "    </tr>\n",
       "  </tbody>\n",
       "</table>\n",
       "</div>"
      ],
      "text/plain": [
       "                            Station Name      City        County   Latitude  \\\n",
       "0      Aberdeen, WA - Tesla Supercharger  Aberdeen  Grays Harbor  46.976679   \n",
       "1            Walmart 2037 (Aberdeen, WA)  Aberdeen  Grays Harbor  46.976420   \n",
       "2  415 West Heron Street (US-3HE-7VZ-1A)  Aberdeen  Grays Harbor  46.970800   \n",
       "3  415 West Heron Street (US-3HE-7VZ-1B)  Aberdeen  Grays Harbor  46.971140   \n",
       "4  415 West Heron Street (US-3HE-7VZ-2A)  Aberdeen  Grays Harbor  46.971140   \n",
       "\n",
       "    Longitude  EV Level1  EV Level2  EV Level3 Open Date2  \n",
       "0 -123.813485          0          0          8 2017-01-15  \n",
       "1 -123.807080          0          0          4 2021-07-03  \n",
       "2 -123.821380          0          0          1 2023-01-16  \n",
       "3 -123.820991          0          0          1 2023-01-16  \n",
       "4 -123.820990          0          0          1 2023-01-16  "
      ]
     },
     "execution_count": 22,
     "metadata": {},
     "output_type": "execute_result"
    }
   ],
   "source": [
    "# checking df_station\n",
    "df_station.head()"
   ]
  },
  {
   "cell_type": "code",
   "execution_count": 23,
   "id": "922020e1",
   "metadata": {},
   "outputs": [],
   "source": [
    "#Drop columns not necessary for numerical comparisons\n",
    "df_ev_data = df_ev_data.drop(columns = ['City', 'Model', 'Model Year', 'Make', 'CAFV Eligibility', 'Electric Range', 'Longitude', 'Latitude'])"
   ]
  },
  {
   "cell_type": "code",
   "execution_count": 24,
   "id": "5be1bb77",
   "metadata": {},
   "outputs": [
    {
     "data": {
      "text/html": [
       "<div>\n",
       "<style scoped>\n",
       "    .dataframe tbody tr th:only-of-type {\n",
       "        vertical-align: middle;\n",
       "    }\n",
       "\n",
       "    .dataframe tbody tr th {\n",
       "        vertical-align: top;\n",
       "    }\n",
       "\n",
       "    .dataframe thead th {\n",
       "        text-align: right;\n",
       "    }\n",
       "</style>\n",
       "<table border=\"1\" class=\"dataframe\">\n",
       "  <thead>\n",
       "    <tr style=\"text-align: right;\">\n",
       "      <th></th>\n",
       "      <th>Index</th>\n",
       "      <th>County</th>\n",
       "      <th>Electric Vehicle Type</th>\n",
       "    </tr>\n",
       "  </thead>\n",
       "  <tbody>\n",
       "    <tr>\n",
       "      <th>0</th>\n",
       "      <td>0</td>\n",
       "      <td>Thurston</td>\n",
       "      <td>BEV</td>\n",
       "    </tr>\n",
       "    <tr>\n",
       "      <th>1</th>\n",
       "      <td>1</td>\n",
       "      <td>Island</td>\n",
       "      <td>BEV</td>\n",
       "    </tr>\n",
       "    <tr>\n",
       "      <th>2</th>\n",
       "      <td>2</td>\n",
       "      <td>Snohomish</td>\n",
       "      <td>BEV</td>\n",
       "    </tr>\n",
       "    <tr>\n",
       "      <th>3</th>\n",
       "      <td>3</td>\n",
       "      <td>King</td>\n",
       "      <td>BEV</td>\n",
       "    </tr>\n",
       "    <tr>\n",
       "      <th>4</th>\n",
       "      <td>4</td>\n",
       "      <td>Snohomish</td>\n",
       "      <td>BEV</td>\n",
       "    </tr>\n",
       "  </tbody>\n",
       "</table>\n",
       "</div>"
      ],
      "text/plain": [
       "  Index     County Electric Vehicle Type\n",
       "0     0   Thurston                   BEV\n",
       "1     1     Island                   BEV\n",
       "2     2  Snohomish                   BEV\n",
       "3     3       King                   BEV\n",
       "4     4  Snohomish                   BEV"
      ]
     },
     "execution_count": 24,
     "metadata": {},
     "output_type": "execute_result"
    }
   ],
   "source": [
    "# check the dataframe\n",
    "df_ev_data.head()"
   ]
  },
  {
   "cell_type": "code",
   "execution_count": 25,
   "id": "d1653cf3",
   "metadata": {},
   "outputs": [
    {
     "name": "stdout",
     "output_type": "stream",
     "text": [
      "<class 'pandas.core.frame.DataFrame'>\n",
      "Int64Index: 134726 entries, 0 to 134725\n",
      "Data columns (total 3 columns):\n",
      " #   Column                 Non-Null Count   Dtype \n",
      "---  ------                 --------------   ----- \n",
      " 0   Index                  134726 non-null  object\n",
      " 1   County                 134726 non-null  object\n",
      " 2   Electric Vehicle Type  134726 non-null  object\n",
      "dtypes: object(3)\n",
      "memory usage: 4.1+ MB\n"
     ]
    }
   ],
   "source": [
    "df_ev_data.info()"
   ]
  },
  {
   "cell_type": "code",
   "execution_count": 26,
   "id": "13bc2030",
   "metadata": {},
   "outputs": [],
   "source": [
    "#Group df_ev_hist by Date and County for total EV registered each month\n",
    "df_ev_total_hist = df_ev_hist.groupby(['Date', 'County']).sum().reset_index() "
   ]
  },
  {
   "cell_type": "code",
   "execution_count": 27,
   "id": "08ed1ac2",
   "metadata": {},
   "outputs": [],
   "source": [
    "#Drop column Percent EV\n",
    "df_ev_total_hist = df_ev_total_hist.drop(columns = ['Percent EV'])"
   ]
  },
  {
   "cell_type": "code",
   "execution_count": 28,
   "id": "4af428f1",
   "metadata": {},
   "outputs": [
    {
     "name": "stdout",
     "output_type": "stream",
     "text": [
      "<class 'pandas.core.frame.DataFrame'>\n",
      "RangeIndex: 3003 entries, 0 to 3002\n",
      "Data columns (total 7 columns):\n",
      " #   Column          Non-Null Count  Dtype \n",
      "---  ------          --------------  ----- \n",
      " 0   Date            3003 non-null   object\n",
      " 1   County          3003 non-null   object\n",
      " 2   BEV Registered  3003 non-null   int64 \n",
      " 3   PHEV Registerd  3003 non-null   int64 \n",
      " 4   EV Total        3003 non-null   int64 \n",
      " 5   Non-EV Total    3003 non-null   int64 \n",
      " 6   Total Vehicles  3003 non-null   int64 \n",
      "dtypes: int64(5), object(2)\n",
      "memory usage: 164.4+ KB\n"
     ]
    }
   ],
   "source": [
    "# check the dataframe\n",
    "df_ev_total_hist.info()"
   ]
  },
  {
   "cell_type": "code",
   "execution_count": null,
   "id": "185f37f3",
   "metadata": {},
   "outputs": [],
   "source": []
  },
  {
   "cell_type": "markdown",
   "id": "32f188a6",
   "metadata": {},
   "source": [
    "### 2b. Adding new variables & calculations"
   ]
  },
  {
   "cell_type": "code",
   "execution_count": 29,
   "id": "cbc4ad32",
   "metadata": {},
   "outputs": [],
   "source": [
    "# Merge df_popdensity and df_pop. Indicator = true to check if data is present in both dataframes \n",
    "df_pop = df_pop.merge(df_popdensity2, on = 'County', how='right', indicator = True)"
   ]
  },
  {
   "cell_type": "code",
   "execution_count": 30,
   "id": "12cd67e1",
   "metadata": {},
   "outputs": [
    {
     "data": {
      "text/plain": [
       "both          39\n",
       "left_only      0\n",
       "right_only     0\n",
       "Name: _merge, dtype: int64"
      ]
     },
     "execution_count": 30,
     "metadata": {},
     "output_type": "execute_result"
    }
   ],
   "source": [
    "# Check value count for '_merge' column\n",
    "df_pop['_merge'].value_counts()"
   ]
  },
  {
   "cell_type": "code",
   "execution_count": 31,
   "id": "0bca40fc",
   "metadata": {},
   "outputs": [],
   "source": [
    "#Calculate the population density of WA counties in people per square miles with Census 2020 data\n",
    "df_pop['popdensity'] = df_pop['CountyPop_20'] / df_pop['Area sq mi']"
   ]
  },
  {
   "cell_type": "code",
   "execution_count": 32,
   "id": "2ef2bfd0",
   "metadata": {},
   "outputs": [],
   "source": [
    "#Drop column '_merge', 'County_Rural_Urban_Code', and 'CtyPop2010' \n",
    "df_pop = df_pop.drop(columns = ['_merge', 'County_Rural_Urban_Code', 'CtyPop2010'])"
   ]
  },
  {
   "cell_type": "code",
   "execution_count": 33,
   "id": "dbe86bd7",
   "metadata": {},
   "outputs": [
    {
     "data": {
      "image/png": "[encoded data removed]",
      "text/plain": [
       "<Figure size 640x480 with 1 Axes>"
      ]
     },
     "metadata": {},
     "output_type": "display_data"
    }
   ],
   "source": [
    "# histogram of Population density \n",
    "hist_density = df_pop['popdensity'].plot.hist(bins = 9)"
   ]
  },
  {
   "cell_type": "code",
   "execution_count": 34,
   "id": "c5f4ed27",
   "metadata": {},
   "outputs": [],
   "source": [
    "#Create a flag based on the population density to determine if a county is high-density () / medium-density ()\n",
    "# or low-density ()\n",
    "\n",
    "df_pop.loc[df_pop['popdensity'] > 500, 'density flag'] = 'high density'\n",
    "\n",
    "df_pop.loc[df_pop['popdensity'] < 100 , 'density flag'] = 'low density'\n",
    "\n",
    "df_pop.loc[(df_pop['popdensity'] >= 100) & (df_pop['popdensity'] <= 500), 'density flag'] = 'medium density'\n",
    "\n",
    "df_pop.loc[df_pop['County'] == 'Island', 'density flag'] = 'low density'"
   ]
  },
  {
   "cell_type": "markdown",
   "id": "9db2aec3",
   "metadata": {},
   "source": [
    "Island County, WA, has a area (sq mi) < 225, and the State of Washington classifies a rural county based on a population less than 100 persons per square mile OR a county smaller than 225 square miles. 'Low density' is being used in this case to estimate rural counties."
   ]
  },
  {
   "cell_type": "code",
   "execution_count": 35,
   "id": "b239e283",
   "metadata": {},
   "outputs": [],
   "source": [
    "density_flags = df_pop.groupby('County')['density flag'].unique()\n"
   ]
  },
  {
   "cell_type": "code",
   "execution_count": 36,
   "id": "36285a14",
   "metadata": {},
   "outputs": [
    {
     "name": "stdout",
     "output_type": "stream",
     "text": [
      "County: Adams\n",
      "Density Flags: ['low density']\n",
      "\n",
      "County: Asotin\n",
      "Density Flags: ['low density']\n",
      "\n",
      "County: Benton\n",
      "Density Flags: ['medium density']\n",
      "\n",
      "County: Chelan\n",
      "Density Flags: ['low density']\n",
      "\n",
      "County: Clallam\n",
      "Density Flags: ['low density']\n",
      "\n",
      "County: Clark\n",
      "Density Flags: ['high density']\n",
      "\n",
      "County: Columbia\n",
      "Density Flags: ['low density']\n",
      "\n",
      "County: Cowlitz\n",
      "Density Flags: ['low density']\n",
      "\n",
      "County: Douglas\n",
      "Density Flags: ['low density']\n",
      "\n",
      "County: Ferry\n",
      "Density Flags: ['low density']\n",
      "\n",
      "County: Franklin\n",
      "Density Flags: ['low density']\n",
      "\n",
      "County: Garfield\n",
      "Density Flags: ['low density']\n",
      "\n",
      "County: Grant\n",
      "Density Flags: ['low density']\n",
      "\n",
      "County: Grays Harbor\n",
      "Density Flags: ['low density']\n",
      "\n",
      "County: Island\n",
      "Density Flags: ['low density']\n",
      "\n",
      "County: Jefferson\n",
      "Density Flags: ['low density']\n",
      "\n",
      "County: King\n",
      "Density Flags: ['high density']\n",
      "\n",
      "County: Kitsap\n",
      "Density Flags: ['high density']\n",
      "\n",
      "County: Kittitas\n",
      "Density Flags: ['low density']\n",
      "\n",
      "County: Klickitat\n",
      "Density Flags: ['low density']\n",
      "\n",
      "County: Lewis\n",
      "Density Flags: ['low density']\n",
      "\n",
      "County: Lincoln\n",
      "Density Flags: ['low density']\n",
      "\n",
      "County: Mason\n",
      "Density Flags: ['low density']\n",
      "\n",
      "County: Okanogan\n",
      "Density Flags: ['low density']\n",
      "\n",
      "County: Pacific\n",
      "Density Flags: ['low density']\n",
      "\n",
      "County: Pend Oreille\n",
      "Density Flags: ['low density']\n",
      "\n",
      "County: Pierce\n",
      "Density Flags: ['high density']\n",
      "\n",
      "County: San Juan\n",
      "Density Flags: ['medium density']\n",
      "\n",
      "County: Skagit\n",
      "Density Flags: ['low density']\n",
      "\n",
      "County: Skamania\n",
      "Density Flags: ['low density']\n",
      "\n",
      "County: Snohomish\n",
      "Density Flags: ['medium density']\n",
      "\n",
      "County: Spokane\n",
      "Density Flags: ['medium density']\n",
      "\n",
      "County: Stevens\n",
      "Density Flags: ['low density']\n",
      "\n",
      "County: Thurston\n",
      "Density Flags: ['medium density']\n",
      "\n",
      "County: Wahkiakum\n",
      "Density Flags: ['low density']\n",
      "\n",
      "County: Walla Walla\n",
      "Density Flags: ['low density']\n",
      "\n",
      "County: Whatcom\n",
      "Density Flags: ['medium density']\n",
      "\n",
      "County: Whitman\n",
      "Density Flags: ['low density']\n",
      "\n",
      "County: Yakima\n",
      "Density Flags: ['low density']\n",
      "\n"
     ]
    }
   ],
   "source": [
    "for county, flags in density_flags.items():\n",
    "    print(f\"County: {county}\")\n",
    "    print(f\"Density Flags: {flags}\")\n",
    "    print()"
   ]
  },
  {
   "cell_type": "markdown",
   "id": "99d478c2",
   "metadata": {},
   "source": [
    "- County population changes"
   ]
  },
  {
   "cell_type": "code",
   "execution_count": 37,
   "id": "e2ac197d",
   "metadata": {},
   "outputs": [],
   "source": [
    "# population change calculations\n",
    "\n",
    "df_pop['00-20 popchange'] = df_pop['CountyPop_20'] - df_pop['CountyPop_00']\n",
    "df_pop['20-22 popchange'] = df_pop['CountyPop_22'] - df_pop['CountyPop_20']"
   ]
  },
  {
   "cell_type": "markdown",
   "id": "884ecf12",
   "metadata": {},
   "source": [
    "- EV Charging Stations plus county information & population density"
   ]
  },
  {
   "cell_type": "code",
   "execution_count": 38,
   "id": "3c455894",
   "metadata": {},
   "outputs": [],
   "source": [
    "# Number of EVCS by County\n",
    "\n",
    "df_station['evcs_sum'] = df_station.groupby('County')['Station Name'].transform('count')"
   ]
  },
  {
   "cell_type": "code",
   "execution_count": 39,
   "id": "5a072ffc",
   "metadata": {},
   "outputs": [],
   "source": [
    "# Number of Level 3 chargers by county\n",
    "df_station['L3cs_sum_county'] = df_station.groupby('County')['EV Level3'].transform('sum')"
   ]
  },
  {
   "cell_type": "code",
   "execution_count": 40,
   "id": "cf28f2b9",
   "metadata": {},
   "outputs": [],
   "source": [
    "#Add a column with boolean value for the presence of a Level3 port at the charging station\n",
    "df_station['L3port present'] = df_station['EV Level3'] != 0"
   ]
  },
  {
   "cell_type": "code",
   "execution_count": 41,
   "id": "cf989076",
   "metadata": {},
   "outputs": [],
   "source": [
    "# Merge df_station and df_pop. Indicator = true to check if data is present in both dataframes \n",
    "df_station = df_station.merge(df_pop, on = 'County', how='right', indicator = True)"
   ]
  },
  {
   "cell_type": "code",
   "execution_count": 42,
   "id": "d83fe06e",
   "metadata": {},
   "outputs": [
    {
     "data": {
      "text/plain": [
       "both          1900\n",
       "right_only       2\n",
       "left_only        0\n",
       "Name: _merge, dtype: int64"
      ]
     },
     "execution_count": 42,
     "metadata": {},
     "output_type": "execute_result"
    }
   ],
   "source": [
    "# Check value count for '_merge' column\n",
    "df_station['_merge'].value_counts()"
   ]
  },
  {
   "cell_type": "code",
   "execution_count": 43,
   "id": "630b1a17",
   "metadata": {},
   "outputs": [],
   "source": [
    "test = df_station[df_station['_merge'] == 'right_only']"
   ]
  },
  {
   "cell_type": "code",
   "execution_count": 44,
   "id": "d31f394f",
   "metadata": {},
   "outputs": [
    {
     "data": {
      "text/html": [
       "<div>\n",
       "<style scoped>\n",
       "    .dataframe tbody tr th:only-of-type {\n",
       "        vertical-align: middle;\n",
       "    }\n",
       "\n",
       "    .dataframe tbody tr th {\n",
       "        vertical-align: top;\n",
       "    }\n",
       "\n",
       "    .dataframe thead th {\n",
       "        text-align: right;\n",
       "    }\n",
       "</style>\n",
       "<table border=\"1\" class=\"dataframe\">\n",
       "  <thead>\n",
       "    <tr style=\"text-align: right;\">\n",
       "      <th></th>\n",
       "      <th>Station Name</th>\n",
       "      <th>City</th>\n",
       "      <th>County</th>\n",
       "      <th>Latitude</th>\n",
       "      <th>Longitude</th>\n",
       "      <th>EV Level1</th>\n",
       "      <th>EV Level2</th>\n",
       "      <th>EV Level3</th>\n",
       "      <th>Open Date2</th>\n",
       "      <th>evcs_sum</th>\n",
       "      <th>...</th>\n",
       "      <th>CountyPop_00</th>\n",
       "      <th>CountyPop_10</th>\n",
       "      <th>CountyPop_20</th>\n",
       "      <th>CountyPop_22</th>\n",
       "      <th>Area sq mi</th>\n",
       "      <th>popdensity</th>\n",
       "      <th>density flag</th>\n",
       "      <th>00-20 popchange</th>\n",
       "      <th>20-22 popchange</th>\n",
       "      <th>_merge</th>\n",
       "    </tr>\n",
       "  </thead>\n",
       "  <tbody>\n",
       "    <tr>\n",
       "      <th>187</th>\n",
       "      <td>NaN</td>\n",
       "      <td>NaN</td>\n",
       "      <td>Ferry</td>\n",
       "      <td>NaN</td>\n",
       "      <td>NaN</td>\n",
       "      <td>NaN</td>\n",
       "      <td>NaN</td>\n",
       "      <td>NaN</td>\n",
       "      <td>NaT</td>\n",
       "      <td>NaN</td>\n",
       "      <td>...</td>\n",
       "      <td>7262</td>\n",
       "      <td>7551</td>\n",
       "      <td>7178</td>\n",
       "      <td>7448</td>\n",
       "      <td>2203.158664</td>\n",
       "      <td>3.258050</td>\n",
       "      <td>low density</td>\n",
       "      <td>-84</td>\n",
       "      <td>270</td>\n",
       "      <td>right_only</td>\n",
       "    </tr>\n",
       "    <tr>\n",
       "      <th>197</th>\n",
       "      <td>NaN</td>\n",
       "      <td>NaN</td>\n",
       "      <td>Garfield</td>\n",
       "      <td>NaN</td>\n",
       "      <td>NaN</td>\n",
       "      <td>NaN</td>\n",
       "      <td>NaN</td>\n",
       "      <td>NaN</td>\n",
       "      <td>NaT</td>\n",
       "      <td>NaN</td>\n",
       "      <td>...</td>\n",
       "      <td>2397</td>\n",
       "      <td>2266</td>\n",
       "      <td>2288</td>\n",
       "      <td>2363</td>\n",
       "      <td>710.686362</td>\n",
       "      <td>3.219423</td>\n",
       "      <td>low density</td>\n",
       "      <td>-109</td>\n",
       "      <td>75</td>\n",
       "      <td>right_only</td>\n",
       "    </tr>\n",
       "  </tbody>\n",
       "</table>\n",
       "<p>2 rows × 23 columns</p>\n",
       "</div>"
      ],
      "text/plain": [
       "    Station Name City    County  Latitude  Longitude  EV Level1  EV Level2  \\\n",
       "187          NaN  NaN     Ferry       NaN        NaN        NaN        NaN   \n",
       "197          NaN  NaN  Garfield       NaN        NaN        NaN        NaN   \n",
       "\n",
       "     EV Level3 Open Date2  evcs_sum  ...  CountyPop_00 CountyPop_10  \\\n",
       "187        NaN        NaT       NaN  ...          7262         7551   \n",
       "197        NaN        NaT       NaN  ...          2397         2266   \n",
       "\n",
       "     CountyPop_20  CountyPop_22   Area sq mi  popdensity  density flag  \\\n",
       "187          7178          7448  2203.158664    3.258050   low density   \n",
       "197          2288          2363   710.686362    3.219423   low density   \n",
       "\n",
       "     00-20 popchange  20-22 popchange      _merge  \n",
       "187              -84              270  right_only  \n",
       "197             -109               75  right_only  \n",
       "\n",
       "[2 rows x 23 columns]"
      ]
     },
     "execution_count": 44,
     "metadata": {},
     "output_type": "execute_result"
    }
   ],
   "source": [
    "test"
   ]
  },
  {
   "cell_type": "code",
   "execution_count": 45,
   "id": "4304fd4e",
   "metadata": {},
   "outputs": [],
   "source": [
    "#Drop column '_merge'\n",
    "df_station = df_station.drop(columns = ['_merge'])"
   ]
  },
  {
   "cell_type": "code",
   "execution_count": 46,
   "id": "05e8ca76",
   "metadata": {},
   "outputs": [
    {
     "data": {
      "text/html": [
       "<div>\n",
       "<style scoped>\n",
       "    .dataframe tbody tr th:only-of-type {\n",
       "        vertical-align: middle;\n",
       "    }\n",
       "\n",
       "    .dataframe tbody tr th {\n",
       "        vertical-align: top;\n",
       "    }\n",
       "\n",
       "    .dataframe thead th {\n",
       "        text-align: right;\n",
       "    }\n",
       "</style>\n",
       "<table border=\"1\" class=\"dataframe\">\n",
       "  <thead>\n",
       "    <tr style=\"text-align: right;\">\n",
       "      <th></th>\n",
       "      <th>Station Name</th>\n",
       "      <th>City</th>\n",
       "      <th>County</th>\n",
       "      <th>Latitude</th>\n",
       "      <th>Longitude</th>\n",
       "      <th>EV Level1</th>\n",
       "      <th>EV Level2</th>\n",
       "      <th>EV Level3</th>\n",
       "      <th>Open Date2</th>\n",
       "      <th>evcs_sum</th>\n",
       "      <th>...</th>\n",
       "      <th>CountyPop_90</th>\n",
       "      <th>CountyPop_00</th>\n",
       "      <th>CountyPop_10</th>\n",
       "      <th>CountyPop_20</th>\n",
       "      <th>CountyPop_22</th>\n",
       "      <th>Area sq mi</th>\n",
       "      <th>popdensity</th>\n",
       "      <th>density flag</th>\n",
       "      <th>00-20 popchange</th>\n",
       "      <th>20-22 popchange</th>\n",
       "    </tr>\n",
       "  </thead>\n",
       "  <tbody>\n",
       "    <tr>\n",
       "      <th>0</th>\n",
       "      <td>Best Western Plus Bronco Inn - Tesla Supercharger</td>\n",
       "      <td>Ritzville</td>\n",
       "      <td>Adams</td>\n",
       "      <td>47.116294</td>\n",
       "      <td>-118.368328</td>\n",
       "      <td>0.0</td>\n",
       "      <td>0.0</td>\n",
       "      <td>4.0</td>\n",
       "      <td>2014-06-15</td>\n",
       "      <td>3.0</td>\n",
       "      <td>...</td>\n",
       "      <td>13603</td>\n",
       "      <td>16426</td>\n",
       "      <td>18728</td>\n",
       "      <td>20612</td>\n",
       "      <td>20961</td>\n",
       "      <td>1924.977566</td>\n",
       "      <td>10.707657</td>\n",
       "      <td>low density</td>\n",
       "      <td>4186</td>\n",
       "      <td>349</td>\n",
       "    </tr>\n",
       "    <tr>\n",
       "      <th>1</th>\n",
       "      <td>Cow Creek Mercantile</td>\n",
       "      <td>Ritzville</td>\n",
       "      <td>Adams</td>\n",
       "      <td>47.119480</td>\n",
       "      <td>-118.362710</td>\n",
       "      <td>0.0</td>\n",
       "      <td>0.0</td>\n",
       "      <td>4.0</td>\n",
       "      <td>2019-08-22</td>\n",
       "      <td>3.0</td>\n",
       "      <td>...</td>\n",
       "      <td>13603</td>\n",
       "      <td>16426</td>\n",
       "      <td>18728</td>\n",
       "      <td>20612</td>\n",
       "      <td>20961</td>\n",
       "      <td>1924.977566</td>\n",
       "      <td>10.707657</td>\n",
       "      <td>low density</td>\n",
       "      <td>4186</td>\n",
       "      <td>349</td>\n",
       "    </tr>\n",
       "    <tr>\n",
       "      <th>2</th>\n",
       "      <td>Conoco</td>\n",
       "      <td>Ritzville</td>\n",
       "      <td>Adams</td>\n",
       "      <td>47.118605</td>\n",
       "      <td>-118.365561</td>\n",
       "      <td>0.0</td>\n",
       "      <td>0.0</td>\n",
       "      <td>1.0</td>\n",
       "      <td>2018-03-07</td>\n",
       "      <td>3.0</td>\n",
       "      <td>...</td>\n",
       "      <td>13603</td>\n",
       "      <td>16426</td>\n",
       "      <td>18728</td>\n",
       "      <td>20612</td>\n",
       "      <td>20961</td>\n",
       "      <td>1924.977566</td>\n",
       "      <td>10.707657</td>\n",
       "      <td>low density</td>\n",
       "      <td>4186</td>\n",
       "      <td>349</td>\n",
       "    </tr>\n",
       "    <tr>\n",
       "      <th>3</th>\n",
       "      <td>Port of Clarkston</td>\n",
       "      <td>Clarkston</td>\n",
       "      <td>Asotin</td>\n",
       "      <td>46.425498</td>\n",
       "      <td>-117.048650</td>\n",
       "      <td>0.0</td>\n",
       "      <td>2.0</td>\n",
       "      <td>0.0</td>\n",
       "      <td>2017-05-01</td>\n",
       "      <td>1.0</td>\n",
       "      <td>...</td>\n",
       "      <td>17605</td>\n",
       "      <td>20553</td>\n",
       "      <td>21623</td>\n",
       "      <td>22288</td>\n",
       "      <td>22508</td>\n",
       "      <td>636.212991</td>\n",
       "      <td>35.032293</td>\n",
       "      <td>low density</td>\n",
       "      <td>1735</td>\n",
       "      <td>220</td>\n",
       "    </tr>\n",
       "    <tr>\n",
       "      <th>4</th>\n",
       "      <td>Hamilton Cellars - Tesla Destination</td>\n",
       "      <td>Benton City</td>\n",
       "      <td>Benton</td>\n",
       "      <td>46.296071</td>\n",
       "      <td>-119.451487</td>\n",
       "      <td>0.0</td>\n",
       "      <td>3.0</td>\n",
       "      <td>0.0</td>\n",
       "      <td>2015-07-14</td>\n",
       "      <td>20.0</td>\n",
       "      <td>...</td>\n",
       "      <td>112560</td>\n",
       "      <td>142473</td>\n",
       "      <td>175177</td>\n",
       "      <td>206875</td>\n",
       "      <td>212791</td>\n",
       "      <td>1700.379029</td>\n",
       "      <td>121.664050</td>\n",
       "      <td>medium density</td>\n",
       "      <td>64402</td>\n",
       "      <td>5916</td>\n",
       "    </tr>\n",
       "  </tbody>\n",
       "</table>\n",
       "<p>5 rows × 22 columns</p>\n",
       "</div>"
      ],
      "text/plain": [
       "                                        Station Name         City  County  \\\n",
       "0  Best Western Plus Bronco Inn - Tesla Supercharger    Ritzville   Adams   \n",
       "1                               Cow Creek Mercantile    Ritzville   Adams   \n",
       "2                                             Conoco    Ritzville   Adams   \n",
       "3                                  Port of Clarkston    Clarkston  Asotin   \n",
       "4               Hamilton Cellars - Tesla Destination  Benton City  Benton   \n",
       "\n",
       "    Latitude   Longitude  EV Level1  EV Level2  EV Level3 Open Date2  \\\n",
       "0  47.116294 -118.368328        0.0        0.0        4.0 2014-06-15   \n",
       "1  47.119480 -118.362710        0.0        0.0        4.0 2019-08-22   \n",
       "2  47.118605 -118.365561        0.0        0.0        1.0 2018-03-07   \n",
       "3  46.425498 -117.048650        0.0        2.0        0.0 2017-05-01   \n",
       "4  46.296071 -119.451487        0.0        3.0        0.0 2015-07-14   \n",
       "\n",
       "   evcs_sum  ...  CountyPop_90 CountyPop_00  CountyPop_10  CountyPop_20  \\\n",
       "0       3.0  ...         13603        16426         18728         20612   \n",
       "1       3.0  ...         13603        16426         18728         20612   \n",
       "2       3.0  ...         13603        16426         18728         20612   \n",
       "3       1.0  ...         17605        20553         21623         22288   \n",
       "4      20.0  ...        112560       142473        175177        206875   \n",
       "\n",
       "   CountyPop_22   Area sq mi  popdensity    density flag  00-20 popchange  \\\n",
       "0         20961  1924.977566   10.707657     low density             4186   \n",
       "1         20961  1924.977566   10.707657     low density             4186   \n",
       "2         20961  1924.977566   10.707657     low density             4186   \n",
       "3         22508   636.212991   35.032293     low density             1735   \n",
       "4        212791  1700.379029  121.664050  medium density            64402   \n",
       "\n",
       "  20-22 popchange  \n",
       "0             349  \n",
       "1             349  \n",
       "2             349  \n",
       "3             220  \n",
       "4            5916  \n",
       "\n",
       "[5 rows x 22 columns]"
      ]
     },
     "execution_count": 46,
     "metadata": {},
     "output_type": "execute_result"
    }
   ],
   "source": [
    "df_station.head()"
   ]
  },
  {
   "cell_type": "code",
   "execution_count": 47,
   "id": "5f565c1f",
   "metadata": {},
   "outputs": [
    {
     "name": "stdout",
     "output_type": "stream",
     "text": [
      "<class 'pandas.core.frame.DataFrame'>\n",
      "Int64Index: 1902 entries, 0 to 1901\n",
      "Data columns (total 22 columns):\n",
      " #   Column           Non-Null Count  Dtype         \n",
      "---  ------           --------------  -----         \n",
      " 0   Station Name     1900 non-null   object        \n",
      " 1   City             1900 non-null   object        \n",
      " 2   County           1902 non-null   object        \n",
      " 3   Latitude         1900 non-null   float64       \n",
      " 4   Longitude        1900 non-null   float64       \n",
      " 5   EV Level1        1900 non-null   float64       \n",
      " 6   EV Level2        1900 non-null   float64       \n",
      " 7   EV Level3        1900 non-null   float64       \n",
      " 8   Open Date2       1900 non-null   datetime64[ns]\n",
      " 9   evcs_sum         1900 non-null   float64       \n",
      " 10  L3cs_sum_county  1900 non-null   float64       \n",
      " 11  L3port present   1900 non-null   object        \n",
      " 12  CountyPop_90     1902 non-null   int64         \n",
      " 13  CountyPop_00     1902 non-null   int64         \n",
      " 14  CountyPop_10     1902 non-null   int64         \n",
      " 15  CountyPop_20     1902 non-null   int64         \n",
      " 16  CountyPop_22     1902 non-null   int64         \n",
      " 17  Area sq mi       1902 non-null   float64       \n",
      " 18  popdensity       1902 non-null   float64       \n",
      " 19  density flag     1902 non-null   object        \n",
      " 20  00-20 popchange  1902 non-null   int64         \n",
      " 21  20-22 popchange  1902 non-null   int64         \n",
      "dtypes: datetime64[ns](1), float64(9), int64(7), object(5)\n",
      "memory usage: 341.8+ KB\n"
     ]
    }
   ],
   "source": [
    "df_station.info()"
   ]
  },
  {
   "cell_type": "code",
   "execution_count": null,
   "id": "10de2e39",
   "metadata": {},
   "outputs": [],
   "source": []
  },
  {
   "cell_type": "markdown",
   "id": "7151e7b9",
   "metadata": {},
   "source": [
    " - EV currently registered in WA"
   ]
  },
  {
   "cell_type": "code",
   "execution_count": 48,
   "id": "93e7dd36",
   "metadata": {},
   "outputs": [],
   "source": [
    "# Number of EV by County\n",
    "\n",
    "df_ev_data['EV_co_curr'] = df_ev_data.groupby('County')['Index'].transform('count')"
   ]
  },
  {
   "cell_type": "code",
   "execution_count": 49,
   "id": "b933d35c",
   "metadata": {},
   "outputs": [
    {
     "name": "stdout",
     "output_type": "stream",
     "text": [
      "<class 'pandas.core.frame.DataFrame'>\n",
      "Int64Index: 134726 entries, 0 to 134725\n",
      "Data columns (total 4 columns):\n",
      " #   Column                 Non-Null Count   Dtype \n",
      "---  ------                 --------------   ----- \n",
      " 0   Index                  134726 non-null  object\n",
      " 1   County                 134726 non-null  object\n",
      " 2   Electric Vehicle Type  134726 non-null  object\n",
      " 3   EV_co_curr             134726 non-null  int64 \n",
      "dtypes: int64(1), object(3)\n",
      "memory usage: 5.1+ MB\n"
     ]
    }
   ],
   "source": [
    "df_ev_data.info()"
   ]
  },
  {
   "cell_type": "code",
   "execution_count": 50,
   "id": "a5706a52",
   "metadata": {},
   "outputs": [],
   "source": [
    "# Subset the EV data frame to extract the EV per county,\n",
    "\n",
    "df_ev_sub = df_ev_data[['County', 'EV_co_curr']]"
   ]
  },
  {
   "cell_type": "code",
   "execution_count": 51,
   "id": "5e6a6139",
   "metadata": {},
   "outputs": [],
   "source": [
    "#drop duplicates from df_ev_sub \n",
    "df_ev_sub = df_ev_sub.drop_duplicates(subset='County', keep='first')"
   ]
  },
  {
   "cell_type": "code",
   "execution_count": 52,
   "id": "42007082",
   "metadata": {},
   "outputs": [],
   "source": [
    "# Merge the df_ev_sub with 'df_station' based on 'County'\n",
    "df_station = df_station.merge(df_ev_sub, on=['County'], how='left', indicator = True)"
   ]
  },
  {
   "cell_type": "code",
   "execution_count": 53,
   "id": "86814d23",
   "metadata": {},
   "outputs": [
    {
     "name": "stdout",
     "output_type": "stream",
     "text": [
      "<class 'pandas.core.frame.DataFrame'>\n",
      "Int64Index: 1902 entries, 0 to 1901\n",
      "Data columns (total 24 columns):\n",
      " #   Column           Non-Null Count  Dtype         \n",
      "---  ------           --------------  -----         \n",
      " 0   Station Name     1900 non-null   object        \n",
      " 1   City             1900 non-null   object        \n",
      " 2   County           1902 non-null   object        \n",
      " 3   Latitude         1900 non-null   float64       \n",
      " 4   Longitude        1900 non-null   float64       \n",
      " 5   EV Level1        1900 non-null   float64       \n",
      " 6   EV Level2        1900 non-null   float64       \n",
      " 7   EV Level3        1900 non-null   float64       \n",
      " 8   Open Date2       1900 non-null   datetime64[ns]\n",
      " 9   evcs_sum         1900 non-null   float64       \n",
      " 10  L3cs_sum_county  1900 non-null   float64       \n",
      " 11  L3port present   1900 non-null   object        \n",
      " 12  CountyPop_90     1902 non-null   int64         \n",
      " 13  CountyPop_00     1902 non-null   int64         \n",
      " 14  CountyPop_10     1902 non-null   int64         \n",
      " 15  CountyPop_20     1902 non-null   int64         \n",
      " 16  CountyPop_22     1902 non-null   int64         \n",
      " 17  Area sq mi       1902 non-null   float64       \n",
      " 18  popdensity       1902 non-null   float64       \n",
      " 19  density flag     1902 non-null   object        \n",
      " 20  00-20 popchange  1902 non-null   int64         \n",
      " 21  20-22 popchange  1902 non-null   int64         \n",
      " 22  EV_co_curr       1902 non-null   int64         \n",
      " 23  _merge           1902 non-null   category      \n",
      "dtypes: category(1), datetime64[ns](1), float64(9), int64(8), object(5)\n",
      "memory usage: 358.6+ KB\n"
     ]
    }
   ],
   "source": [
    "df_station.info()"
   ]
  },
  {
   "cell_type": "code",
   "execution_count": 54,
   "id": "50a26f9b",
   "metadata": {},
   "outputs": [
    {
     "data": {
      "text/plain": [
       "both          1902\n",
       "left_only        0\n",
       "right_only       0\n",
       "Name: _merge, dtype: int64"
      ]
     },
     "execution_count": 54,
     "metadata": {},
     "output_type": "execute_result"
    }
   ],
   "source": [
    "# Check value count for '_merge' column\n",
    "df_station['_merge'].value_counts()"
   ]
  },
  {
   "cell_type": "code",
   "execution_count": 55,
   "id": "ee7a7c08",
   "metadata": {},
   "outputs": [],
   "source": [
    "#Drop column '_merge'\n",
    "df_station = df_station.drop(columns = ['_merge'])"
   ]
  },
  {
   "cell_type": "code",
   "execution_count": null,
   "id": "a9e914ba",
   "metadata": {},
   "outputs": [],
   "source": []
  },
  {
   "cell_type": "markdown",
   "id": "7a3a7c84",
   "metadata": {},
   "source": [
    " - EV ownership by county since 2017"
   ]
  },
  {
   "cell_type": "code",
   "execution_count": 56,
   "id": "e43fd916",
   "metadata": {},
   "outputs": [
    {
     "name": "stdout",
     "output_type": "stream",
     "text": [
      "<class 'pandas.core.frame.DataFrame'>\n",
      "RangeIndex: 3003 entries, 0 to 3002\n",
      "Data columns (total 7 columns):\n",
      " #   Column          Non-Null Count  Dtype \n",
      "---  ------          --------------  ----- \n",
      " 0   Date            3003 non-null   object\n",
      " 1   County          3003 non-null   object\n",
      " 2   BEV Registered  3003 non-null   int64 \n",
      " 3   PHEV Registerd  3003 non-null   int64 \n",
      " 4   EV Total        3003 non-null   int64 \n",
      " 5   Non-EV Total    3003 non-null   int64 \n",
      " 6   Total Vehicles  3003 non-null   int64 \n",
      "dtypes: int64(5), object(2)\n",
      "memory usage: 164.4+ KB\n"
     ]
    }
   ],
   "source": [
    "df_ev_total_hist.info()"
   ]
  },
  {
   "cell_type": "code",
   "execution_count": 57,
   "id": "ffed2c10",
   "metadata": {},
   "outputs": [],
   "source": [
    "# Calculate the percentage of EV registered that are BEV\n",
    "df_ev_total_hist['BEV %'] = np.divide(df_ev_total_hist['BEV Registered'], df_ev_total_hist['EV Total']) * 100"
   ]
  },
  {
   "cell_type": "code",
   "execution_count": 58,
   "id": "34a4aa81",
   "metadata": {},
   "outputs": [],
   "source": [
    "# Fill any rows where the equation resulted in NaN with 0\n",
    "df_ev_total_hist['BEV %'] = df_ev_total_hist['BEV %'].fillna(0)"
   ]
  },
  {
   "cell_type": "code",
   "execution_count": 59,
   "id": "bcf20d60",
   "metadata": {},
   "outputs": [],
   "source": [
    "# Calculate the overall percentage of EVs out of the total number of vehicles\n",
    "df_ev_total_hist['Overall EV %'] = (df_ev_total_hist['EV Total'] / df_ev_total_hist['Total Vehicles']) * 100"
   ]
  },
  {
   "cell_type": "code",
   "execution_count": 60,
   "id": "b8104a00",
   "metadata": {},
   "outputs": [],
   "source": [
    "# Convert 'Date' column to timestamp\n",
    "df_ev_total_hist['Date'] = pd.to_datetime(df_ev_total_hist['Date'])"
   ]
  },
  {
   "cell_type": "code",
   "execution_count": 61,
   "id": "4387af1f",
   "metadata": {},
   "outputs": [],
   "source": [
    "# Extract year and month from 'Date' column and create new columns 'Year' and 'Month'\n",
    "df_ev_total_hist['Year'] = df_ev_total_hist['Date'].dt.year\n",
    "df_ev_total_hist['Month'] = df_ev_total_hist['Date'].dt.month"
   ]
  },
  {
   "cell_type": "code",
   "execution_count": 62,
   "id": "aa1c6a11",
   "metadata": {},
   "outputs": [
    {
     "name": "stdout",
     "output_type": "stream",
     "text": [
      "Maximum Open Date: 2023-05-31 00:00:00\n",
      "Minimum Open Date: 2017-01-31 00:00:00\n"
     ]
    }
   ],
   "source": [
    "max_open_date = df_ev_total_hist['Date'].max()\n",
    "min_open_date = df_ev_total_hist['Date'].min()\n",
    "\n",
    "print(\"Maximum Open Date:\", max_open_date)\n",
    "print(\"Minimum Open Date:\", min_open_date)\n"
   ]
  },
  {
   "cell_type": "code",
   "execution_count": 63,
   "id": "274877a9",
   "metadata": {},
   "outputs": [],
   "source": [
    "# Extract year and month from 'Open Date2' column and create new columns 'Year' and 'Month'\n",
    "df_station['Year'] = df_station['Open Date2'].dt.year\n",
    "df_station['Month'] = df_station['Open Date2'].dt.month"
   ]
  },
  {
   "cell_type": "code",
   "execution_count": 64,
   "id": "191243b3",
   "metadata": {},
   "outputs": [
    {
     "name": "stdout",
     "output_type": "stream",
     "text": [
      "Maximum Open Date: 2023-06-24 00:00:00\n",
      "Minimum Open Date: 2008-02-15 00:00:00\n"
     ]
    }
   ],
   "source": [
    "max_open_date = df_station['Open Date2'].max()\n",
    "min_open_date = df_station['Open Date2'].min()\n",
    "\n",
    "print(\"Maximum Open Date:\", max_open_date)\n",
    "print(\"Minimum Open Date:\", min_open_date)\n"
   ]
  },
  {
   "cell_type": "code",
   "execution_count": 65,
   "id": "66bf5298",
   "metadata": {},
   "outputs": [],
   "source": [
    "# Count the number of stations open each month of the year\n",
    "station_counts = df_station.groupby(['County', 'Year', 'Month']).size().reset_index(name='Station Count')"
   ]
  },
  {
   "cell_type": "code",
   "execution_count": 66,
   "id": "2dab2181",
   "metadata": {},
   "outputs": [],
   "source": [
    "# Merge the station counts with 'df_ev_total_hist' based on 'County', 'Year', and 'Month'\n",
    "merged_df = df_ev_total_hist.merge(station_counts, on=['County', 'Year', 'Month'], how='outer', indicator = True)"
   ]
  },
  {
   "cell_type": "code",
   "execution_count": 67,
   "id": "0d3154bb",
   "metadata": {},
   "outputs": [
    {
     "data": {
      "text/plain": [
       "left_only     2533\n",
       "both           470\n",
       "right_only     200\n",
       "Name: _merge, dtype: int64"
      ]
     },
     "execution_count": 67,
     "metadata": {},
     "output_type": "execute_result"
    }
   ],
   "source": [
    "# Check value count for '_merge' column\n",
    "merged_df['_merge'].value_counts()"
   ]
  },
  {
   "cell_type": "code",
   "execution_count": 68,
   "id": "fd29566d",
   "metadata": {},
   "outputs": [],
   "source": [
    "# Change the NaNs in Station count to 0 \n",
    "merged_df['Station Count'] = merged_df['Station Count'].fillna(0)"
   ]
  },
  {
   "cell_type": "code",
   "execution_count": 69,
   "id": "ea28ac42",
   "metadata": {},
   "outputs": [],
   "source": [
    "# Month and years are floats - convert to integers\n",
    "merged_df['Month'] = merged_df['Month'].astype(int)\n",
    "merged_df['Year'] = merged_df['Year'].astype(int)"
   ]
  },
  {
   "cell_type": "code",
   "execution_count": 70,
   "id": "5040b64e",
   "metadata": {},
   "outputs": [],
   "source": [
    "merged_df['Month'] = merged_df['Month'].astype(str)\n",
    "merged_df['Year'] = merged_df['Year'].astype(str)"
   ]
  },
  {
   "cell_type": "code",
   "execution_count": 72,
   "id": "6f42f353",
   "metadata": {},
   "outputs": [
    {
     "name": "stdout",
     "output_type": "stream",
     "text": [
      "        Date   County  BEV Registered  PHEV Registerd  EV Total  Non-EV Total  \\\n",
      "0 2017-01-01    Adams             1.0             1.0       2.0       17252.0   \n",
      "1 2017-01-01   Asotin             4.0             3.0       7.0       18806.0   \n",
      "2 2017-01-01   Benton           129.0           129.0     258.0      167678.0   \n",
      "3 2017-01-01   Chelan            54.0            28.0      82.0       73161.0   \n",
      "4 2017-01-01  Clallam            73.0            64.0     137.0       69053.0   \n",
      "\n",
      "   Total Vehicles      BEV %  Overall EV %  Year Month  Station Count  \\\n",
      "0         17254.0  50.000000      0.011592  2017     1            0.0   \n",
      "1         18813.0  57.142857      0.037208  2017     1            0.0   \n",
      "2        167936.0  50.000000      0.153630  2017     1            0.0   \n",
      "3         73243.0  65.853659      0.111956  2017     1            0.0   \n",
      "4         69190.0  53.284672      0.198005  2017     1            0.0   \n",
      "\n",
      "      _merge  \n",
      "0  left_only  \n",
      "1  left_only  \n",
      "2  left_only  \n",
      "3  left_only  \n",
      "4  left_only  \n"
     ]
    }
   ],
   "source": [
    "# Convert 'Year' and 'Month' columns to datetime format for sorting\n",
    "merged_df['Date'] = pd.to_datetime(merged_df['Year'] + '-' + merged_df['Month'], format='%Y-%m')\n",
    "\n",
    "# Display the first few rows of the merged dataframe\n",
    "print(merged_df.head())\n"
   ]
  },
  {
   "cell_type": "code",
   "execution_count": 74,
   "id": "17f54b88",
   "metadata": {},
   "outputs": [],
   "source": [
    "# Sorting merged_df by County and Date, in ascending order \n",
    "merged_df = merged_df.sort_values(by=['County', 'Date'], ascending=True)"
   ]
  },
  {
   "cell_type": "code",
   "execution_count": 75,
   "id": "dd65d035",
   "metadata": {},
   "outputs": [],
   "source": [
    "#Reset the index\n",
    "merged_df = merged_df.reset_index(drop=True)"
   ]
  },
  {
   "cell_type": "code",
   "execution_count": 76,
   "id": "7223612c",
   "metadata": {},
   "outputs": [],
   "source": [
    "# Calculate the cumulative station count within each county\n",
    "merged_df['Cum_CS_count'] = merged_df.groupby('County')['Station Count'].cumsum()"
   ]
  },
  {
   "cell_type": "code",
   "execution_count": 77,
   "id": "c9528c59",
   "metadata": {},
   "outputs": [],
   "source": [
    "#Drop column '_merge'\n",
    "merged_df = merged_df.drop(columns = ['_merge'])"
   ]
  },
  {
   "cell_type": "code",
   "execution_count": 78,
   "id": "2cbfa9d4",
   "metadata": {
    "scrolled": true
   },
   "outputs": [],
   "source": [
    "# Create a variable that totals up the opening of EVCS all across WA\n",
    "merged_df['Cumulative EVCS WA'] = merged_df.groupby(['Year', 'Month'])['Cum_CS_count'].transform('sum')"
   ]
  },
  {
   "cell_type": "code",
   "execution_count": 82,
   "id": "b1239faf",
   "metadata": {},
   "outputs": [
    {
     "data": {
      "text/html": [
       "<div>\n",
       "<style scoped>\n",
       "    .dataframe tbody tr th:only-of-type {\n",
       "        vertical-align: middle;\n",
       "    }\n",
       "\n",
       "    .dataframe tbody tr th {\n",
       "        vertical-align: top;\n",
       "    }\n",
       "\n",
       "    .dataframe thead th {\n",
       "        text-align: right;\n",
       "    }\n",
       "</style>\n",
       "<table border=\"1\" class=\"dataframe\">\n",
       "  <thead>\n",
       "    <tr style=\"text-align: right;\">\n",
       "      <th></th>\n",
       "      <th>Date</th>\n",
       "      <th>County</th>\n",
       "      <th>BEV Registered</th>\n",
       "      <th>PHEV Registerd</th>\n",
       "      <th>EV Total</th>\n",
       "      <th>Non-EV Total</th>\n",
       "      <th>Total Vehicles</th>\n",
       "      <th>BEV %</th>\n",
       "      <th>Overall EV %</th>\n",
       "      <th>Year</th>\n",
       "      <th>Month</th>\n",
       "      <th>Station Count</th>\n",
       "      <th>Cum_CS_count</th>\n",
       "      <th>Cumulative EVCS WA</th>\n",
       "    </tr>\n",
       "  </thead>\n",
       "  <tbody>\n",
       "    <tr>\n",
       "      <th>0</th>\n",
       "      <td>2014-06-01</td>\n",
       "      <td>Adams</td>\n",
       "      <td>NaN</td>\n",
       "      <td>NaN</td>\n",
       "      <td>NaN</td>\n",
       "      <td>NaN</td>\n",
       "      <td>NaN</td>\n",
       "      <td>NaN</td>\n",
       "      <td>NaN</td>\n",
       "      <td>2014</td>\n",
       "      <td>6</td>\n",
       "      <td>1.0</td>\n",
       "      <td>1.0</td>\n",
       "      <td>9.0</td>\n",
       "    </tr>\n",
       "    <tr>\n",
       "      <th>1</th>\n",
       "      <td>2017-01-01</td>\n",
       "      <td>Adams</td>\n",
       "      <td>1.0</td>\n",
       "      <td>1.0</td>\n",
       "      <td>2.0</td>\n",
       "      <td>17252.0</td>\n",
       "      <td>17254.0</td>\n",
       "      <td>50.000000</td>\n",
       "      <td>0.011592</td>\n",
       "      <td>2017</td>\n",
       "      <td>1</td>\n",
       "      <td>0.0</td>\n",
       "      <td>1.0</td>\n",
       "      <td>309.0</td>\n",
       "    </tr>\n",
       "    <tr>\n",
       "      <th>2</th>\n",
       "      <td>2017-02-01</td>\n",
       "      <td>Adams</td>\n",
       "      <td>2.0</td>\n",
       "      <td>2.0</td>\n",
       "      <td>4.0</td>\n",
       "      <td>17197.0</td>\n",
       "      <td>17201.0</td>\n",
       "      <td>50.000000</td>\n",
       "      <td>0.023254</td>\n",
       "      <td>2017</td>\n",
       "      <td>2</td>\n",
       "      <td>0.0</td>\n",
       "      <td>1.0</td>\n",
       "      <td>316.0</td>\n",
       "    </tr>\n",
       "    <tr>\n",
       "      <th>3</th>\n",
       "      <td>2017-03-01</td>\n",
       "      <td>Adams</td>\n",
       "      <td>2.0</td>\n",
       "      <td>4.0</td>\n",
       "      <td>6.0</td>\n",
       "      <td>17177.0</td>\n",
       "      <td>17183.0</td>\n",
       "      <td>33.333333</td>\n",
       "      <td>0.034918</td>\n",
       "      <td>2017</td>\n",
       "      <td>3</td>\n",
       "      <td>0.0</td>\n",
       "      <td>1.0</td>\n",
       "      <td>322.0</td>\n",
       "    </tr>\n",
       "    <tr>\n",
       "      <th>4</th>\n",
       "      <td>2017-04-01</td>\n",
       "      <td>Adams</td>\n",
       "      <td>2.0</td>\n",
       "      <td>3.0</td>\n",
       "      <td>5.0</td>\n",
       "      <td>17200.0</td>\n",
       "      <td>17205.0</td>\n",
       "      <td>40.000000</td>\n",
       "      <td>0.029061</td>\n",
       "      <td>2017</td>\n",
       "      <td>4</td>\n",
       "      <td>0.0</td>\n",
       "      <td>1.0</td>\n",
       "      <td>331.0</td>\n",
       "    </tr>\n",
       "  </tbody>\n",
       "</table>\n",
       "</div>"
      ],
      "text/plain": [
       "        Date County  BEV Registered  PHEV Registerd  EV Total  Non-EV Total  \\\n",
       "0 2014-06-01  Adams             NaN             NaN       NaN           NaN   \n",
       "1 2017-01-01  Adams             1.0             1.0       2.0       17252.0   \n",
       "2 2017-02-01  Adams             2.0             2.0       4.0       17197.0   \n",
       "3 2017-03-01  Adams             2.0             4.0       6.0       17177.0   \n",
       "4 2017-04-01  Adams             2.0             3.0       5.0       17200.0   \n",
       "\n",
       "   Total Vehicles      BEV %  Overall EV %  Year Month  Station Count  \\\n",
       "0             NaN        NaN           NaN  2014     6            1.0   \n",
       "1         17254.0  50.000000      0.011592  2017     1            0.0   \n",
       "2         17201.0  50.000000      0.023254  2017     2            0.0   \n",
       "3         17183.0  33.333333      0.034918  2017     3            0.0   \n",
       "4         17205.0  40.000000      0.029061  2017     4            0.0   \n",
       "\n",
       "   Cum_CS_count  Cumulative EVCS WA  \n",
       "0           1.0                 9.0  \n",
       "1           1.0               309.0  \n",
       "2           1.0               316.0  \n",
       "3           1.0               322.0  \n",
       "4           1.0               331.0  "
      ]
     },
     "execution_count": 82,
     "metadata": {},
     "output_type": "execute_result"
    }
   ],
   "source": [
    "merged_df.head()"
   ]
  },
  {
   "cell_type": "code",
   "execution_count": 79,
   "id": "2451d89f",
   "metadata": {},
   "outputs": [],
   "source": [
    "# Create a function- calculate_estimated_population - to estimate the population by month of each county. \n",
    "\n",
    "def calculate_estimated_population(county, year, month):\n",
    "    if year == 2010 and month == 6:\n",
    "        return df_pop.loc[county, 'CountyPop_10']\n",
    "    elif year == 2020 and month == 6:\n",
    "        return df_pop.loc[county, 'CountyPop_20']\n",
    "    else:\n",
    "        pop_10 = df_pop.loc[county, 'CountyPop_10']\n",
    "        pop_20 = df_pop.loc[county, 'CountyPop_20']\n",
    "        change_rate = (pop_20 - pop_10) / 10  # Average annual change rate\n",
    "        months_since_2020 = (year - 2020) * 12 + (month - 6)\n",
    "        estimated_pop = round(pop_20 + (change_rate / 12) * months_since_2020)\n",
    "        return estimated_pop\n"
   ]
  },
  {
   "cell_type": "code",
   "execution_count": 80,
   "id": "1e1b8f06",
   "metadata": {},
   "outputs": [],
   "source": [
    "# set the index of df_pop to County column for the function to work\n",
    "df_pop = df_pop.set_index('County')"
   ]
  },
  {
   "cell_type": "code",
   "execution_count": 83,
   "id": "d826b5c5",
   "metadata": {},
   "outputs": [],
   "source": [
    "# Convert 'Year' and 'Month' columns to integer type\n",
    "merged_df['Year'] = merged_df['Year'].astype(int)\n",
    "merged_df['Month'] = merged_df['Month'].astype(int)\n",
    "\n",
    "# Apply the calculate_estimated_population function to create Estimated Population variable\n",
    "merged_df['Estimated Population'] = merged_df.apply(lambda row: calculate_estimated_population(row['County'], row['Year'], row['Month']), axis=1)\n"
   ]
  },
  {
   "cell_type": "code",
   "execution_count": 84,
   "id": "37280273",
   "metadata": {},
   "outputs": [],
   "source": [
    "# Calculate EVs per person\n",
    "merged_df['EVs per person'] = merged_df['EV Total'] / merged_df['Estimated Population']"
   ]
  },
  {
   "cell_type": "code",
   "execution_count": 85,
   "id": "f925bf34",
   "metadata": {},
   "outputs": [],
   "source": [
    "# Calculate Total Vehicles per person\n",
    "merged_df['Total Vehicles per person'] = merged_df['Total Vehicles'] / merged_df['Estimated Population']"
   ]
  },
  {
   "cell_type": "code",
   "execution_count": 86,
   "id": "f25663a1",
   "metadata": {},
   "outputs": [
    {
     "data": {
      "text/html": [
       "<div>\n",
       "<style scoped>\n",
       "    .dataframe tbody tr th:only-of-type {\n",
       "        vertical-align: middle;\n",
       "    }\n",
       "\n",
       "    .dataframe tbody tr th {\n",
       "        vertical-align: top;\n",
       "    }\n",
       "\n",
       "    .dataframe thead th {\n",
       "        text-align: right;\n",
       "    }\n",
       "</style>\n",
       "<table border=\"1\" class=\"dataframe\">\n",
       "  <thead>\n",
       "    <tr style=\"text-align: right;\">\n",
       "      <th></th>\n",
       "      <th>Date</th>\n",
       "      <th>County</th>\n",
       "      <th>BEV Registered</th>\n",
       "      <th>PHEV Registerd</th>\n",
       "      <th>EV Total</th>\n",
       "      <th>Non-EV Total</th>\n",
       "      <th>Total Vehicles</th>\n",
       "      <th>BEV %</th>\n",
       "      <th>Overall EV %</th>\n",
       "      <th>Year</th>\n",
       "      <th>Month</th>\n",
       "      <th>Station Count</th>\n",
       "      <th>Cum_CS_count</th>\n",
       "      <th>Cumulative EVCS WA</th>\n",
       "      <th>Estimated Population</th>\n",
       "      <th>EVs per person</th>\n",
       "      <th>Total Vehicles per person</th>\n",
       "    </tr>\n",
       "  </thead>\n",
       "  <tbody>\n",
       "    <tr>\n",
       "      <th>3198</th>\n",
       "      <td>2023-02-01</td>\n",
       "      <td>Yakima</td>\n",
       "      <td>450.0</td>\n",
       "      <td>239.0</td>\n",
       "      <td>689.0</td>\n",
       "      <td>226514.0</td>\n",
       "      <td>227203.0</td>\n",
       "      <td>65.312046</td>\n",
       "      <td>0.303253</td>\n",
       "      <td>2023</td>\n",
       "      <td>2</td>\n",
       "      <td>0.0</td>\n",
       "      <td>20.0</td>\n",
       "      <td>1759.0</td>\n",
       "      <td>260316</td>\n",
       "      <td>0.002647</td>\n",
       "      <td>0.872797</td>\n",
       "    </tr>\n",
       "    <tr>\n",
       "      <th>3199</th>\n",
       "      <td>2023-03-01</td>\n",
       "      <td>Yakima</td>\n",
       "      <td>460.0</td>\n",
       "      <td>237.0</td>\n",
       "      <td>697.0</td>\n",
       "      <td>225292.0</td>\n",
       "      <td>225989.0</td>\n",
       "      <td>65.997131</td>\n",
       "      <td>0.308422</td>\n",
       "      <td>2023</td>\n",
       "      <td>3</td>\n",
       "      <td>1.0</td>\n",
       "      <td>21.0</td>\n",
       "      <td>1783.0</td>\n",
       "      <td>260428</td>\n",
       "      <td>0.002676</td>\n",
       "      <td>0.867760</td>\n",
       "    </tr>\n",
       "    <tr>\n",
       "      <th>3200</th>\n",
       "      <td>2023-04-01</td>\n",
       "      <td>Yakima</td>\n",
       "      <td>471.0</td>\n",
       "      <td>241.0</td>\n",
       "      <td>712.0</td>\n",
       "      <td>223673.0</td>\n",
       "      <td>224385.0</td>\n",
       "      <td>66.151685</td>\n",
       "      <td>0.317312</td>\n",
       "      <td>2023</td>\n",
       "      <td>4</td>\n",
       "      <td>3.0</td>\n",
       "      <td>24.0</td>\n",
       "      <td>1823.0</td>\n",
       "      <td>260541</td>\n",
       "      <td>0.002733</td>\n",
       "      <td>0.861227</td>\n",
       "    </tr>\n",
       "    <tr>\n",
       "      <th>3201</th>\n",
       "      <td>2023-05-01</td>\n",
       "      <td>Yakima</td>\n",
       "      <td>484.0</td>\n",
       "      <td>246.0</td>\n",
       "      <td>730.0</td>\n",
       "      <td>220494.0</td>\n",
       "      <td>221224.0</td>\n",
       "      <td>66.301370</td>\n",
       "      <td>0.329982</td>\n",
       "      <td>2023</td>\n",
       "      <td>5</td>\n",
       "      <td>6.0</td>\n",
       "      <td>30.0</td>\n",
       "      <td>1870.0</td>\n",
       "      <td>260653</td>\n",
       "      <td>0.002801</td>\n",
       "      <td>0.848730</td>\n",
       "    </tr>\n",
       "    <tr>\n",
       "      <th>3202</th>\n",
       "      <td>2023-06-01</td>\n",
       "      <td>Yakima</td>\n",
       "      <td>NaN</td>\n",
       "      <td>NaN</td>\n",
       "      <td>NaN</td>\n",
       "      <td>NaN</td>\n",
       "      <td>NaN</td>\n",
       "      <td>NaN</td>\n",
       "      <td>NaN</td>\n",
       "      <td>2023</td>\n",
       "      <td>6</td>\n",
       "      <td>1.0</td>\n",
       "      <td>31.0</td>\n",
       "      <td>1480.0</td>\n",
       "      <td>260765</td>\n",
       "      <td>NaN</td>\n",
       "      <td>NaN</td>\n",
       "    </tr>\n",
       "  </tbody>\n",
       "</table>\n",
       "</div>"
      ],
      "text/plain": [
       "           Date  County  BEV Registered  PHEV Registerd  EV Total  \\\n",
       "3198 2023-02-01  Yakima           450.0           239.0     689.0   \n",
       "3199 2023-03-01  Yakima           460.0           237.0     697.0   \n",
       "3200 2023-04-01  Yakima           471.0           241.0     712.0   \n",
       "3201 2023-05-01  Yakima           484.0           246.0     730.0   \n",
       "3202 2023-06-01  Yakima             NaN             NaN       NaN   \n",
       "\n",
       "      Non-EV Total  Total Vehicles      BEV %  Overall EV %  Year  Month  \\\n",
       "3198      226514.0        227203.0  65.312046      0.303253  2023      2   \n",
       "3199      225292.0        225989.0  65.997131      0.308422  2023      3   \n",
       "3200      223673.0        224385.0  66.151685      0.317312  2023      4   \n",
       "3201      220494.0        221224.0  66.301370      0.329982  2023      5   \n",
       "3202           NaN             NaN        NaN           NaN  2023      6   \n",
       "\n",
       "      Station Count  Cum_CS_count  Cumulative EVCS WA  Estimated Population  \\\n",
       "3198            0.0          20.0              1759.0                260316   \n",
       "3199            1.0          21.0              1783.0                260428   \n",
       "3200            3.0          24.0              1823.0                260541   \n",
       "3201            6.0          30.0              1870.0                260653   \n",
       "3202            1.0          31.0              1480.0                260765   \n",
       "\n",
       "      EVs per person  Total Vehicles per person  \n",
       "3198        0.002647                   0.872797  \n",
       "3199        0.002676                   0.867760  \n",
       "3200        0.002733                   0.861227  \n",
       "3201        0.002801                   0.848730  \n",
       "3202             NaN                        NaN  "
      ]
     },
     "execution_count": 86,
     "metadata": {},
     "output_type": "execute_result"
    }
   ],
   "source": [
    "#checking the merged_df\n",
    "merged_df.tail()"
   ]
  },
  {
   "cell_type": "code",
   "execution_count": 87,
   "id": "f30291b6",
   "metadata": {},
   "outputs": [
    {
     "name": "stdout",
     "output_type": "stream",
     "text": [
      "<class 'pandas.core.frame.DataFrame'>\n",
      "RangeIndex: 3203 entries, 0 to 3202\n",
      "Data columns (total 17 columns):\n",
      " #   Column                     Non-Null Count  Dtype         \n",
      "---  ------                     --------------  -----         \n",
      " 0   Date                       3203 non-null   datetime64[ns]\n",
      " 1   County                     3203 non-null   object        \n",
      " 2   BEV Registered             3003 non-null   float64       \n",
      " 3   PHEV Registerd             3003 non-null   float64       \n",
      " 4   EV Total                   3003 non-null   float64       \n",
      " 5   Non-EV Total               3003 non-null   float64       \n",
      " 6   Total Vehicles             3003 non-null   float64       \n",
      " 7   BEV %                      3003 non-null   float64       \n",
      " 8   Overall EV %               3003 non-null   float64       \n",
      " 9   Year                       3203 non-null   int32         \n",
      " 10  Month                      3203 non-null   int32         \n",
      " 11  Station Count              3203 non-null   float64       \n",
      " 12  Cum_CS_count               3203 non-null   float64       \n",
      " 13  Cumulative EVCS WA         3203 non-null   float64       \n",
      " 14  Estimated Population       3203 non-null   int64         \n",
      " 15  EVs per person             3003 non-null   float64       \n",
      " 16  Total Vehicles per person  3003 non-null   float64       \n",
      "dtypes: datetime64[ns](1), float64(12), int32(2), int64(1), object(1)\n",
      "memory usage: 400.5+ KB\n"
     ]
    }
   ],
   "source": [
    "merged_df.info()"
   ]
  },
  {
   "cell_type": "code",
   "execution_count": 90,
   "id": "62b0ffba",
   "metadata": {},
   "outputs": [],
   "source": [
    "columns_to_convert = ['BEV Registered', 'PHEV Registerd', 'Cumulative EVCS WA', 'Cum_CS_count', 'Station Count', 'EV Total', 'Non-EV Total', 'Total Vehicles']\n",
    "\n",
    "# Replace NaN values with 0\n",
    "merged_df[columns_to_convert] = merged_df[columns_to_convert].fillna(0)\n",
    "\n",
    "# Convert the columns to integer data type\n",
    "merged_df[columns_to_convert] = merged_df[columns_to_convert].astype(int)\n"
   ]
  },
  {
   "cell_type": "code",
   "execution_count": 91,
   "id": "09608262",
   "metadata": {},
   "outputs": [
    {
     "name": "stdout",
     "output_type": "stream",
     "text": [
      "<class 'pandas.core.frame.DataFrame'>\n",
      "RangeIndex: 3203 entries, 0 to 3202\n",
      "Data columns (total 17 columns):\n",
      " #   Column                     Non-Null Count  Dtype         \n",
      "---  ------                     --------------  -----         \n",
      " 0   Date                       3203 non-null   datetime64[ns]\n",
      " 1   County                     3203 non-null   object        \n",
      " 2   BEV Registered             3203 non-null   int32         \n",
      " 3   PHEV Registerd             3203 non-null   int32         \n",
      " 4   EV Total                   3203 non-null   int32         \n",
      " 5   Non-EV Total               3203 non-null   int32         \n",
      " 6   Total Vehicles             3203 non-null   int32         \n",
      " 7   BEV %                      3003 non-null   float64       \n",
      " 8   Overall EV %               3003 non-null   float64       \n",
      " 9   Year                       3203 non-null   int32         \n",
      " 10  Month                      3203 non-null   int32         \n",
      " 11  Station Count              3203 non-null   int32         \n",
      " 12  Cum_CS_count               3203 non-null   int32         \n",
      " 13  Cumulative EVCS WA         3203 non-null   int32         \n",
      " 14  Estimated Population       3203 non-null   int64         \n",
      " 15  EVs per person             3003 non-null   float64       \n",
      " 16  Total Vehicles per person  3003 non-null   float64       \n",
      "dtypes: datetime64[ns](1), float64(4), int32(10), int64(1), object(1)\n",
      "memory usage: 300.4+ KB\n"
     ]
    }
   ],
   "source": [
    "merged_df.info()"
   ]
  },
  {
   "cell_type": "code",
   "execution_count": 88,
   "id": "d4af0447",
   "metadata": {},
   "outputs": [
    {
     "name": "stdout",
     "output_type": "stream",
     "text": [
      "<class 'pandas.core.frame.DataFrame'>\n",
      "Int64Index: 1902 entries, 0 to 1901\n",
      "Data columns (total 25 columns):\n",
      " #   Column           Non-Null Count  Dtype         \n",
      "---  ------           --------------  -----         \n",
      " 0   Station Name     1900 non-null   object        \n",
      " 1   City             1900 non-null   object        \n",
      " 2   County           1902 non-null   object        \n",
      " 3   Latitude         1900 non-null   float64       \n",
      " 4   Longitude        1900 non-null   float64       \n",
      " 5   EV Level1        1900 non-null   float64       \n",
      " 6   EV Level2        1900 non-null   float64       \n",
      " 7   EV Level3        1900 non-null   float64       \n",
      " 8   Open Date2       1900 non-null   datetime64[ns]\n",
      " 9   evcs_sum         1900 non-null   float64       \n",
      " 10  L3cs_sum_county  1900 non-null   float64       \n",
      " 11  L3port present   1900 non-null   object        \n",
      " 12  CountyPop_90     1902 non-null   int64         \n",
      " 13  CountyPop_00     1902 non-null   int64         \n",
      " 14  CountyPop_10     1902 non-null   int64         \n",
      " 15  CountyPop_20     1902 non-null   int64         \n",
      " 16  CountyPop_22     1902 non-null   int64         \n",
      " 17  Area sq mi       1902 non-null   float64       \n",
      " 18  popdensity       1902 non-null   float64       \n",
      " 19  density flag     1902 non-null   object        \n",
      " 20  00-20 popchange  1902 non-null   int64         \n",
      " 21  20-22 popchange  1902 non-null   int64         \n",
      " 22  EV_co_curr       1902 non-null   int64         \n",
      " 23  Year             1900 non-null   float64       \n",
      " 24  Month            1900 non-null   float64       \n",
      "dtypes: datetime64[ns](1), float64(11), int64(8), object(5)\n",
      "memory usage: 386.3+ KB\n"
     ]
    }
   ],
   "source": [
    "df_station.info()"
   ]
  },
  {
   "cell_type": "code",
   "execution_count": 95,
   "id": "2c705198",
   "metadata": {},
   "outputs": [],
   "source": [
    "columns_to_convert2 = ['evcs_sum', 'Year', 'Month', 'EV Level1', 'EV Level2', 'EV Level3']\n",
    "\n",
    "# Replace NaN values with 0\n",
    "df_station[columns_to_convert2] = df_station[columns_to_convert2].fillna(0)\n",
    "\n",
    "# Convert the columns to integer data type\n",
    "df_station[columns_to_convert2] = df_station[columns_to_convert2].astype(int)"
   ]
  },
  {
   "cell_type": "markdown",
   "id": "876f4031",
   "metadata": {},
   "source": [
    "# Export Data"
   ]
  },
  {
   "cell_type": "code",
   "execution_count": 98,
   "id": "732663a4",
   "metadata": {},
   "outputs": [],
   "source": [
    "#Export df_station in .pkl format\n",
    "df_station.to_pickle(os.path.join(path, '02 Data', 'Prepared Data', 'WA_present.pkl'))"
   ]
  },
  {
   "cell_type": "code",
   "execution_count": 99,
   "id": "a8fa239b",
   "metadata": {},
   "outputs": [],
   "source": [
    "#Export merged_df in .pkl format\n",
    "merged_df.to_pickle(os.path.join(path, '02 Data', 'Prepared Data', 'WA_hist.pkl'))"
   ]
  },
  {
   "cell_type": "code",
   "execution_count": 100,
   "id": "ea0f6bc6",
   "metadata": {},
   "outputs": [],
   "source": [
    "#Export df_pop in .pkl format\n",
    "df_pop.to_pickle(os.path.join(path, '02 Data', 'Prepared Data', 'County_pop_calc.pkl'))"
   ]
  },
  {
   "cell_type": "code",
   "execution_count": null,
   "id": "607b39da",
   "metadata": {},
   "outputs": [],
   "source": []
  },
  {
   "cell_type": "code",
   "execution_count": null,
   "id": "5cc808e3",
   "metadata": {},
   "outputs": [],
   "source": []
  },
  {
   "cell_type": "code",
   "execution_count": null,
   "id": "ad3f7c11",
   "metadata": {},
   "outputs": [],
   "source": []
  },
  {
   "cell_type": "code",
   "execution_count": null,
   "id": "8a96caab",
   "metadata": {},
   "outputs": [],
   "source": []
  }
 ],
 "metadata": {
  "kernelspec": {
   "display_name": "Python 3 (ipykernel)",
   "language": "python",
   "name": "python3"
  },
  "language_info": {
   "codemirror_mode": {
    "name": "ipython",
    "version": 3
   },
   "file_extension": ".py",
   "mimetype": "text/x-python",
   "name": "python",
   "nbconvert_exporter": "python",
   "pygments_lexer": "ipython3",
   "version": "3.9.13"
  }
 },
 "nbformat": 4,
 "nbformat_minor": 5
}
