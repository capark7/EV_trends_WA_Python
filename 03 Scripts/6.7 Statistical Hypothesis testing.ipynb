{
 "cells": [
  {
   "cell_type": "markdown",
   "id": "1eec1088",
   "metadata": {},
   "source": [
    "# 6.7 Statistical Hypothesis testing"
   ]
  },
  {
   "cell_type": "markdown",
   "id": "968cfe3a",
   "metadata": {},
   "source": [
    "\n",
    "## 1 Import libraries and data\n",
    "## 2 Data checking & Preparation\n",
    "## 3 Calculate growth rates\n",
    "## 4 T-test of EV growth rate vs population growth\n",
    "   ### 4.5 interpret results\n",
    "## 5 Linear Regression analysis of EV per capita increasing with #EVCS\n",
    "   ### Interpret Results\n",
    "## 6 Supervised Machine Learning - Creating models for High & Medium county clusters\n",
    "    "
   ]
  },
  {
   "cell_type": "code",
   "execution_count": null,
   "id": "fcbf6c09",
   "metadata": {},
   "outputs": [],
   "source": []
  },
  {
   "cell_type": "markdown",
   "id": "734c0a15",
   "metadata": {},
   "source": [
    "#1. Import Libraries and Data"
   ]
  },
  {
   "cell_type": "code",
   "execution_count": 2,
   "id": "6efd3cab",
   "metadata": {},
   "outputs": [],
   "source": [
    "import pandas as pd\n",
    "import numpy as np\n",
    "import seaborn as sns\n",
    "import matplotlib\n",
    "import matplotlib.pyplot as plt\n",
    "import os\n",
    "\n",
    "from scipy.stats import ttest_ind"
   ]
  },
  {
   "cell_type": "code",
   "execution_count": 3,
   "id": "6c47c238",
   "metadata": {},
   "outputs": [],
   "source": [
    "# Set the option to display graphs within the notebook.\n",
    "\n",
    "%matplotlib inline"
   ]
  },
  {
   "cell_type": "code",
   "execution_count": 4,
   "id": "dca636d7",
   "metadata": {},
   "outputs": [],
   "source": [
    "#Define file path\n",
    "\n",
    "path = r'C:\\Users\\Caroline\\Documents\\Career Foundry\\06 2023 EVCS washington state'"
   ]
  },
  {
   "cell_type": "code",
   "execution_count": 5,
   "id": "9c2628b7",
   "metadata": {},
   "outputs": [],
   "source": [
    "# Import data\n",
    "\n",
    "df_present = pd.read_pickle(os.path.join(path, '02 Data', 'Prepared Data', 'WA_present_cluster.pkl'))\n",
    "df_hist = pd.read_pickle(os.path.join(path, '02 Data', 'Prepared Data', 'WA_hist.pkl'))"
   ]
  },
  {
   "cell_type": "code",
   "execution_count": null,
   "id": "373bb0c1",
   "metadata": {},
   "outputs": [],
   "source": []
  },
  {
   "cell_type": "markdown",
   "id": "69ef4b52",
   "metadata": {},
   "source": [
    "#2 Data Checking & Preparation"
   ]
  },
  {
   "cell_type": "code",
   "execution_count": 7,
   "id": "9228d47d",
   "metadata": {},
   "outputs": [
    {
     "data": {
      "text/plain": [
       "(3203, 17)"
      ]
     },
     "execution_count": 7,
     "metadata": {},
     "output_type": "execute_result"
    }
   ],
   "source": [
    "#Check data and clean\n",
    "df_hist.shape"
   ]
  },
  {
   "cell_type": "code",
   "execution_count": 8,
   "id": "548e9938",
   "metadata": {},
   "outputs": [
    {
     "data": {
      "text/plain": [
       "(1902, 26)"
      ]
     },
     "execution_count": 8,
     "metadata": {},
     "output_type": "execute_result"
    }
   ],
   "source": [
    "df_present.shape"
   ]
  },
  {
   "cell_type": "code",
   "execution_count": 9,
   "id": "98850e46",
   "metadata": {},
   "outputs": [
    {
     "data": {
      "text/html": [
       "<div>\n",
       "<style scoped>\n",
       "    .dataframe tbody tr th:only-of-type {\n",
       "        vertical-align: middle;\n",
       "    }\n",
       "\n",
       "    .dataframe tbody tr th {\n",
       "        vertical-align: top;\n",
       "    }\n",
       "\n",
       "    .dataframe thead th {\n",
       "        text-align: right;\n",
       "    }\n",
       "</style>\n",
       "<table border=\"1\" class=\"dataframe\">\n",
       "  <thead>\n",
       "    <tr style=\"text-align: right;\">\n",
       "      <th></th>\n",
       "      <th>Date</th>\n",
       "      <th>County</th>\n",
       "      <th>BEV Registered</th>\n",
       "      <th>PHEV Registerd</th>\n",
       "      <th>EV Total</th>\n",
       "      <th>Non-EV Total</th>\n",
       "      <th>Total Vehicles</th>\n",
       "      <th>BEV %</th>\n",
       "      <th>Overall EV %</th>\n",
       "      <th>Year</th>\n",
       "      <th>Month</th>\n",
       "      <th>Station Count</th>\n",
       "      <th>Cum_CS_count</th>\n",
       "      <th>Cumulative EVCS WA</th>\n",
       "      <th>Estimated Population</th>\n",
       "      <th>EVs per person</th>\n",
       "      <th>Total Vehicles per person</th>\n",
       "    </tr>\n",
       "  </thead>\n",
       "  <tbody>\n",
       "    <tr>\n",
       "      <th>0</th>\n",
       "      <td>2014-06-01</td>\n",
       "      <td>Adams</td>\n",
       "      <td>0</td>\n",
       "      <td>0</td>\n",
       "      <td>0</td>\n",
       "      <td>0</td>\n",
       "      <td>0</td>\n",
       "      <td>NaN</td>\n",
       "      <td>NaN</td>\n",
       "      <td>2014</td>\n",
       "      <td>6</td>\n",
       "      <td>1</td>\n",
       "      <td>1</td>\n",
       "      <td>9</td>\n",
       "      <td>19482</td>\n",
       "      <td>NaN</td>\n",
       "      <td>NaN</td>\n",
       "    </tr>\n",
       "    <tr>\n",
       "      <th>1</th>\n",
       "      <td>2017-01-01</td>\n",
       "      <td>Adams</td>\n",
       "      <td>1</td>\n",
       "      <td>1</td>\n",
       "      <td>2</td>\n",
       "      <td>17252</td>\n",
       "      <td>17254</td>\n",
       "      <td>50.000000</td>\n",
       "      <td>0.011592</td>\n",
       "      <td>2017</td>\n",
       "      <td>1</td>\n",
       "      <td>0</td>\n",
       "      <td>1</td>\n",
       "      <td>309</td>\n",
       "      <td>19968</td>\n",
       "      <td>0.00010</td>\n",
       "      <td>0.864083</td>\n",
       "    </tr>\n",
       "    <tr>\n",
       "      <th>2</th>\n",
       "      <td>2017-02-01</td>\n",
       "      <td>Adams</td>\n",
       "      <td>2</td>\n",
       "      <td>2</td>\n",
       "      <td>4</td>\n",
       "      <td>17197</td>\n",
       "      <td>17201</td>\n",
       "      <td>50.000000</td>\n",
       "      <td>0.023254</td>\n",
       "      <td>2017</td>\n",
       "      <td>2</td>\n",
       "      <td>0</td>\n",
       "      <td>1</td>\n",
       "      <td>316</td>\n",
       "      <td>19984</td>\n",
       "      <td>0.00020</td>\n",
       "      <td>0.860739</td>\n",
       "    </tr>\n",
       "    <tr>\n",
       "      <th>3</th>\n",
       "      <td>2017-03-01</td>\n",
       "      <td>Adams</td>\n",
       "      <td>2</td>\n",
       "      <td>4</td>\n",
       "      <td>6</td>\n",
       "      <td>17177</td>\n",
       "      <td>17183</td>\n",
       "      <td>33.333333</td>\n",
       "      <td>0.034918</td>\n",
       "      <td>2017</td>\n",
       "      <td>3</td>\n",
       "      <td>0</td>\n",
       "      <td>1</td>\n",
       "      <td>322</td>\n",
       "      <td>20000</td>\n",
       "      <td>0.00030</td>\n",
       "      <td>0.859150</td>\n",
       "    </tr>\n",
       "    <tr>\n",
       "      <th>4</th>\n",
       "      <td>2017-04-01</td>\n",
       "      <td>Adams</td>\n",
       "      <td>2</td>\n",
       "      <td>3</td>\n",
       "      <td>5</td>\n",
       "      <td>17200</td>\n",
       "      <td>17205</td>\n",
       "      <td>40.000000</td>\n",
       "      <td>0.029061</td>\n",
       "      <td>2017</td>\n",
       "      <td>4</td>\n",
       "      <td>0</td>\n",
       "      <td>1</td>\n",
       "      <td>331</td>\n",
       "      <td>20015</td>\n",
       "      <td>0.00025</td>\n",
       "      <td>0.859605</td>\n",
       "    </tr>\n",
       "  </tbody>\n",
       "</table>\n",
       "</div>"
      ],
      "text/plain": [
       "        Date County  BEV Registered  PHEV Registerd  EV Total  Non-EV Total  \\\n",
       "0 2014-06-01  Adams               0               0         0             0   \n",
       "1 2017-01-01  Adams               1               1         2         17252   \n",
       "2 2017-02-01  Adams               2               2         4         17197   \n",
       "3 2017-03-01  Adams               2               4         6         17177   \n",
       "4 2017-04-01  Adams               2               3         5         17200   \n",
       "\n",
       "   Total Vehicles      BEV %  Overall EV %  Year  Month  Station Count  \\\n",
       "0               0        NaN           NaN  2014      6              1   \n",
       "1           17254  50.000000      0.011592  2017      1              0   \n",
       "2           17201  50.000000      0.023254  2017      2              0   \n",
       "3           17183  33.333333      0.034918  2017      3              0   \n",
       "4           17205  40.000000      0.029061  2017      4              0   \n",
       "\n",
       "   Cum_CS_count  Cumulative EVCS WA  Estimated Population  EVs per person  \\\n",
       "0             1                   9                 19482             NaN   \n",
       "1             1                 309                 19968         0.00010   \n",
       "2             1                 316                 19984         0.00020   \n",
       "3             1                 322                 20000         0.00030   \n",
       "4             1                 331                 20015         0.00025   \n",
       "\n",
       "   Total Vehicles per person  \n",
       "0                        NaN  \n",
       "1                   0.864083  \n",
       "2                   0.860739  \n",
       "3                   0.859150  \n",
       "4                   0.859605  "
      ]
     },
     "execution_count": 9,
     "metadata": {},
     "output_type": "execute_result"
    }
   ],
   "source": [
    "#Visual check of df_hist\n",
    "df_hist.head()"
   ]
  },
  {
   "cell_type": "code",
   "execution_count": 10,
   "id": "3bb1ab44",
   "metadata": {},
   "outputs": [
    {
     "name": "stdout",
     "output_type": "stream",
     "text": [
      "<class 'pandas.core.frame.DataFrame'>\n",
      "RangeIndex: 3203 entries, 0 to 3202\n",
      "Data columns (total 17 columns):\n",
      " #   Column                     Non-Null Count  Dtype         \n",
      "---  ------                     --------------  -----         \n",
      " 0   Date                       3203 non-null   datetime64[ns]\n",
      " 1   County                     3203 non-null   object        \n",
      " 2   BEV Registered             3203 non-null   int32         \n",
      " 3   PHEV Registerd             3203 non-null   int32         \n",
      " 4   EV Total                   3203 non-null   int32         \n",
      " 5   Non-EV Total               3203 non-null   int32         \n",
      " 6   Total Vehicles             3203 non-null   int32         \n",
      " 7   BEV %                      3003 non-null   float64       \n",
      " 8   Overall EV %               3003 non-null   float64       \n",
      " 9   Year                       3203 non-null   int32         \n",
      " 10  Month                      3203 non-null   int32         \n",
      " 11  Station Count              3203 non-null   int32         \n",
      " 12  Cum_CS_count               3203 non-null   int32         \n",
      " 13  Cumulative EVCS WA         3203 non-null   int32         \n",
      " 14  Estimated Population       3203 non-null   int64         \n",
      " 15  EVs per person             3003 non-null   float64       \n",
      " 16  Total Vehicles per person  3003 non-null   float64       \n",
      "dtypes: datetime64[ns](1), float64(4), int32(10), int64(1), object(1)\n",
      "memory usage: 300.4+ KB\n"
     ]
    }
   ],
   "source": [
    "df_hist.info()"
   ]
  },
  {
   "cell_type": "code",
   "execution_count": 11,
   "id": "dc7773b8",
   "metadata": {},
   "outputs": [],
   "source": [
    "# Drop rows with any NaN values\n",
    "df_hist = df_hist.dropna()"
   ]
  },
  {
   "cell_type": "code",
   "execution_count": 12,
   "id": "20a4cc7f",
   "metadata": {},
   "outputs": [
    {
     "name": "stdout",
     "output_type": "stream",
     "text": [
      "<class 'pandas.core.frame.DataFrame'>\n",
      "Int64Index: 3003 entries, 1 to 3201\n",
      "Data columns (total 17 columns):\n",
      " #   Column                     Non-Null Count  Dtype         \n",
      "---  ------                     --------------  -----         \n",
      " 0   Date                       3003 non-null   datetime64[ns]\n",
      " 1   County                     3003 non-null   object        \n",
      " 2   BEV Registered             3003 non-null   int32         \n",
      " 3   PHEV Registerd             3003 non-null   int32         \n",
      " 4   EV Total                   3003 non-null   int32         \n",
      " 5   Non-EV Total               3003 non-null   int32         \n",
      " 6   Total Vehicles             3003 non-null   int32         \n",
      " 7   BEV %                      3003 non-null   float64       \n",
      " 8   Overall EV %               3003 non-null   float64       \n",
      " 9   Year                       3003 non-null   int32         \n",
      " 10  Month                      3003 non-null   int32         \n",
      " 11  Station Count              3003 non-null   int32         \n",
      " 12  Cum_CS_count               3003 non-null   int32         \n",
      " 13  Cumulative EVCS WA         3003 non-null   int32         \n",
      " 14  Estimated Population       3003 non-null   int64         \n",
      " 15  EVs per person             3003 non-null   float64       \n",
      " 16  Total Vehicles per person  3003 non-null   float64       \n",
      "dtypes: datetime64[ns](1), float64(4), int32(10), int64(1), object(1)\n",
      "memory usage: 305.0+ KB\n"
     ]
    }
   ],
   "source": [
    "df_hist.info()"
   ]
  },
  {
   "cell_type": "code",
   "execution_count": 13,
   "id": "05619631",
   "metadata": {},
   "outputs": [],
   "source": [
    "#Subset df_hist to relevant columns - EV total, Total Vehicles, Overall EV% Estimated population\n",
    "relevant_columns = ['Date', 'County', 'EV Total', 'Total Vehicles', 'Overall EV %', 'Estimated Population', 'Cum_CS_count', 'Cumulative EVCS WA']"
   ]
  },
  {
   "cell_type": "code",
   "execution_count": 14,
   "id": "ef31f2cf",
   "metadata": {},
   "outputs": [],
   "source": [
    "df_hist_sub = df_hist[relevant_columns]"
   ]
  },
  {
   "cell_type": "code",
   "execution_count": 15,
   "id": "50206522",
   "metadata": {},
   "outputs": [
    {
     "data": {
      "text/plain": [
       "(3003, 8)"
      ]
     },
     "execution_count": 15,
     "metadata": {},
     "output_type": "execute_result"
    }
   ],
   "source": [
    "df_hist_sub.shape"
   ]
  },
  {
   "cell_type": "code",
   "execution_count": 16,
   "id": "95c64dc2",
   "metadata": {},
   "outputs": [
    {
     "name": "stdout",
     "output_type": "stream",
     "text": [
      "<class 'pandas.core.frame.DataFrame'>\n",
      "Int64Index: 1902 entries, 0 to 1901\n",
      "Data columns (total 26 columns):\n",
      " #   Column            Non-Null Count  Dtype         \n",
      "---  ------            --------------  -----         \n",
      " 0   Station Name      1900 non-null   object        \n",
      " 1   City              1900 non-null   object        \n",
      " 2   County            1902 non-null   object        \n",
      " 3   Latitude          1900 non-null   float64       \n",
      " 4   Longitude         1900 non-null   float64       \n",
      " 5   EV Level1         1902 non-null   int32         \n",
      " 6   EV Level2         1902 non-null   int32         \n",
      " 7   EV Level3         1902 non-null   int32         \n",
      " 8   Open Date2        1900 non-null   datetime64[ns]\n",
      " 9   evcs_sum          1902 non-null   int32         \n",
      " 10  L3cs_sum_county   1900 non-null   float64       \n",
      " 11  L3port present    1900 non-null   object        \n",
      " 12  CountyPop_90      1902 non-null   int64         \n",
      " 13  CountyPop_00      1902 non-null   int64         \n",
      " 14  CountyPop_10      1902 non-null   int64         \n",
      " 15  CountyPop_20      1902 non-null   int64         \n",
      " 16  CountyPop_22      1902 non-null   int64         \n",
      " 17  Area sq mi        1902 non-null   float64       \n",
      " 18  popdensity        1902 non-null   float64       \n",
      " 19  density flag      1902 non-null   object        \n",
      " 20  00-20 popchange   1902 non-null   int64         \n",
      " 21  20-22 popchange   1902 non-null   int64         \n",
      " 22  EV_co_curr        1902 non-null   int64         \n",
      " 23  Year              1902 non-null   int32         \n",
      " 24  Month             1902 non-null   int32         \n",
      " 25  cluster_category  1902 non-null   object        \n",
      "dtypes: datetime64[ns](1), float64(5), int32(6), int64(8), object(6)\n",
      "memory usage: 356.6+ KB\n"
     ]
    }
   ],
   "source": [
    "df_present.info()"
   ]
  },
  {
   "cell_type": "code",
   "execution_count": 17,
   "id": "2427d779",
   "metadata": {},
   "outputs": [],
   "source": [
    "# Group df_present by County and extract cluster_category\n",
    "grouped_present = df_present.groupby('County')['cluster_category'].first()"
   ]
  },
  {
   "cell_type": "code",
   "execution_count": 18,
   "id": "b624f5ef",
   "metadata": {},
   "outputs": [],
   "source": [
    "# Merge the cluster_category onto df_hist using County as the key\n",
    "df_hist_stat = df_hist_sub.merge(grouped_present, on='County', how='left')"
   ]
  },
  {
   "cell_type": "code",
   "execution_count": 19,
   "id": "1df9c2c9",
   "metadata": {},
   "outputs": [
    {
     "data": {
      "text/plain": [
       "(3003, 9)"
      ]
     },
     "execution_count": 19,
     "metadata": {},
     "output_type": "execute_result"
    }
   ],
   "source": [
    "df_hist_stat.shape"
   ]
  },
  {
   "cell_type": "code",
   "execution_count": 20,
   "id": "ebade1f2",
   "metadata": {},
   "outputs": [
    {
     "data": {
      "text/html": [
       "<div>\n",
       "<style scoped>\n",
       "    .dataframe tbody tr th:only-of-type {\n",
       "        vertical-align: middle;\n",
       "    }\n",
       "\n",
       "    .dataframe tbody tr th {\n",
       "        vertical-align: top;\n",
       "    }\n",
       "\n",
       "    .dataframe thead th {\n",
       "        text-align: right;\n",
       "    }\n",
       "</style>\n",
       "<table border=\"1\" class=\"dataframe\">\n",
       "  <thead>\n",
       "    <tr style=\"text-align: right;\">\n",
       "      <th></th>\n",
       "      <th>Date</th>\n",
       "      <th>County</th>\n",
       "      <th>EV Total</th>\n",
       "      <th>Total Vehicles</th>\n",
       "      <th>Overall EV %</th>\n",
       "      <th>Estimated Population</th>\n",
       "      <th>Cum_CS_count</th>\n",
       "      <th>Cumulative EVCS WA</th>\n",
       "      <th>cluster_category</th>\n",
       "    </tr>\n",
       "  </thead>\n",
       "  <tbody>\n",
       "    <tr>\n",
       "      <th>0</th>\n",
       "      <td>2017-01-01</td>\n",
       "      <td>Adams</td>\n",
       "      <td>2</td>\n",
       "      <td>17254</td>\n",
       "      <td>0.011592</td>\n",
       "      <td>19968</td>\n",
       "      <td>1</td>\n",
       "      <td>309</td>\n",
       "      <td>low</td>\n",
       "    </tr>\n",
       "    <tr>\n",
       "      <th>1</th>\n",
       "      <td>2017-02-01</td>\n",
       "      <td>Adams</td>\n",
       "      <td>4</td>\n",
       "      <td>17201</td>\n",
       "      <td>0.023254</td>\n",
       "      <td>19984</td>\n",
       "      <td>1</td>\n",
       "      <td>316</td>\n",
       "      <td>low</td>\n",
       "    </tr>\n",
       "    <tr>\n",
       "      <th>2</th>\n",
       "      <td>2017-03-01</td>\n",
       "      <td>Adams</td>\n",
       "      <td>6</td>\n",
       "      <td>17183</td>\n",
       "      <td>0.034918</td>\n",
       "      <td>20000</td>\n",
       "      <td>1</td>\n",
       "      <td>322</td>\n",
       "      <td>low</td>\n",
       "    </tr>\n",
       "    <tr>\n",
       "      <th>3</th>\n",
       "      <td>2017-04-01</td>\n",
       "      <td>Adams</td>\n",
       "      <td>5</td>\n",
       "      <td>17205</td>\n",
       "      <td>0.029061</td>\n",
       "      <td>20015</td>\n",
       "      <td>1</td>\n",
       "      <td>331</td>\n",
       "      <td>low</td>\n",
       "    </tr>\n",
       "    <tr>\n",
       "      <th>4</th>\n",
       "      <td>2017-05-01</td>\n",
       "      <td>Adams</td>\n",
       "      <td>5</td>\n",
       "      <td>17281</td>\n",
       "      <td>0.028934</td>\n",
       "      <td>20031</td>\n",
       "      <td>1</td>\n",
       "      <td>345</td>\n",
       "      <td>low</td>\n",
       "    </tr>\n",
       "  </tbody>\n",
       "</table>\n",
       "</div>"
      ],
      "text/plain": [
       "        Date County  EV Total  Total Vehicles  Overall EV %  \\\n",
       "0 2017-01-01  Adams         2           17254      0.011592   \n",
       "1 2017-02-01  Adams         4           17201      0.023254   \n",
       "2 2017-03-01  Adams         6           17183      0.034918   \n",
       "3 2017-04-01  Adams         5           17205      0.029061   \n",
       "4 2017-05-01  Adams         5           17281      0.028934   \n",
       "\n",
       "   Estimated Population  Cum_CS_count  Cumulative EVCS WA cluster_category  \n",
       "0                 19968             1                 309              low  \n",
       "1                 19984             1                 316              low  \n",
       "2                 20000             1                 322              low  \n",
       "3                 20015             1                 331              low  \n",
       "4                 20031             1                 345              low  "
      ]
     },
     "execution_count": 20,
     "metadata": {},
     "output_type": "execute_result"
    }
   ],
   "source": [
    "df_hist_stat.head()"
   ]
  },
  {
   "cell_type": "code",
   "execution_count": null,
   "id": "74b0cda3",
   "metadata": {},
   "outputs": [],
   "source": []
  },
  {
   "cell_type": "markdown",
   "id": "50104037",
   "metadata": {},
   "source": [
    "#3 Calculate Growth Rates"
   ]
  },
  {
   "cell_type": "code",
   "execution_count": 22,
   "id": "37515031",
   "metadata": {},
   "outputs": [],
   "source": [
    "# Calculate growth rate for the entire state\n",
    "df_state_growth = df_hist_stat.groupby('Date').agg({\n",
    "    'EV Total': 'sum',  # Sum of EV Total for the state\n",
    "    'Total Vehicles': 'sum',  # Sum of Total Vehicles for the state\n",
    "    'Estimated Population': 'sum'\n",
    "}).reset_index()"
   ]
  },
  {
   "cell_type": "code",
   "execution_count": 23,
   "id": "fa888fc7",
   "metadata": {},
   "outputs": [],
   "source": [
    "# Calculate overall EV percentage for the state\n",
    "df_state_growth['Overall EV%'] = (df_state_growth['EV Total'] / df_state_growth['Total Vehicles']) * 100"
   ]
  },
  {
   "cell_type": "code",
   "execution_count": 24,
   "id": "85f31a37",
   "metadata": {},
   "outputs": [],
   "source": [
    "# Calculate growth rate of overall EV percentage\n",
    "df_state_growth['Overall EV% Growth'] = df_state_growth['Overall EV%'].pct_change() * 100"
   ]
  },
  {
   "cell_type": "code",
   "execution_count": 25,
   "id": "04368de7",
   "metadata": {},
   "outputs": [],
   "source": [
    "# Calculate growth rate of estimated population for the state\n",
    "df_state_growth['Population Growth'] = df_state_growth['Estimated Population'].pct_change() * 100"
   ]
  },
  {
   "cell_type": "code",
   "execution_count": 26,
   "id": "2324eccd",
   "metadata": {},
   "outputs": [],
   "source": [
    "# Calculate growth rate for each cluster_category\n",
    "df_cluster_growth = df_hist_stat.groupby(['Date', 'cluster_category']).agg({\n",
    "    'EV Total': 'sum',  # Sum of EV Total for each cluster_category\n",
    "    'Total Vehicles': 'sum',  # Sum of Total Vehicles for each cluster_category\n",
    "    'Estimated Population': 'sum'\n",
    "}).reset_index()"
   ]
  },
  {
   "cell_type": "code",
   "execution_count": 27,
   "id": "6b9e4452",
   "metadata": {},
   "outputs": [],
   "source": [
    "# Calculate overall EV percentage for each cluster category\n",
    "df_cluster_growth['Overall EV%'] = (df_cluster_growth['EV Total'] / df_cluster_growth['Total Vehicles']) * 100"
   ]
  },
  {
   "cell_type": "code",
   "execution_count": 28,
   "id": "b3d9fcd9",
   "metadata": {},
   "outputs": [],
   "source": [
    "# Define a function to calculate growth rates within each cluster category\n",
    "def calculate_growth_rate(group):\n",
    "    group['Overall EV% Growth'] = group['Overall EV%'].pct_change() * 100\n",
    "    group['Population Growth'] = group['Estimated Population'].pct_change() * 100\n",
    "    return group"
   ]
  },
  {
   "cell_type": "code",
   "execution_count": 29,
   "id": "e2967fd2",
   "metadata": {},
   "outputs": [],
   "source": [
    "# Apply the growth rate calculation function within each cluster category group\n",
    "df_cluster_growth = df_cluster_growth.groupby('cluster_category').apply(calculate_growth_rate)"
   ]
  },
  {
   "cell_type": "code",
   "execution_count": 30,
   "id": "24745da0",
   "metadata": {},
   "outputs": [
    {
     "data": {
      "text/html": [
       "<div>\n",
       "<style scoped>\n",
       "    .dataframe tbody tr th:only-of-type {\n",
       "        vertical-align: middle;\n",
       "    }\n",
       "\n",
       "    .dataframe tbody tr th {\n",
       "        vertical-align: top;\n",
       "    }\n",
       "\n",
       "    .dataframe thead th {\n",
       "        text-align: right;\n",
       "    }\n",
       "</style>\n",
       "<table border=\"1\" class=\"dataframe\">\n",
       "  <thead>\n",
       "    <tr style=\"text-align: right;\">\n",
       "      <th></th>\n",
       "      <th>Date</th>\n",
       "      <th>EV Total</th>\n",
       "      <th>Total Vehicles</th>\n",
       "      <th>Estimated Population</th>\n",
       "      <th>Overall EV%</th>\n",
       "      <th>Overall EV% Growth</th>\n",
       "      <th>Population Growth</th>\n",
       "    </tr>\n",
       "  </thead>\n",
       "  <tbody>\n",
       "    <tr>\n",
       "      <th>0</th>\n",
       "      <td>2017-01-01</td>\n",
       "      <td>21799</td>\n",
       "      <td>5941374</td>\n",
       "      <td>7370171</td>\n",
       "      <td>0.366902</td>\n",
       "      <td>NaN</td>\n",
       "      <td>NaN</td>\n",
       "    </tr>\n",
       "    <tr>\n",
       "      <th>1</th>\n",
       "      <td>2017-02-01</td>\n",
       "      <td>22474</td>\n",
       "      <td>5931654</td>\n",
       "      <td>7378347</td>\n",
       "      <td>0.378883</td>\n",
       "      <td>3.265413</td>\n",
       "      <td>0.110934</td>\n",
       "    </tr>\n",
       "    <tr>\n",
       "      <th>2</th>\n",
       "      <td>2017-03-01</td>\n",
       "      <td>23066</td>\n",
       "      <td>5931765</td>\n",
       "      <td>7386519</td>\n",
       "      <td>0.388856</td>\n",
       "      <td>2.632234</td>\n",
       "      <td>0.110757</td>\n",
       "    </tr>\n",
       "    <tr>\n",
       "      <th>3</th>\n",
       "      <td>2017-04-01</td>\n",
       "      <td>23744</td>\n",
       "      <td>5927862</td>\n",
       "      <td>7394687</td>\n",
       "      <td>0.400549</td>\n",
       "      <td>3.007168</td>\n",
       "      <td>0.110580</td>\n",
       "    </tr>\n",
       "    <tr>\n",
       "      <th>4</th>\n",
       "      <td>2017-05-01</td>\n",
       "      <td>24354</td>\n",
       "      <td>5930614</td>\n",
       "      <td>7402861</td>\n",
       "      <td>0.410649</td>\n",
       "      <td>2.521475</td>\n",
       "      <td>0.110539</td>\n",
       "    </tr>\n",
       "  </tbody>\n",
       "</table>\n",
       "</div>"
      ],
      "text/plain": [
       "        Date  EV Total  Total Vehicles  Estimated Population  Overall EV%  \\\n",
       "0 2017-01-01     21799         5941374               7370171     0.366902   \n",
       "1 2017-02-01     22474         5931654               7378347     0.378883   \n",
       "2 2017-03-01     23066         5931765               7386519     0.388856   \n",
       "3 2017-04-01     23744         5927862               7394687     0.400549   \n",
       "4 2017-05-01     24354         5930614               7402861     0.410649   \n",
       "\n",
       "   Overall EV% Growth  Population Growth  \n",
       "0                 NaN                NaN  \n",
       "1            3.265413           0.110934  \n",
       "2            2.632234           0.110757  \n",
       "3            3.007168           0.110580  \n",
       "4            2.521475           0.110539  "
      ]
     },
     "execution_count": 30,
     "metadata": {},
     "output_type": "execute_result"
    }
   ],
   "source": [
    "df_state_growth.head()"
   ]
  },
  {
   "cell_type": "code",
   "execution_count": 31,
   "id": "7779c86d",
   "metadata": {},
   "outputs": [
    {
     "data": {
      "text/html": [
       "<div>\n",
       "<style scoped>\n",
       "    .dataframe tbody tr th:only-of-type {\n",
       "        vertical-align: middle;\n",
       "    }\n",
       "\n",
       "    .dataframe tbody tr th {\n",
       "        vertical-align: top;\n",
       "    }\n",
       "\n",
       "    .dataframe thead th {\n",
       "        text-align: right;\n",
       "    }\n",
       "</style>\n",
       "<table border=\"1\" class=\"dataframe\">\n",
       "  <thead>\n",
       "    <tr style=\"text-align: right;\">\n",
       "      <th></th>\n",
       "      <th>Date</th>\n",
       "      <th>cluster_category</th>\n",
       "      <th>EV Total</th>\n",
       "      <th>Total Vehicles</th>\n",
       "      <th>Estimated Population</th>\n",
       "      <th>Overall EV%</th>\n",
       "      <th>Overall EV% Growth</th>\n",
       "      <th>Population Growth</th>\n",
       "    </tr>\n",
       "  </thead>\n",
       "  <tbody>\n",
       "    <tr>\n",
       "      <th>0</th>\n",
       "      <td>2017-01-01</td>\n",
       "      <td>high</td>\n",
       "      <td>12435</td>\n",
       "      <td>1590959</td>\n",
       "      <td>2154041</td>\n",
       "      <td>0.781604</td>\n",
       "      <td>NaN</td>\n",
       "      <td>NaN</td>\n",
       "    </tr>\n",
       "    <tr>\n",
       "      <th>1</th>\n",
       "      <td>2017-01-01</td>\n",
       "      <td>low</td>\n",
       "      <td>2467</td>\n",
       "      <td>1813693</td>\n",
       "      <td>2008978</td>\n",
       "      <td>0.136021</td>\n",
       "      <td>NaN</td>\n",
       "      <td>NaN</td>\n",
       "    </tr>\n",
       "    <tr>\n",
       "      <th>2</th>\n",
       "      <td>2017-01-01</td>\n",
       "      <td>medium</td>\n",
       "      <td>6897</td>\n",
       "      <td>2536722</td>\n",
       "      <td>3207152</td>\n",
       "      <td>0.271886</td>\n",
       "      <td>NaN</td>\n",
       "      <td>NaN</td>\n",
       "    </tr>\n",
       "    <tr>\n",
       "      <th>3</th>\n",
       "      <td>2017-02-01</td>\n",
       "      <td>high</td>\n",
       "      <td>12821</td>\n",
       "      <td>1588641</td>\n",
       "      <td>2156861</td>\n",
       "      <td>0.807042</td>\n",
       "      <td>3.254582</td>\n",
       "      <td>0.130917</td>\n",
       "    </tr>\n",
       "    <tr>\n",
       "      <th>4</th>\n",
       "      <td>2017-02-01</td>\n",
       "      <td>low</td>\n",
       "      <td>2530</td>\n",
       "      <td>1810493</td>\n",
       "      <td>2010555</td>\n",
       "      <td>0.139741</td>\n",
       "      <td>2.734970</td>\n",
       "      <td>0.078498</td>\n",
       "    </tr>\n",
       "    <tr>\n",
       "      <th>5</th>\n",
       "      <td>2017-02-01</td>\n",
       "      <td>medium</td>\n",
       "      <td>7123</td>\n",
       "      <td>2532520</td>\n",
       "      <td>3210931</td>\n",
       "      <td>0.281261</td>\n",
       "      <td>3.448146</td>\n",
       "      <td>0.117830</td>\n",
       "    </tr>\n",
       "    <tr>\n",
       "      <th>6</th>\n",
       "      <td>2017-03-01</td>\n",
       "      <td>high</td>\n",
       "      <td>13114</td>\n",
       "      <td>1585671</td>\n",
       "      <td>2159681</td>\n",
       "      <td>0.827032</td>\n",
       "      <td>2.476896</td>\n",
       "      <td>0.130746</td>\n",
       "    </tr>\n",
       "    <tr>\n",
       "      <th>7</th>\n",
       "      <td>2017-03-01</td>\n",
       "      <td>low</td>\n",
       "      <td>2639</td>\n",
       "      <td>1813493</td>\n",
       "      <td>2012125</td>\n",
       "      <td>0.145520</td>\n",
       "      <td>4.135747</td>\n",
       "      <td>0.078088</td>\n",
       "    </tr>\n",
       "    <tr>\n",
       "      <th>8</th>\n",
       "      <td>2017-03-01</td>\n",
       "      <td>medium</td>\n",
       "      <td>7313</td>\n",
       "      <td>2532601</td>\n",
       "      <td>3214713</td>\n",
       "      <td>0.288755</td>\n",
       "      <td>2.664132</td>\n",
       "      <td>0.117785</td>\n",
       "    </tr>\n",
       "    <tr>\n",
       "      <th>9</th>\n",
       "      <td>2017-04-01</td>\n",
       "      <td>high</td>\n",
       "      <td>13450</td>\n",
       "      <td>1580996</td>\n",
       "      <td>2162501</td>\n",
       "      <td>0.850730</td>\n",
       "      <td>2.865423</td>\n",
       "      <td>0.130575</td>\n",
       "    </tr>\n",
       "    <tr>\n",
       "      <th>10</th>\n",
       "      <td>2017-04-01</td>\n",
       "      <td>low</td>\n",
       "      <td>2741</td>\n",
       "      <td>1814869</td>\n",
       "      <td>2013694</td>\n",
       "      <td>0.151030</td>\n",
       "      <td>3.786352</td>\n",
       "      <td>0.077977</td>\n",
       "    </tr>\n",
       "    <tr>\n",
       "      <th>11</th>\n",
       "      <td>2017-04-01</td>\n",
       "      <td>medium</td>\n",
       "      <td>7553</td>\n",
       "      <td>2531997</td>\n",
       "      <td>3218492</td>\n",
       "      <td>0.298302</td>\n",
       "      <td>3.306464</td>\n",
       "      <td>0.117553</td>\n",
       "    </tr>\n",
       "  </tbody>\n",
       "</table>\n",
       "</div>"
      ],
      "text/plain": [
       "         Date cluster_category  EV Total  Total Vehicles  \\\n",
       "0  2017-01-01             high     12435         1590959   \n",
       "1  2017-01-01              low      2467         1813693   \n",
       "2  2017-01-01           medium      6897         2536722   \n",
       "3  2017-02-01             high     12821         1588641   \n",
       "4  2017-02-01              low      2530         1810493   \n",
       "5  2017-02-01           medium      7123         2532520   \n",
       "6  2017-03-01             high     13114         1585671   \n",
       "7  2017-03-01              low      2639         1813493   \n",
       "8  2017-03-01           medium      7313         2532601   \n",
       "9  2017-04-01             high     13450         1580996   \n",
       "10 2017-04-01              low      2741         1814869   \n",
       "11 2017-04-01           medium      7553         2531997   \n",
       "\n",
       "    Estimated Population  Overall EV%  Overall EV% Growth  Population Growth  \n",
       "0                2154041     0.781604                 NaN                NaN  \n",
       "1                2008978     0.136021                 NaN                NaN  \n",
       "2                3207152     0.271886                 NaN                NaN  \n",
       "3                2156861     0.807042            3.254582           0.130917  \n",
       "4                2010555     0.139741            2.734970           0.078498  \n",
       "5                3210931     0.281261            3.448146           0.117830  \n",
       "6                2159681     0.827032            2.476896           0.130746  \n",
       "7                2012125     0.145520            4.135747           0.078088  \n",
       "8                3214713     0.288755            2.664132           0.117785  \n",
       "9                2162501     0.850730            2.865423           0.130575  \n",
       "10               2013694     0.151030            3.786352           0.077977  \n",
       "11               3218492     0.298302            3.306464           0.117553  "
      ]
     },
     "execution_count": 31,
     "metadata": {},
     "output_type": "execute_result"
    }
   ],
   "source": [
    "df_cluster_growth.head(12)"
   ]
  },
  {
   "cell_type": "code",
   "execution_count": null,
   "id": "6f22171c",
   "metadata": {},
   "outputs": [],
   "source": []
  },
  {
   "cell_type": "markdown",
   "id": "12d84b49",
   "metadata": {},
   "source": [
    "#4 T-tests"
   ]
  },
  {
   "cell_type": "code",
   "execution_count": 33,
   "id": "4f91870d",
   "metadata": {},
   "outputs": [],
   "source": [
    "#T-test of State growth rates\n",
    "#Null Hypothesis (H0):\n",
    "#The growth rate of overall EV registrations is not greater than the growth rate of population.\n",
    "\n",
    "#Alternative Hypothesis (H1):\n",
    "#The growth rate of overall EV registrations is greater than the growth rate of population."
   ]
  },
  {
   "cell_type": "code",
   "execution_count": 34,
   "id": "5b719d0b",
   "metadata": {},
   "outputs": [
    {
     "name": "stdout",
     "output_type": "stream",
     "text": [
      "T-Statistic: 24.144518698374448\n",
      "P-Value: 7.709953562941554e-54\n"
     ]
    }
   ],
   "source": [
    "# Exclude the first row with NaN values\n",
    "df_state_growth_nonan = df_state_growth.iloc[1:]\n",
    "\n",
    "# Perform the t-test\n",
    "t_statistic, p_value = ttest_ind(\n",
    "    df_state_growth_nonan['Overall EV% Growth'],\n",
    "    df_state_growth_nonan['Population Growth'],\n",
    "    alternative='greater'  # Test for greater than (alternative hypothesis)\n",
    ")\n",
    "\n",
    "print(\"T-Statistic:\", t_statistic)\n",
    "print(\"P-Value:\", p_value)"
   ]
  },
  {
   "cell_type": "code",
   "execution_count": 35,
   "id": "b06192a0",
   "metadata": {},
   "outputs": [],
   "source": [
    "#T-tests of growth rates for each cluster category\n",
    "#Null Hypothesis (H0):\n",
    "#The growth rate of overall EV registrations is not greater than the growth rate of population for this cluster category.\n",
    "\n",
    "#Alternative Hypothesis (H1):\n",
    "#The growth rate of overall EV registrations is greater than the growth rate of population for this cluster category."
   ]
  },
  {
   "cell_type": "code",
   "execution_count": 36,
   "id": "a3152ea0",
   "metadata": {},
   "outputs": [
    {
     "name": "stdout",
     "output_type": "stream",
     "text": [
      "Cluster Category: high\n",
      "T-Statistic: 21.221838351424744\n",
      "P-Value: 2.507460219337242e-47\n",
      "\n",
      "Null Hypothesis Rejected: Overall EV% Growth rate is greater than Population Growth.\n",
      "\n",
      "\n",
      "Cluster Category: low\n",
      "T-Statistic: 30.109064794885995\n",
      "P-Value: 9.116542194504289e-66\n",
      "\n",
      "Null Hypothesis Rejected: Overall EV% Growth rate is greater than Population Growth.\n",
      "\n",
      "\n",
      "Cluster Category: medium\n",
      "T-Statistic: 25.265311288691795\n",
      "P-Value: 3.2418813546475902e-56\n",
      "\n",
      "Null Hypothesis Rejected: Overall EV% Growth rate is greater than Population Growth.\n",
      "\n",
      "\n"
     ]
    }
   ],
   "source": [
    "# Exclude the first row with NaN values\n",
    "df_cluster_growth_nonan = df_cluster_growth.iloc[3:]\n",
    "\n",
    "# Perform t-tests for each cluster category\n",
    "cluster_categories = df_cluster_growth_nonan['cluster_category'].unique()\n",
    "\n",
    "for category in cluster_categories:\n",
    "    category_data = df_cluster_growth_nonan[df_cluster_growth_nonan['cluster_category'] == category]\n",
    "    \n",
    "    t_statistic, p_value = ttest_ind(\n",
    "        category_data['Overall EV% Growth'],\n",
    "        category_data['Population Growth'],\n",
    "        alternative='greater'  # Test for greater than (alternative hypothesis)\n",
    "    )\n",
    "    \n",
    "    print(f\"Cluster Category: {category}\")\n",
    "    print(\"T-Statistic:\", t_statistic)\n",
    "    print(\"P-Value:\", p_value)\n",
    "    print(\"\")\n",
    "\n",
    "    if p_value < 0.05:\n",
    "        print(\"Null Hypothesis Rejected: Overall EV% Growth rate is greater than Population Growth.\")\n",
    "    else:\n",
    "        print(\"Null Hypothesis Not Rejected: Overall EV% Growth rate is not greater than Population Growth.\")\n",
    "    print(\"\\n\")\n"
   ]
  },
  {
   "cell_type": "code",
   "execution_count": null,
   "id": "fd0365e2",
   "metadata": {},
   "outputs": [],
   "source": []
  },
  {
   "cell_type": "markdown",
   "id": "b24e37e4",
   "metadata": {},
   "source": [
    "#4.5 Interpreting the Results"
   ]
  },
  {
   "cell_type": "markdown",
   "id": "d05d57c8",
   "metadata": {},
   "source": [
    "For the t-test of state growth rates: Based on the statistical analysis, I have strong evidence to reject the null hypothesis. This indicates that the growth rate of Overall EV% is statistically significantly greater than the growth rate of the Population. The t-statistic value of 24.144 further confirms that the difference in growth rates is substantial. \n",
    "- The results provide strong support for my hypothesis that the growth rate of EV registrations is higher than the growth rate of the population."
   ]
  },
  {
   "cell_type": "markdown",
   "id": "da04f225",
   "metadata": {},
   "source": [
    "For the t-tests conducted on different cluster categories:\n",
    "\n",
    "Based on the statistical analysis, I have substantial evidence to reject the null hypothesis for all cluster categories. This suggests that the growth rate of Overall EV% is statistically significantly greater than the growth rate of the Population. The t-statistic values are quite high (21.22 for \"high,\" 30.11 for \"low,\" and 25.27 for \"medium\"), which further strengthens the notion that the difference in growth rates is considerable.\n",
    "\n",
    "- These results provide robust support for my hypothesis that the growth rate of EV registrations surpasses the growth rate of the population, regardless of the cluster category. This implies that the adoption and registration of electric vehicles are indeed experiencing a more rapid increase compared to the general population growth."
   ]
  },
  {
   "cell_type": "code",
   "execution_count": null,
   "id": "3a924dc9",
   "metadata": {},
   "outputs": [],
   "source": []
  },
  {
   "cell_type": "markdown",
   "id": "24c9a2e1",
   "metadata": {},
   "source": [
    "#5. Linear Regression Analysis - Hyp 4 EV/population drives #EVCS"
   ]
  },
  {
   "cell_type": "markdown",
   "id": "f3f62f51",
   "metadata": {},
   "source": [
    "Null Hypothesis (H0): There is no significant linear relationship between the increase in the total number of EVs (divided by the population) and the total number of EVCS.\n",
    "\n",
    "Alternative Hypothesis (H1): There is a significant linear relationship between the increase in the total number of EVs (divided by the population) and the total number of EVCS."
   ]
  },
  {
   "cell_type": "code",
   "execution_count": 39,
   "id": "d6be3fed",
   "metadata": {},
   "outputs": [],
   "source": [
    "import statsmodels.api as sm"
   ]
  },
  {
   "cell_type": "code",
   "execution_count": 40,
   "id": "8e380299",
   "metadata": {},
   "outputs": [
    {
     "name": "stdout",
     "output_type": "stream",
     "text": [
      "                            OLS Regression Results                            \n",
      "==============================================================================\n",
      "Dep. Variable:     Cumulative EVCS WA   R-squared:                       0.192\n",
      "Model:                            OLS   Adj. R-squared:                  0.192\n",
      "Method:                 Least Squares   F-statistic:                     713.4\n",
      "Date:                Fri, 18 Aug 2023   Prob (F-statistic):          3.44e-141\n",
      "Time:                        12:47:18   Log-Likelihood:                -22455.\n",
      "No. Observations:                3003   AIC:                         4.491e+04\n",
      "Df Residuals:                    3001   BIC:                         4.493e+04\n",
      "Df Model:                           1                                         \n",
      "Covariance Type:            nonrobust                                         \n",
      "=============================================================================================\n",
      "                                coef    std err          t      P>|t|      [0.025      0.975]\n",
      "---------------------------------------------------------------------------------------------\n",
      "const                       683.2370     10.338     66.091      0.000     662.967     703.507\n",
      "Increase in EV per capita  3.982e+04   1490.675     26.710      0.000    3.69e+04    4.27e+04\n",
      "==============================================================================\n",
      "Omnibus:                      285.115   Durbin-Watson:                   0.117\n",
      "Prob(Omnibus):                  0.000   Jarque-Bera (JB):              250.996\n",
      "Skew:                           0.633   Prob(JB):                     3.14e-55\n",
      "Kurtosis:                       2.365   Cond. No.                         191.\n",
      "==============================================================================\n",
      "\n",
      "Notes:\n",
      "[1] Standard Errors assume that the covariance matrix of the errors is correctly specified.\n"
     ]
    }
   ],
   "source": [
    "# Create a linear regression model\n",
    "\n",
    "# Calculate the increase in EVs per capita\n",
    "df_hist['Increase in EV per capita'] = df_hist['EV Total'] / df_hist['Estimated Population']\n",
    "\n",
    "# Define your independent variable (X) and dependent variable (Y)\n",
    "X = df_hist[['Increase in EV per capita']]\n",
    "Y = df_hist['Cumulative EVCS WA']  # Total number of EVCS\n",
    "\n",
    "# Add a constant to the independent variable matrix\n",
    "X = sm.add_constant(X)\n",
    "\n",
    "# Fit the linear regression model\n",
    "model = sm.OLS(Y, X).fit()\n",
    "\n",
    "# Print the summary of the regression analysis\n",
    "print(model.summary())"
   ]
  },
  {
   "cell_type": "markdown",
   "id": "9f0fbc1e",
   "metadata": {},
   "source": [
    "Overall, the model suggests that there is a statistically significant relationship between the increase in EVs per capita and the cumulative number of EV charging stations. However, the R-squared value of 0.192 indicates that only a relatively small portion of the variability in the dependent variable can be explained by the increase in EVs per capita. It's important to note that while statistically significant, other factors not included in this model might also be influencing the number of EV charging stations."
   ]
  },
  {
   "cell_type": "markdown",
   "id": "7b306ee3",
   "metadata": {},
   "source": [
    "Threre is sufficient evidence to reject the null hypothesis and accept the alternative hypothesis that there is a statistically significant relationship between the increase in EVs per capita and the cumulative number of EV charging stations. The R-squared value, while indicating that only a relatively small portion of the variability is explained by the model, doesn't change the conclusion drawn from the p-value. It just suggests that there might be other factors at play that are not accounted for in the model."
   ]
  },
  {
   "cell_type": "code",
   "execution_count": 41,
   "id": "a989af3a",
   "metadata": {},
   "outputs": [],
   "source": [
    "# Group by date and calculate total EV and population for each date\n",
    "df_state = df_hist.groupby('Date').agg({'EV Total': 'sum', 'Estimated Population': 'sum', 'Cumulative EVCS WA': 'max'}).reset_index()"
   ]
  },
  {
   "cell_type": "code",
   "execution_count": 42,
   "id": "661bb090",
   "metadata": {},
   "outputs": [],
   "source": [
    "# Calculate increase in EV per capita\n",
    "df_state['Increase in EV per capita'] = df_state['EV Total'] / df_state['Estimated Population']"
   ]
  },
  {
   "cell_type": "code",
   "execution_count": 43,
   "id": "2234586a",
   "metadata": {},
   "outputs": [
    {
     "name": "stdout",
     "output_type": "stream",
     "text": [
      "                            OLS Regression Results                            \n",
      "==============================================================================\n",
      "Dep. Variable:     Cumulative EVCS WA   R-squared:                       0.977\n",
      "Model:                            OLS   Adj. R-squared:                  0.977\n",
      "Method:                 Least Squares   F-statistic:                     3192.\n",
      "Date:                Fri, 18 Aug 2023   Prob (F-statistic):           3.16e-63\n",
      "Time:                        12:47:18   Log-Likelihood:                -438.67\n",
      "No. Observations:                  77   AIC:                             881.3\n",
      "Df Residuals:                      75   BIC:                             886.0\n",
      "Df Model:                           1                                         \n",
      "Covariance Type:            nonrobust                                         \n",
      "=============================================================================================\n",
      "                                coef    std err          t      P>|t|      [0.025      0.975]\n",
      "---------------------------------------------------------------------------------------------\n",
      "const                      -141.3733     19.648     -7.195      0.000    -180.514    -102.232\n",
      "Increase in EV per capita  1.265e+05   2239.271     56.502      0.000    1.22e+05    1.31e+05\n",
      "==============================================================================\n",
      "Omnibus:                       99.552   Durbin-Watson:                   0.119\n",
      "Prob(Omnibus):                  0.000   Jarque-Bera (JB):                7.403\n",
      "Skew:                          -0.156   Prob(JB):                       0.0247\n",
      "Kurtosis:                       1.513   Cond. No.                         269.\n",
      "==============================================================================\n",
      "\n",
      "Notes:\n",
      "[1] Standard Errors assume that the covariance matrix of the errors is correctly specified.\n"
     ]
    }
   ],
   "source": [
    "X = sm.add_constant(df_state['Increase in EV per capita'])\n",
    "Y = df_state['Cumulative EVCS WA']\n",
    "\n",
    "model = sm.OLS(Y, X).fit()\n",
    "\n",
    "# Print regression summary\n",
    "print(model.summary())"
   ]
  },
  {
   "cell_type": "markdown",
   "id": "07185dfc",
   "metadata": {},
   "source": [
    "R-squared and Adjusted R-squared: These values indicate the proportion of the variation in the dependent variable that can be explained by the independent variable(s). In your case, an R-squared value of 0.977 suggests that around 97.7% of the variability in the dependent variable \"Cumulative EVCS WA\" can be explained by changes in the \"Increase in EV per capita.\" This is quite high and indicates that your model fits the data very well."
   ]
  },
  {
   "cell_type": "markdown",
   "id": "50103585",
   "metadata": {},
   "source": [
    "Overall, the results indicate a very strong and statistically significant relationship between the increase in electric vehicles per capita and the cumulative number of electric vehicle charging stations in Washington state. The high R-squared value suggests that your model explains a large portion of the variability in the dependent variable based on the increase in EV per capita. 95% confidence interval"
   ]
  },
  {
   "cell_type": "markdown",
   "id": "402147d0",
   "metadata": {},
   "source": [
    "First Linear Regression (County Basis):\n",
    "\n",
    "R-squared: 0.192 (19.2%)\n",
    "Coefficient for \"Increase in EV per capita\": Small magnitude\n",
    "Prob (F-statistic): Very small\n",
    "\n",
    "Second Linear Regression (Statewide Basis):\n",
    "\n",
    "R-squared: 0.977 (97.7%)\n",
    "Coefficient for \"Increase in EV per capita\": Large magnitude\n",
    "Prob (F-statistic): Very small\n",
    "Comparison and Interpretation:\n",
    "\n",
    "R-squared:\n",
    "\n",
    "The R-squared value in the first regression, where the increase in EV per capita was done on a county basis, was 0.192 (19.2%). This means that only about 19.2% of the variability in the dependent variable (Cumulative EVCS WA) was explained by the increase in EV per capita at the county level.\n",
    "In the second regression, where the increase in EV per capita was done on a statewide basis, the R-squared value was much higher at 0.977 (97.7%). This indicates that about 97.7% of the variability in the dependent variable was explained by the increase in EV per capita at the state level.\n",
    "\n",
    "Coefficient:\n",
    "\n",
    "In the first regression, the coefficient for \"Increase in EV per capita\" had a small magnitude, suggesting a relatively weak relationship between the increase in EV per capita and the cumulative number of EV charging stations at the county level.\n",
    "In the second regression, the coefficient for \"Increase in EV per capita\" had a large magnitude, indicating a strong and significant relationship between the increase in EV per capita and the cumulative number of EV charging stations at the state level.\n",
    "\n",
    "Prob (F-statistic):\n",
    "\n",
    "Both regressions had very small p-values for the F-statistic, indicating that the models as a whole were statistically significant. This means that at least one independent variable had a significant impact on the dependent variable."
   ]
  },
  {
   "cell_type": "markdown",
   "id": "e239e6ab",
   "metadata": {},
   "source": [
    "Interpretation:\n",
    "The comparison of the two regression results suggests a considerable difference in the explanatory power of the two models. The regression conducted at the statewide level, where the increase in EV per capita was analyzed collectively for the entire state, resulted in a much higher R-squared value and a stronger coefficient for the \"Increase in EV per capita.\" This indicates that the increase in EV per capita at the state level has a highly significant and impactful relationship with the cumulative number of EV charging stations in Washington state. The county-level analysis provided a much weaker explanatory power compared to the state-level analysis."
   ]
  },
  {
   "cell_type": "code",
   "execution_count": 44,
   "id": "84e029c4",
   "metadata": {},
   "outputs": [
    {
     "data": {
      "text/html": [
       "<div>\n",
       "<style scoped>\n",
       "    .dataframe tbody tr th:only-of-type {\n",
       "        vertical-align: middle;\n",
       "    }\n",
       "\n",
       "    .dataframe tbody tr th {\n",
       "        vertical-align: top;\n",
       "    }\n",
       "\n",
       "    .dataframe thead th {\n",
       "        text-align: right;\n",
       "    }\n",
       "</style>\n",
       "<table border=\"1\" class=\"dataframe\">\n",
       "  <thead>\n",
       "    <tr style=\"text-align: right;\">\n",
       "      <th></th>\n",
       "      <th>Date</th>\n",
       "      <th>County</th>\n",
       "      <th>EV Total</th>\n",
       "      <th>Total Vehicles</th>\n",
       "      <th>Overall EV %</th>\n",
       "      <th>Estimated Population</th>\n",
       "      <th>Cum_CS_count</th>\n",
       "      <th>Cumulative EVCS WA</th>\n",
       "      <th>cluster_category</th>\n",
       "    </tr>\n",
       "  </thead>\n",
       "  <tbody>\n",
       "    <tr>\n",
       "      <th>0</th>\n",
       "      <td>2017-01-01</td>\n",
       "      <td>Adams</td>\n",
       "      <td>2</td>\n",
       "      <td>17254</td>\n",
       "      <td>0.011592</td>\n",
       "      <td>19968</td>\n",
       "      <td>1</td>\n",
       "      <td>309</td>\n",
       "      <td>low</td>\n",
       "    </tr>\n",
       "    <tr>\n",
       "      <th>1</th>\n",
       "      <td>2017-02-01</td>\n",
       "      <td>Adams</td>\n",
       "      <td>4</td>\n",
       "      <td>17201</td>\n",
       "      <td>0.023254</td>\n",
       "      <td>19984</td>\n",
       "      <td>1</td>\n",
       "      <td>316</td>\n",
       "      <td>low</td>\n",
       "    </tr>\n",
       "    <tr>\n",
       "      <th>2</th>\n",
       "      <td>2017-03-01</td>\n",
       "      <td>Adams</td>\n",
       "      <td>6</td>\n",
       "      <td>17183</td>\n",
       "      <td>0.034918</td>\n",
       "      <td>20000</td>\n",
       "      <td>1</td>\n",
       "      <td>322</td>\n",
       "      <td>low</td>\n",
       "    </tr>\n",
       "    <tr>\n",
       "      <th>3</th>\n",
       "      <td>2017-04-01</td>\n",
       "      <td>Adams</td>\n",
       "      <td>5</td>\n",
       "      <td>17205</td>\n",
       "      <td>0.029061</td>\n",
       "      <td>20015</td>\n",
       "      <td>1</td>\n",
       "      <td>331</td>\n",
       "      <td>low</td>\n",
       "    </tr>\n",
       "    <tr>\n",
       "      <th>4</th>\n",
       "      <td>2017-05-01</td>\n",
       "      <td>Adams</td>\n",
       "      <td>5</td>\n",
       "      <td>17281</td>\n",
       "      <td>0.028934</td>\n",
       "      <td>20031</td>\n",
       "      <td>1</td>\n",
       "      <td>345</td>\n",
       "      <td>low</td>\n",
       "    </tr>\n",
       "  </tbody>\n",
       "</table>\n",
       "</div>"
      ],
      "text/plain": [
       "        Date County  EV Total  Total Vehicles  Overall EV %  \\\n",
       "0 2017-01-01  Adams         2           17254      0.011592   \n",
       "1 2017-02-01  Adams         4           17201      0.023254   \n",
       "2 2017-03-01  Adams         6           17183      0.034918   \n",
       "3 2017-04-01  Adams         5           17205      0.029061   \n",
       "4 2017-05-01  Adams         5           17281      0.028934   \n",
       "\n",
       "   Estimated Population  Cum_CS_count  Cumulative EVCS WA cluster_category  \n",
       "0                 19968             1                 309              low  \n",
       "1                 19984             1                 316              low  \n",
       "2                 20000             1                 322              low  \n",
       "3                 20015             1                 331              low  \n",
       "4                 20031             1                 345              low  "
      ]
     },
     "execution_count": 44,
     "metadata": {},
     "output_type": "execute_result"
    }
   ],
   "source": [
    "df_hist_stat.head()"
   ]
  },
  {
   "cell_type": "code",
   "execution_count": null,
   "id": "c37fdf8f",
   "metadata": {},
   "outputs": [],
   "source": []
  },
  {
   "cell_type": "markdown",
   "id": "fed23e48",
   "metadata": {},
   "source": [
    "# 5. Linear Regression testing of Hyp 4 EV/population drives #EVCS by cluster category"
   ]
  },
  {
   "cell_type": "code",
   "execution_count": 46,
   "id": "751cca1a",
   "metadata": {},
   "outputs": [],
   "source": [
    "# Separate the data by cluster\n",
    "low_cluster_data = df_hist_stat[df_hist_stat['cluster_category'] == 'low']\n",
    "medium_cluster_data = df_hist_stat[df_hist_stat['cluster_category'] == 'medium']\n",
    "high_cluster_data = df_hist_stat[df_hist_stat['cluster_category'] == 'high']"
   ]
  },
  {
   "cell_type": "code",
   "execution_count": 47,
   "id": "2e58794c",
   "metadata": {},
   "outputs": [
    {
     "name": "stdout",
     "output_type": "stream",
     "text": [
      "Low Cluster Results:\n",
      "                            OLS Regression Results                            \n",
      "==============================================================================\n",
      "Dep. Variable:           Cum_CS_count   R-squared:                       0.086\n",
      "Model:                            OLS   Adj. R-squared:                  0.086\n",
      "Method:                 Least Squares   F-statistic:                     232.0\n",
      "Date:                Fri, 18 Aug 2023   Prob (F-statistic):           3.92e-50\n",
      "Time:                        12:47:18   Log-Likelihood:                -8400.6\n",
      "No. Observations:                2464   AIC:                         1.681e+04\n",
      "Df Residuals:                    2462   BIC:                         1.682e+04\n",
      "Df Model:                           1                                         \n",
      "Covariance Type:            nonrobust                                         \n",
      "==============================================================================\n",
      "                 coef    std err          t      P>|t|      [0.025      0.975]\n",
      "------------------------------------------------------------------------------\n",
      "const          4.8632      0.187     26.041      0.000       4.497       5.229\n",
      "0            443.6246     29.126     15.231      0.000     386.512     500.738\n",
      "==============================================================================\n",
      "Omnibus:                      872.687   Durbin-Watson:                   0.038\n",
      "Prob(Omnibus):                  0.000   Jarque-Bera (JB):             2666.962\n",
      "Skew:                           1.839   Prob(JB):                         0.00\n",
      "Kurtosis:                       6.529   Cond. No.                         197.\n",
      "==============================================================================\n",
      "\n",
      "Notes:\n",
      "[1] Standard Errors assume that the covariance matrix of the errors is correctly specified.\n"
     ]
    }
   ],
   "source": [
    "# Linear regression for the low cluster\n",
    "X_low = sm.add_constant(low_cluster_data['EV Total'] / low_cluster_data['Estimated Population'])\n",
    "Y_low = low_cluster_data['Cum_CS_count']\n",
    "model_low = sm.OLS(Y_low, X_low).fit()\n",
    "print(\"Low Cluster Results:\")\n",
    "print(model_low.summary())"
   ]
  },
  {
   "cell_type": "code",
   "execution_count": 48,
   "id": "22bf91d0",
   "metadata": {},
   "outputs": [
    {
     "name": "stdout",
     "output_type": "stream",
     "text": [
      "Medium Cluster Results:\n",
      "                            OLS Regression Results                            \n",
      "==============================================================================\n",
      "Dep. Variable:           Cum_CS_count   R-squared:                       0.345\n",
      "Model:                            OLS   Adj. R-squared:                  0.343\n",
      "Method:                 Least Squares   F-statistic:                     241.8\n",
      "Date:                Fri, 18 Aug 2023   Prob (F-statistic):           4.08e-44\n",
      "Time:                        12:47:18   Log-Likelihood:                -2065.4\n",
      "No. Observations:                 462   AIC:                             4135.\n",
      "Df Residuals:                     460   BIC:                             4143.\n",
      "Df Model:                           1                                         \n",
      "Covariance Type:            nonrobust                                         \n",
      "==============================================================================\n",
      "                 coef    std err          t      P>|t|      [0.025      0.975]\n",
      "------------------------------------------------------------------------------\n",
      "const         10.6657      1.921      5.552      0.000       6.890      14.441\n",
      "0           4176.3036    268.596     15.549      0.000    3648.476    4704.131\n",
      "==============================================================================\n",
      "Omnibus:                       97.087   Durbin-Watson:                   0.071\n",
      "Prob(Omnibus):                  0.000   Jarque-Bera (JB):              171.625\n",
      "Skew:                           1.217   Prob(JB):                     5.40e-38\n",
      "Kurtosis:                       4.730   Cond. No.                         272.\n",
      "==============================================================================\n",
      "\n",
      "Notes:\n",
      "[1] Standard Errors assume that the covariance matrix of the errors is correctly specified.\n"
     ]
    }
   ],
   "source": [
    "# Linear regression for the medium cluster\n",
    "X_medium = sm.add_constant(medium_cluster_data['EV Total'] / medium_cluster_data['Estimated Population'])\n",
    "Y_medium = medium_cluster_data['Cum_CS_count']\n",
    "model_medium = sm.OLS(Y_medium, X_medium).fit()\n",
    "print(\"Medium Cluster Results:\")\n",
    "print(model_medium.summary())\n"
   ]
  },
  {
   "cell_type": "code",
   "execution_count": 49,
   "id": "a4b35a92",
   "metadata": {},
   "outputs": [
    {
     "name": "stdout",
     "output_type": "stream",
     "text": [
      "High Cluster Results:\n",
      "                            OLS Regression Results                            \n",
      "==============================================================================\n",
      "Dep. Variable:           Cum_CS_count   R-squared:                       0.953\n",
      "Model:                            OLS   Adj. R-squared:                  0.952\n",
      "Method:                 Least Squares   F-statistic:                     1508.\n",
      "Date:                Fri, 18 Aug 2023   Prob (F-statistic):           2.01e-51\n",
      "Time:                        12:47:18   Log-Likelihood:                -423.84\n",
      "No. Observations:                  77   AIC:                             851.7\n",
      "Df Residuals:                      75   BIC:                             856.4\n",
      "Df Model:                           1                                         \n",
      "Covariance Type:            nonrobust                                         \n",
      "==============================================================================\n",
      "                 coef    std err          t      P>|t|      [0.025      0.975]\n",
      "------------------------------------------------------------------------------\n",
      "const       -172.1829     17.074    -10.085      0.000    -206.196    -138.170\n",
      "0           4.168e+04   1073.161     38.838      0.000    3.95e+04    4.38e+04\n",
      "==============================================================================\n",
      "Omnibus:                       59.326   Durbin-Watson:                   0.098\n",
      "Prob(Omnibus):                  0.000   Jarque-Bera (JB):                6.903\n",
      "Skew:                          -0.220   Prob(JB):                       0.0317\n",
      "Kurtosis:                       1.601   Cond. No.                         156.\n",
      "==============================================================================\n",
      "\n",
      "Notes:\n",
      "[1] Standard Errors assume that the covariance matrix of the errors is correctly specified.\n"
     ]
    }
   ],
   "source": [
    "# Linear regression for the high cluster\n",
    "X_high = sm.add_constant(high_cluster_data['EV Total'] / high_cluster_data['Estimated Population'])\n",
    "Y_high = high_cluster_data['Cum_CS_count']\n",
    "model_high = sm.OLS(Y_high, X_high).fit()\n",
    "print(\"High Cluster Results:\")\n",
    "print(model_high.summary())\n"
   ]
  },
  {
   "cell_type": "markdown",
   "id": "e752b9c5",
   "metadata": {},
   "source": [
    "Low Cluster Results:\n",
    "\n",
    "R-squared: 0.086\n",
    "P-value for the coefficient of 'Increase in EV per capita': Highly significant (p < 0.001)\n",
    "The R-squared value of 0.086 suggests that only about 8.6% of the variability in the cumulative number of EV charging stations in the low cluster can be explained by the increase in EV per capita. The coefficient of the 'Increase in EV per capita' is significant, indicating that there is a relationship between these variables.\n",
    "\n",
    "Medium Cluster Results:\n",
    "\n",
    "R-squared: 0.345\n",
    "P-value for the coefficient of 'Increase in EV per capita': Highly significant (p < 0.001)\n",
    "The R-squared value of 0.345 indicates that approximately 34.5% of the variability in the cumulative number of EV charging stations in the medium cluster can be explained by the increase in EV per capita. The coefficient of the 'Increase in EV per capita' is again highly significant.\n",
    "\n",
    "High Cluster Results:\n",
    "\n",
    "R-squared: 0.953\n",
    "P-value for the coefficient of 'Increase in EV per capita': Highly significant (p < 0.001)\n",
    "The R-squared value of 0.953 suggests that a significant portion (approximately 95.3%) of the variability in the cumulative number of EV charging stations in the high cluster can be explained by the increase in EV per capita. The coefficient of the 'Increase in EV per capita' is highly significant.\n",
    "\n",
    "Comparison:\n",
    "\n",
    "The R-squared values indicate that the relationship between the increase in EV per capita and the cumulative number of EV charging stations is strongest in the high cluster (urban) and weakest in the low cluster (rural).\n",
    "In all clusters, the p-values for the coefficient of 'Increase in EV per capita' are highly significant (p < 0.001), indicating a strong relationship.\n",
    "\n",
    "Unusual Observations:\n",
    "\n",
    "The R-squared values in the medium and high clusters are notably higher than the R-squared value in the low cluster. This suggests that the increase in EV per capita has a more significant impact on the cumulative number of EV charging stations in the medium and high clusters compared to the low cluster.\n",
    "\n",
    "Limitations:\n",
    "\n",
    "While the relationships are significant, the R-squared values are relatively low, indicating that there are likely other factors beyond just the increase in EV per capita that influence the cumulative number of EV charging stations.\n",
    "The causal direction is not established by these results. While an increase in EV per capita could drive the need for more EV charging stations, it's also possible that more charging stations could lead to more people adopting EVs.\n",
    "In summary, the results indicate that there is a significant relationship between the increase in EV per capita and the cumulative number of EV charging stations across all clusters. However, the strength of this relationship varies between clusters, with the strongest relationship observed in the high (urban) cluster and the weakest in the low (rural) cluster."
   ]
  },
  {
   "cell_type": "code",
   "execution_count": null,
   "id": "49949886",
   "metadata": {},
   "outputs": [],
   "source": []
  },
  {
   "cell_type": "markdown",
   "id": "6b6b9398",
   "metadata": {},
   "source": [
    "#6 Supervised Machine Learning - Creating models for High & Medium county clusters"
   ]
  },
  {
   "cell_type": "code",
   "execution_count": 51,
   "id": "9a6c51c7",
   "metadata": {},
   "outputs": [],
   "source": [
    "import sklearn\n",
    "from sklearn.model_selection import train_test_split\n",
    "from sklearn.linear_model import LinearRegression\n",
    "from sklearn.metrics import mean_squared_error, r2_score"
   ]
  },
  {
   "cell_type": "code",
   "execution_count": 52,
   "id": "fb1c816b",
   "metadata": {},
   "outputs": [],
   "source": [
    "# predict 'Cum_CS_count' using 'EV Total' per capita\n",
    "# Create a new DataFrame with the calculated column\n",
    "high_cluster_data_p = high_cluster_data.copy()\n",
    "high_cluster_data_p['EV Total per capita'] = high_cluster_data['EV Total'] / high_cluster_data['Estimated Population']"
   ]
  },
  {
   "cell_type": "code",
   "execution_count": 53,
   "id": "404f3c42",
   "metadata": {},
   "outputs": [],
   "source": [
    "# Perform linear regression analysis\n",
    "# Prepare the features (X) and target (y)\n",
    "X = high_cluster_data_p['EV Total per capita'].values.reshape(-1, 1)\n",
    "y = high_cluster_data_p['Cum_CS_count'].values.reshape(-1, 1)\n"
   ]
  },
  {
   "cell_type": "code",
   "execution_count": 54,
   "id": "7a609dc9",
   "metadata": {},
   "outputs": [],
   "source": [
    "# Split data into a training set and a test set.\n",
    "X_train, X_test, y_train, y_test = train_test_split(X, y, test_size=0.3, random_state=7)\n"
   ]
  },
  {
   "cell_type": "code",
   "execution_count": 55,
   "id": "a9a77ee2",
   "metadata": {},
   "outputs": [
    {
     "data": {
      "text/html": [
       "<style>#sk-container-id-1 {color: black;background-color: white;}#sk-container-id-1 pre{padding: 0;}#sk-container-id-1 div.sk-toggleable {background-color: white;}#sk-container-id-1 label.sk-toggleable__label {cursor: pointer;display: block;width: 100%;margin-bottom: 0;padding: 0.3em;box-sizing: border-box;text-align: center;}#sk-container-id-1 label.sk-toggleable__label-arrow:before {content: \"▸\";float: left;margin-right: 0.25em;color: #696969;}#sk-container-id-1 label.sk-toggleable__label-arrow:hover:before {color: black;}#sk-container-id-1 div.sk-estimator:hover label.sk-toggleable__label-arrow:before {color: black;}#sk-container-id-1 div.sk-toggleable__content {max-height: 0;max-width: 0;overflow: hidden;text-align: left;background-color: #f0f8ff;}#sk-container-id-1 div.sk-toggleable__content pre {margin: 0.2em;color: black;border-radius: 0.25em;background-color: #f0f8ff;}#sk-container-id-1 input.sk-toggleable__control:checked~div.sk-toggleable__content {max-height: 200px;max-width: 100%;overflow: auto;}#sk-container-id-1 input.sk-toggleable__control:checked~label.sk-toggleable__label-arrow:before {content: \"▾\";}#sk-container-id-1 div.sk-estimator input.sk-toggleable__control:checked~label.sk-toggleable__label {background-color: #d4ebff;}#sk-container-id-1 div.sk-label input.sk-toggleable__control:checked~label.sk-toggleable__label {background-color: #d4ebff;}#sk-container-id-1 input.sk-hidden--visually {border: 0;clip: rect(1px 1px 1px 1px);clip: rect(1px, 1px, 1px, 1px);height: 1px;margin: -1px;overflow: hidden;padding: 0;position: absolute;width: 1px;}#sk-container-id-1 div.sk-estimator {font-family: monospace;background-color: #f0f8ff;border: 1px dotted black;border-radius: 0.25em;box-sizing: border-box;margin-bottom: 0.5em;}#sk-container-id-1 div.sk-estimator:hover {background-color: #d4ebff;}#sk-container-id-1 div.sk-parallel-item::after {content: \"\";width: 100%;border-bottom: 1px solid gray;flex-grow: 1;}#sk-container-id-1 div.sk-label:hover label.sk-toggleable__label {background-color: #d4ebff;}#sk-container-id-1 div.sk-serial::before {content: \"\";position: absolute;border-left: 1px solid gray;box-sizing: border-box;top: 0;bottom: 0;left: 50%;z-index: 0;}#sk-container-id-1 div.sk-serial {display: flex;flex-direction: column;align-items: center;background-color: white;padding-right: 0.2em;padding-left: 0.2em;position: relative;}#sk-container-id-1 div.sk-item {position: relative;z-index: 1;}#sk-container-id-1 div.sk-parallel {display: flex;align-items: stretch;justify-content: center;background-color: white;position: relative;}#sk-container-id-1 div.sk-item::before, #sk-container-id-1 div.sk-parallel-item::before {content: \"\";position: absolute;border-left: 1px solid gray;box-sizing: border-box;top: 0;bottom: 0;left: 50%;z-index: -1;}#sk-container-id-1 div.sk-parallel-item {display: flex;flex-direction: column;z-index: 1;position: relative;background-color: white;}#sk-container-id-1 div.sk-parallel-item:first-child::after {align-self: flex-end;width: 50%;}#sk-container-id-1 div.sk-parallel-item:last-child::after {align-self: flex-start;width: 50%;}#sk-container-id-1 div.sk-parallel-item:only-child::after {width: 0;}#sk-container-id-1 div.sk-dashed-wrapped {border: 1px dashed gray;margin: 0 0.4em 0.5em 0.4em;box-sizing: border-box;padding-bottom: 0.4em;background-color: white;}#sk-container-id-1 div.sk-label label {font-family: monospace;font-weight: bold;display: inline-block;line-height: 1.2em;}#sk-container-id-1 div.sk-label-container {text-align: center;}#sk-container-id-1 div.sk-container {/* jupyter's `normalize.less` sets `[hidden] { display: none; }` but bootstrap.min.css set `[hidden] { display: none !important; }` so we also need the `!important` here to be able to override the default hidden behavior on the sphinx rendered scikit-learn.org. See: https://github.com/scikit-learn/scikit-learn/issues/21755 */display: inline-block !important;position: relative;}#sk-container-id-1 div.sk-text-repr-fallback {display: none;}</style><div id=\"sk-container-id-1\" class=\"sk-top-container\"><div class=\"sk-text-repr-fallback\"><pre>LinearRegression()</pre><b>In a Jupyter environment, please rerun this cell to show the HTML representation or trust the notebook. <br />On GitHub, the HTML representation is unable to render, please try loading this page with nbviewer.org.</b></div><div class=\"sk-container\" hidden><div class=\"sk-item\"><div class=\"sk-estimator sk-toggleable\"><input class=\"sk-toggleable__control sk-hidden--visually\" id=\"sk-estimator-id-1\" type=\"checkbox\" checked><label for=\"sk-estimator-id-1\" class=\"sk-toggleable__label sk-toggleable__label-arrow\">LinearRegression</label><div class=\"sk-toggleable__content\"><pre>LinearRegression()</pre></div></div></div></div></div>"
      ],
      "text/plain": [
       "LinearRegression()"
      ]
     },
     "execution_count": 55,
     "metadata": {},
     "output_type": "execute_result"
    }
   ],
   "source": [
    "# Create a regression object and fit it onto the training set.\n",
    "regression = LinearRegression() \n",
    "regression.fit(X_train, y_train)"
   ]
  },
  {
   "cell_type": "code",
   "execution_count": 56,
   "id": "26a4e409",
   "metadata": {},
   "outputs": [],
   "source": [
    "# Predict the values of y using X.\n",
    "y_predicted = regression.predict(X_test)"
   ]
  },
  {
   "cell_type": "code",
   "execution_count": 57,
   "id": "f7ebecec",
   "metadata": {},
   "outputs": [],
   "source": [
    "# Calculate mean squared error and R-squared\n",
    "rmse = mean_squared_error(y_test, y_predicted)\n",
    "r2 = r2_score(y_test, y_predicted)"
   ]
  },
  {
   "cell_type": "code",
   "execution_count": 58,
   "id": "f59ae4e3",
   "metadata": {},
   "outputs": [
    {
     "name": "stdout",
     "output_type": "stream",
     "text": [
      "Slope: [[41270.1708505]]\n",
      "Mean squared error: 3729.742969791723\n",
      "R2 score: 0.9350146171650141\n"
     ]
    }
   ],
   "source": [
    "# Print the model summary statistics\n",
    "print('Slope:', regression.coef_)\n",
    "print('Mean squared error:', rmse)\n",
    "print('R2 score:', r2)"
   ]
  },
  {
   "cell_type": "code",
   "execution_count": 59,
   "id": "ffda0492",
   "metadata": {},
   "outputs": [
    {
     "name": "stdout",
     "output_type": "stream",
     "text": [
      "Slope: [[41270.1708505]]\n",
      "Mean squared error (Train): 3488.6254109569386\n",
      "R2 score (Train): 0.9570294370355971\n"
     ]
    }
   ],
   "source": [
    "# Visualize the results\n",
    "# Compare the regression to the test data\n",
    "y_predicted_train = regression.predict(X_train)\n",
    "rmse_train = mean_squared_error(y_train, y_predicted_train)\n",
    "r2_train = r2_score(y_train, y_predicted_train)\n",
    "print('Slope:', regression.coef_)\n",
    "print('Mean squared error (Train):', rmse_train)\n",
    "print('R2 score (Train):', r2_train)"
   ]
  },
  {
   "cell_type": "code",
   "execution_count": 60,
   "id": "fb92efce",
   "metadata": {},
   "outputs": [
    {
     "data": {
      "image/png": "[encoded data removed]",
      "text/plain": [
       "<Figure size 640x480 with 1 Axes>"
      ]
     },
     "metadata": {},
     "output_type": "display_data"
    },
    {
     "data": {
      "text/plain": [
       "<Figure size 640x480 with 0 Axes>"
      ]
     },
     "metadata": {},
     "output_type": "display_data"
    }
   ],
   "source": [
    "# Visualizing the test set results\n",
    "plt.scatter(X_test, y_test, color='gray', s=15)\n",
    "plt.plot(X_test, y_predicted, color='red', linewidth=3)\n",
    "plt.title('Total EVCS vs. EV Total per capita HIgh Cluster (Test set)')\n",
    "plt.xlabel('EV Total per capita')\n",
    "plt.ylabel('Total EV Charging stations')\n",
    "plt.show()\n",
    "plt.savefig(\"ML model HIGH cluster EVCS EV capita.png\") "
   ]
  },
  {
   "cell_type": "code",
   "execution_count": 61,
   "id": "e3e12797",
   "metadata": {},
   "outputs": [
    {
     "data": {
      "image/png": "[encoded data removed]",
      "text/plain": [
       "<Figure size 1000x600 with 1 Axes>"
      ]
     },
     "metadata": {},
     "output_type": "display_data"
    }
   ],
   "source": [
    "# Calculate residuals for the test set\n",
    "residuals = y_test - y_predicted\n",
    "\n",
    "# Create a DataFrame with predicted values, actual values, and residuals\n",
    "residuals_df = pd.DataFrame({\n",
    "    'Predicted Values_high': y_predicted.flatten(),\n",
    "    'Actual Values_high': y_test.flatten(),\n",
    "    'Residuals_high': residuals.flatten()\n",
    "})\n",
    "\n",
    "# Create a scatter plot of residuals against predicted values\n",
    "plt.figure(figsize=(10, 6))\n",
    "plt.scatter(residuals_df['Predicted Values_high'], residuals_df['Residuals_high'], color='blue', alpha=0.7)\n",
    "plt.axhline(y=0, color='red', linestyle='--')\n",
    "plt.title('Plot of Residuals_high')\n",
    "plt.xlabel('Predicted Values_high')\n",
    "plt.ylabel('Residuals_high')\n",
    "plt.show()"
   ]
  },
  {
   "cell_type": "code",
   "execution_count": 62,
   "id": "1189423b",
   "metadata": {},
   "outputs": [],
   "source": [
    "# Export the residuals_df DataFrame to a CSV file\n",
    "#export_path = os.path.join(path, '02 Data', 'Prepared Data', 'residuals_data_high.csv')\n",
    "#residuals_df.to_csv(export_path, index=False)\n"
   ]
  },
  {
   "cell_type": "code",
   "execution_count": 63,
   "id": "e8873615",
   "metadata": {},
   "outputs": [],
   "source": [
    "#Creating a model for the Medium cluster"
   ]
  },
  {
   "cell_type": "code",
   "execution_count": 64,
   "id": "3f942c9c",
   "metadata": {},
   "outputs": [],
   "source": [
    "# Create a new DataFrame with the calculated column\n",
    "med_cluster_data_p = medium_cluster_data.copy()\n",
    "med_cluster_data_p['EV Total per capita'] = medium_cluster_data['EV Total'] / medium_cluster_data['Estimated Population']\n"
   ]
  },
  {
   "cell_type": "code",
   "execution_count": 65,
   "id": "9fc7ca2a",
   "metadata": {},
   "outputs": [],
   "source": [
    "# Check for 0 values in 'EV Total' column and replace them with a small non-zero value\n",
    "med_cluster_data_p.loc[med_cluster_data_p['EV Total'] == 0, 'EV Total'] = 0.001"
   ]
  },
  {
   "cell_type": "code",
   "execution_count": 66,
   "id": "ca609ef8",
   "metadata": {},
   "outputs": [],
   "source": [
    "# Calculate the 'EV Total per capita' column\n",
    "med_cluster_data_p['EV Total per capita'] = med_cluster_data_p['EV Total'] / med_cluster_data_p['Estimated Population']"
   ]
  },
  {
   "cell_type": "code",
   "execution_count": 67,
   "id": "a5df7330",
   "metadata": {},
   "outputs": [],
   "source": [
    "# Prepare the features (X) and target (y)\n",
    "X = med_cluster_data_p['EV Total per capita'].values.reshape(-1, 1)\n",
    "y = med_cluster_data_p['Cum_CS_count'].values.reshape(-1, 1)"
   ]
  },
  {
   "cell_type": "code",
   "execution_count": 68,
   "id": "17587e13",
   "metadata": {},
   "outputs": [],
   "source": [
    "# Split data into a training set and a test set.\n",
    "X_train, X_test, y_train, y_test = train_test_split(X, y, test_size=0.3, random_state=7)"
   ]
  },
  {
   "cell_type": "code",
   "execution_count": 69,
   "id": "50ed1669",
   "metadata": {},
   "outputs": [
    {
     "data": {
      "text/html": [
       "<style>#sk-container-id-2 {color: black;background-color: white;}#sk-container-id-2 pre{padding: 0;}#sk-container-id-2 div.sk-toggleable {background-color: white;}#sk-container-id-2 label.sk-toggleable__label {cursor: pointer;display: block;width: 100%;margin-bottom: 0;padding: 0.3em;box-sizing: border-box;text-align: center;}#sk-container-id-2 label.sk-toggleable__label-arrow:before {content: \"▸\";float: left;margin-right: 0.25em;color: #696969;}#sk-container-id-2 label.sk-toggleable__label-arrow:hover:before {color: black;}#sk-container-id-2 div.sk-estimator:hover label.sk-toggleable__label-arrow:before {color: black;}#sk-container-id-2 div.sk-toggleable__content {max-height: 0;max-width: 0;overflow: hidden;text-align: left;background-color: #f0f8ff;}#sk-container-id-2 div.sk-toggleable__content pre {margin: 0.2em;color: black;border-radius: 0.25em;background-color: #f0f8ff;}#sk-container-id-2 input.sk-toggleable__control:checked~div.sk-toggleable__content {max-height: 200px;max-width: 100%;overflow: auto;}#sk-container-id-2 input.sk-toggleable__control:checked~label.sk-toggleable__label-arrow:before {content: \"▾\";}#sk-container-id-2 div.sk-estimator input.sk-toggleable__control:checked~label.sk-toggleable__label {background-color: #d4ebff;}#sk-container-id-2 div.sk-label input.sk-toggleable__control:checked~label.sk-toggleable__label {background-color: #d4ebff;}#sk-container-id-2 input.sk-hidden--visually {border: 0;clip: rect(1px 1px 1px 1px);clip: rect(1px, 1px, 1px, 1px);height: 1px;margin: -1px;overflow: hidden;padding: 0;position: absolute;width: 1px;}#sk-container-id-2 div.sk-estimator {font-family: monospace;background-color: #f0f8ff;border: 1px dotted black;border-radius: 0.25em;box-sizing: border-box;margin-bottom: 0.5em;}#sk-container-id-2 div.sk-estimator:hover {background-color: #d4ebff;}#sk-container-id-2 div.sk-parallel-item::after {content: \"\";width: 100%;border-bottom: 1px solid gray;flex-grow: 1;}#sk-container-id-2 div.sk-label:hover label.sk-toggleable__label {background-color: #d4ebff;}#sk-container-id-2 div.sk-serial::before {content: \"\";position: absolute;border-left: 1px solid gray;box-sizing: border-box;top: 0;bottom: 0;left: 50%;z-index: 0;}#sk-container-id-2 div.sk-serial {display: flex;flex-direction: column;align-items: center;background-color: white;padding-right: 0.2em;padding-left: 0.2em;position: relative;}#sk-container-id-2 div.sk-item {position: relative;z-index: 1;}#sk-container-id-2 div.sk-parallel {display: flex;align-items: stretch;justify-content: center;background-color: white;position: relative;}#sk-container-id-2 div.sk-item::before, #sk-container-id-2 div.sk-parallel-item::before {content: \"\";position: absolute;border-left: 1px solid gray;box-sizing: border-box;top: 0;bottom: 0;left: 50%;z-index: -1;}#sk-container-id-2 div.sk-parallel-item {display: flex;flex-direction: column;z-index: 1;position: relative;background-color: white;}#sk-container-id-2 div.sk-parallel-item:first-child::after {align-self: flex-end;width: 50%;}#sk-container-id-2 div.sk-parallel-item:last-child::after {align-self: flex-start;width: 50%;}#sk-container-id-2 div.sk-parallel-item:only-child::after {width: 0;}#sk-container-id-2 div.sk-dashed-wrapped {border: 1px dashed gray;margin: 0 0.4em 0.5em 0.4em;box-sizing: border-box;padding-bottom: 0.4em;background-color: white;}#sk-container-id-2 div.sk-label label {font-family: monospace;font-weight: bold;display: inline-block;line-height: 1.2em;}#sk-container-id-2 div.sk-label-container {text-align: center;}#sk-container-id-2 div.sk-container {/* jupyter's `normalize.less` sets `[hidden] { display: none; }` but bootstrap.min.css set `[hidden] { display: none !important; }` so we also need the `!important` here to be able to override the default hidden behavior on the sphinx rendered scikit-learn.org. See: https://github.com/scikit-learn/scikit-learn/issues/21755 */display: inline-block !important;position: relative;}#sk-container-id-2 div.sk-text-repr-fallback {display: none;}</style><div id=\"sk-container-id-2\" class=\"sk-top-container\"><div class=\"sk-text-repr-fallback\"><pre>LinearRegression()</pre><b>In a Jupyter environment, please rerun this cell to show the HTML representation or trust the notebook. <br />On GitHub, the HTML representation is unable to render, please try loading this page with nbviewer.org.</b></div><div class=\"sk-container\" hidden><div class=\"sk-item\"><div class=\"sk-estimator sk-toggleable\"><input class=\"sk-toggleable__control sk-hidden--visually\" id=\"sk-estimator-id-2\" type=\"checkbox\" checked><label for=\"sk-estimator-id-2\" class=\"sk-toggleable__label sk-toggleable__label-arrow\">LinearRegression</label><div class=\"sk-toggleable__content\"><pre>LinearRegression()</pre></div></div></div></div></div>"
      ],
      "text/plain": [
       "LinearRegression()"
      ]
     },
     "execution_count": 69,
     "metadata": {},
     "output_type": "execute_result"
    }
   ],
   "source": [
    "# Create a regression object and fit it onto the training set.\n",
    "regression = LinearRegression() \n",
    "regression.fit(X_train, y_train)"
   ]
  },
  {
   "cell_type": "code",
   "execution_count": 70,
   "id": "17ee2e84",
   "metadata": {},
   "outputs": [],
   "source": [
    "# Predict the values of y using X.\n",
    "y_predicted = regression.predict(X_test)"
   ]
  },
  {
   "cell_type": "code",
   "execution_count": 71,
   "id": "124d40d6",
   "metadata": {},
   "outputs": [],
   "source": [
    "# Calculate mean squared error and R-squared\n",
    "rmse = mean_squared_error(y_test, y_predicted)\n",
    "r2 = r2_score(y_test, y_predicted)"
   ]
  },
  {
   "cell_type": "code",
   "execution_count": 72,
   "id": "6bdd948d",
   "metadata": {},
   "outputs": [
    {
     "name": "stdout",
     "output_type": "stream",
     "text": [
      "Slope: [[4123.0799955]]\n",
      "Mean squared error: 453.19953934219956\n",
      "R2 score: 0.32431342287650333\n"
     ]
    }
   ],
   "source": [
    "# Print the model summary statistics\n",
    "print('Slope:', regression.coef_)\n",
    "print('Mean squared error:', rmse)\n",
    "print('R2 score:', r2)"
   ]
  },
  {
   "cell_type": "code",
   "execution_count": 73,
   "id": "9417b19b",
   "metadata": {},
   "outputs": [
    {
     "name": "stdout",
     "output_type": "stream",
     "text": [
      "Slope: [[4123.0799955]]\n",
      "Mean squared error (Train): 444.85293543401525\n",
      "R2 score (Train): 0.3528438536089128\n"
     ]
    }
   ],
   "source": [
    "# Compare the regression to the test data\n",
    "y_predicted_train = regression.predict(X_train)\n",
    "rmse_train = mean_squared_error(y_train, y_predicted_train)\n",
    "r2_train = r2_score(y_train, y_predicted_train)\n",
    "print('Slope:', regression.coef_)\n",
    "print('Mean squared error (Train):', rmse_train)\n",
    "print('R2 score (Train):', r2_train)\n"
   ]
  },
  {
   "cell_type": "code",
   "execution_count": 74,
   "id": "f29eac07",
   "metadata": {},
   "outputs": [
    {
     "data": {
      "image/png": "[encoded data removed]",
      "text/plain": [
       "<Figure size 640x480 with 1 Axes>"
      ]
     },
     "metadata": {},
     "output_type": "display_data"
    },
    {
     "data": {
      "text/plain": [
       "<Figure size 640x480 with 0 Axes>"
      ]
     },
     "metadata": {},
     "output_type": "display_data"
    }
   ],
   "source": [
    "# Visualizing the test set results\n",
    "plt.scatter(X_test, y_test, color='gray', s=15)\n",
    "plt.plot(X_test, y_predicted, color='red', linewidth=3)\n",
    "plt.title('Total EVCS vs. EV Total per capita Medium Cluster (Test set)')\n",
    "plt.xlabel('EV Total per capita')\n",
    "plt.ylabel('Total EV Charging stations')\n",
    "plt.show()\n",
    "plt.savefig(\"ML model Medium cluster EVCS EV capita.png\")"
   ]
  },
  {
   "cell_type": "code",
   "execution_count": 76,
   "id": "2b098299",
   "metadata": {},
   "outputs": [
    {
     "data": {
      "image/png": "[encoded data removed]",
      "text/plain": [
       "<Figure size 1000x600 with 1 Axes>"
      ]
     },
     "metadata": {},
     "output_type": "display_data"
    }
   ],
   "source": [
    "# Calculate residuals for the test set\n",
    "residuals = y_test - y_predicted\n",
    "\n",
    "# Create a new DataFrame for medium cluster residuals\n",
    "residuals_df_med = pd.DataFrame({\n",
    "    'Predicted Values_med': y_predicted.flatten(),\n",
    "    'Actual Values_med': y_test.flatten(),\n",
    "    'Residuals_med': residuals.flatten()\n",
    "})\n",
    "\n",
    "# Create a scatter plot of residuals against predicted values\n",
    "plt.figure(figsize=(10, 6))\n",
    "plt.scatter(residuals_df_med['Predicted Values_med'], residuals_df_med['Residuals_med'], color='blue', alpha=0.7)\n",
    "plt.axhline(y=0, color='red', linestyle='--')\n",
    "plt.title('Plot of Residuals_med')\n",
    "plt.xlabel('Predicted Values_med')\n",
    "plt.ylabel('Residuals_med')\n",
    "plt.show()\n"
   ]
  },
  {
   "cell_type": "code",
   "execution_count": 77,
   "id": "6d092327",
   "metadata": {},
   "outputs": [],
   "source": [
    "# Export the medium cluster residuals_df DataFrame to a CSV file\n",
    "#export_path_med = os.path.join(path, '02 Data', 'Prepared Data', 'residuals_df_med.csv')\n",
    "#residuals_df_med.to_csv(export_path_med, index=False)\n"
   ]
  },
  {
   "cell_type": "code",
   "execution_count": null,
   "id": "7a1bd99a",
   "metadata": {},
   "outputs": [],
   "source": []
  },
  {
   "cell_type": "code",
   "execution_count": null,
   "id": "5b6ad260",
   "metadata": {},
   "outputs": [],
   "source": []
  },
  {
   "cell_type": "markdown",
   "id": "660ea227",
   "metadata": {},
   "source": []
  }
 ],
 "metadata": {
  "kernelspec": {
   "display_name": "Python 3 (ipykernel)",
   "language": "python",
   "name": "python3"
  },
  "language_info": {
   "codemirror_mode": {
    "name": "ipython",
    "version": 3
   },
   "file_extension": ".py",
   "mimetype": "text/x-python",
   "name": "python",
   "nbconvert_exporter": "python",
   "pygments_lexer": "ipython3",
   "version": "3.9.13"
  }
 },
 "nbformat": 4,
 "nbformat_minor": 5
}
