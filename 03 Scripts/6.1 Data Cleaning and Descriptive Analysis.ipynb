{
 "cells": [
  {
   "cell_type": "markdown",
   "id": "665fb97e",
   "metadata": {},
   "source": [
    "# 6.1 Data Cleaning and Descriptive Analysis"
   ]
  },
  {
   "cell_type": "markdown",
   "id": "1c956972",
   "metadata": {},
   "source": [
    "- 1. Import Libraries and data\n",
    "- 2. Data cleaning \n",
    "- 3. Consistency Checks\n",
    "- 4. Descriptive Statistical Analysis\n",
    "- 5. Export Data"
   ]
  },
  {
   "cell_type": "code",
   "execution_count": null,
   "id": "7628b0a9",
   "metadata": {},
   "outputs": [],
   "source": []
  },
  {
   "cell_type": "markdown",
   "id": "67b33188",
   "metadata": {},
   "source": [
    "## 1. Import libraries"
   ]
  },
  {
   "cell_type": "code",
   "execution_count": 1,
   "id": "0044147c",
   "metadata": {},
   "outputs": [],
   "source": [
    "import pandas as pd\n",
    "import numpy as np\n",
    "import os"
   ]
  },
  {
   "cell_type": "code",
   "execution_count": 2,
   "id": "36ea30fc",
   "metadata": {},
   "outputs": [],
   "source": [
    "#Assign project folder path to string variable 'path'\n",
    "path = r'C:\\Users\\Caroline\\Documents\\Career Foundry\\06 2023 EVCS washington state'"
   ]
  },
  {
   "cell_type": "code",
   "execution_count": 3,
   "id": "0d66a22f",
   "metadata": {},
   "outputs": [],
   "source": [
    "#Import WA_EVCS.csv data set using os library \n",
    "df_station = pd.read_csv(os.path.join(path, '02 Data', 'Original Data', 'WA_EVCS.csv'), index_col = False)"
   ]
  },
  {
   "cell_type": "code",
   "execution_count": 4,
   "id": "1f7fa24f",
   "metadata": {},
   "outputs": [],
   "source": [
    "#Import WA_EV_list.csv data set using os library \n",
    "df_ev_data = pd.read_csv(os.path.join(path, '02 Data', 'Original Data', 'WA_EV_list.csv'))"
   ]
  },
  {
   "cell_type": "code",
   "execution_count": 5,
   "id": "1c36bbc5",
   "metadata": {},
   "outputs": [],
   "source": [
    "#Import ev_PopHist.csv data set using os library \n",
    "df_ev_hist = pd.read_csv(os.path.join(path, '02 Data', 'Original Data', 'ev_PopHist.csv'))"
   ]
  },
  {
   "cell_type": "code",
   "execution_count": 6,
   "id": "1da5b83c",
   "metadata": {},
   "outputs": [],
   "source": [
    "#Import city.csv data set using os library \n",
    "df_city = pd.read_csv(os.path.join(path, '02 Data', 'Original Data', 'city.csv'))"
   ]
  },
  {
   "cell_type": "code",
   "execution_count": 7,
   "id": "3407b4fc",
   "metadata": {},
   "outputs": [],
   "source": [
    "#Import wa PopCounty.csv data set using os library \n",
    "df_pop = pd.read_csv(os.path.join(path, '02 Data', 'Original Data', 'wa PopCounty.csv'))"
   ]
  },
  {
   "cell_type": "code",
   "execution_count": null,
   "id": "c7329ee4",
   "metadata": {},
   "outputs": [],
   "source": []
  },
  {
   "cell_type": "markdown",
   "id": "d9124617",
   "metadata": {},
   "source": [
    "## 2. Data Cleaning"
   ]
  },
  {
   "cell_type": "markdown",
   "id": "bde46ed5",
   "metadata": {},
   "source": [
    "### 2a. Data Cleaning - WA_EVCS.csv"
   ]
  },
  {
   "cell_type": "code",
   "execution_count": 8,
   "id": "3dbc9a33",
   "metadata": {},
   "outputs": [
    {
     "name": "stdout",
     "output_type": "stream",
     "text": [
      "(1900, 22)\n"
     ]
    }
   ],
   "source": [
    "# print the number of rows and colummns of df_station\n",
    "print(df_station.shape)"
   ]
  },
  {
   "cell_type": "code",
   "execution_count": 9,
   "id": "0d8b4f5b",
   "metadata": {},
   "outputs": [
    {
     "name": "stdout",
     "output_type": "stream",
     "text": [
      "<class 'pandas.core.frame.DataFrame'>\n",
      "RangeIndex: 1900 entries, 0 to 1899\n",
      "Data columns (total 22 columns):\n",
      " #   Column               Non-Null Count  Dtype  \n",
      "---  ------               --------------  -----  \n",
      " 0   ID                   1900 non-null   int64  \n",
      " 1   Station Name         1900 non-null   object \n",
      " 2   City                 1900 non-null   object \n",
      " 3   County               1900 non-null   object \n",
      " 4   Latitude             1900 non-null   float64\n",
      " 5   Longitude            1900 non-null   float64\n",
      " 6   EV Level1            1900 non-null   int64  \n",
      " 7   EV Level2            1900 non-null   int64  \n",
      " 8   EV Level3            1900 non-null   int64  \n",
      " 9   Open Date            1900 non-null   object \n",
      " 10  EV Network           1900 non-null   object \n",
      " 11  Facility Type        294 non-null    object \n",
      " 12  Restricted Access    267 non-null    object \n",
      " 13  EV Pricing           542 non-null    object \n",
      " 14  EV Connector Types   1900 non-null   object \n",
      " 15  EV_Connect NEMA515   1900 non-null   bool   \n",
      " 16  EV_Connect NEMA520   1900 non-null   bool   \n",
      " 17  EV_Connect NEMA1450  1900 non-null   bool   \n",
      " 18  EV_Connect CCS       1900 non-null   bool   \n",
      " 19  EV_Connect CHADEMO   1900 non-null   bool   \n",
      " 20  EV_Connect TESLA     1900 non-null   bool   \n",
      " 21  EV_Connect J1772     1900 non-null   bool   \n",
      "dtypes: bool(7), float64(2), int64(4), object(9)\n",
      "memory usage: 235.8+ KB\n"
     ]
    }
   ],
   "source": [
    "# Get summary information on df_station\n",
    "df_station.info()"
   ]
  },
  {
   "cell_type": "code",
   "execution_count": 10,
   "id": "31d2f105",
   "metadata": {},
   "outputs": [],
   "source": [
    "# remove duplicate rows\n",
    "df_station = df_station.drop_duplicates()"
   ]
  },
  {
   "cell_type": "code",
   "execution_count": 11,
   "id": "4fe912e5",
   "metadata": {},
   "outputs": [],
   "source": [
    "# dropping the 'Facility Type' column because of minimal value and overwriting df_station\n",
    "df_station = df_station.drop(columns = ['Facility Type'])"
   ]
  },
  {
   "cell_type": "code",
   "execution_count": 12,
   "id": "da9b9601",
   "metadata": {},
   "outputs": [
    {
     "data": {
      "text/plain": [
       "(1900, 21)"
      ]
     },
     "execution_count": 12,
     "metadata": {},
     "output_type": "execute_result"
    }
   ],
   "source": [
    "# Get size information on df_station\n",
    "df_station.shape"
   ]
  },
  {
   "cell_type": "code",
   "execution_count": 13,
   "id": "bda32ed3",
   "metadata": {},
   "outputs": [],
   "source": [
    "#checking for missing values - Restricted Access possibly useful, keep column\n",
    "df_station['Restricted Access'].value_counts(dropna = False)"
   ]
  },
  {
   "cell_type": "code",
   "execution_count": 14,
   "id": "327893d8",
   "metadata": {},
   "outputs": [],
   "source": [
    "#checking for missing values - EV Pricing possibly useful, keep column - possilby useful to filter\n",
    "df_station['EV Pricing'].value_counts(dropna = False)"
   ]
  },
  {
   "cell_type": "code",
   "execution_count": 15,
   "id": "96988a80",
   "metadata": {},
   "outputs": [],
   "source": [
    "# Checking for mixed data types in df_station\n",
    "for col in df_station.columns.tolist():\n",
    "  weird = (df_station[[col]].applymap(type) != df_station[[col]].iloc[0].apply(type)).any(axis = 1)\n",
    "  if len (df_station[weird]) > 0:\n",
    "    print (col)\n",
    "print ('test complete - this statement will always print')"
   ]
  },
  {
   "cell_type": "code",
   "execution_count": 16,
   "id": "deec9c7c",
   "metadata": {},
   "outputs": [],
   "source": [
    "# checking for outliers\n",
    "df_station.describe()"
   ]
  },
  {
   "cell_type": "code",
   "execution_count": null,
   "id": "a82e1f9e",
   "metadata": {},
   "outputs": [],
   "source": []
  },
  {
   "cell_type": "markdown",
   "id": "3cdbd78f",
   "metadata": {},
   "source": [
    "### 2b. Data Cleaning - WA_EV_list.csv"
   ]
  },
  {
   "cell_type": "code",
   "execution_count": 17,
   "id": "6d3d0637",
   "metadata": {},
   "outputs": [],
   "source": [
    "# Get summary information on df_ev_data\n",
    "df_ev_data.info()"
   ]
  },
  {
   "cell_type": "code",
   "execution_count": 18,
   "id": "0468193f",
   "metadata": {},
   "outputs": [],
   "source": [
    "# remove duplicate rows\n",
    "df_ev_data = df_ev_data.drop_duplicates()"
   ]
  },
  {
   "cell_type": "code",
   "execution_count": 19,
   "id": "9ddbb44c",
   "metadata": {},
   "outputs": [],
   "source": [
    "#select rows with missing data\n",
    "row_missing = df_ev_data[df_ev_data.isna().any(axis=1)]"
   ]
  },
  {
   "cell_type": "code",
   "execution_count": 20,
   "id": "2226513e",
   "metadata": {},
   "outputs": [],
   "source": [
    "print(row_missing)"
   ]
  },
  {
   "cell_type": "code",
   "execution_count": 21,
   "id": "bc870aa6",
   "metadata": {},
   "outputs": [],
   "source": [
    "# Fill missing values with a specific number - Long Beach, WA is at 46.3523° N, 124.0543° W\n",
    "df_ev_data['Longitude'] = df_ev_data['Longitude'].fillna(-124.0543)\n",
    "df_ev_data['Latitude'] = df_ev_data['Latitude'].fillna(46.3523)"
   ]
  },
  {
   "cell_type": "code",
   "execution_count": 22,
   "id": "56f4d533",
   "metadata": {},
   "outputs": [],
   "source": [
    "# Checking for mixed data types in df_ev_data\n",
    "for col in df_ev_data.columns.tolist():\n",
    "  weird = (df_ev_data[[col]].applymap(type) != df_ev_data[[col]].iloc[0].apply(type)).any(axis = 1)\n",
    "  if len (df_ev_data[weird]) > 0:\n",
    "    print (col)\n",
    "print ('test complete - this statement will always print')"
   ]
  },
  {
   "cell_type": "code",
   "execution_count": 23,
   "id": "49e8c0f2",
   "metadata": {},
   "outputs": [],
   "source": [
    "# checking for outliers\n",
    "df_ev_data.describe()"
   ]
  },
  {
   "cell_type": "code",
   "execution_count": null,
   "id": "4cad85d1",
   "metadata": {},
   "outputs": [],
   "source": []
  },
  {
   "cell_type": "markdown",
   "id": "79c263f6",
   "metadata": {},
   "source": [
    "### 2c. Data Cleaning - ev_PopHist.csv"
   ]
  },
  {
   "cell_type": "code",
   "execution_count": 24,
   "id": "fb2dc277",
   "metadata": {},
   "outputs": [],
   "source": [
    "# Get summary information on df_ev_hist\n",
    "df_ev_hist.info()"
   ]
  },
  {
   "cell_type": "code",
   "execution_count": 25,
   "id": "1fee92c5",
   "metadata": {},
   "outputs": [],
   "source": [
    "# remove duplicate rows\n",
    "df_ev_hist = df_ev_hist.drop_duplicates()"
   ]
  },
  {
   "cell_type": "code",
   "execution_count": 26,
   "id": "4d8b6622",
   "metadata": {},
   "outputs": [],
   "source": [
    "# Checking for mixed data types in df_ev_hist\n",
    "for col in df_ev_hist.columns.tolist():\n",
    "  weird = (df_ev_hist[[col]].applymap(type) != df_ev_hist[[col]].iloc[0].apply(type)).any(axis = 1)\n",
    "  if len (df_ev_hist[weird]) > 0:\n",
    "    print (col)\n",
    "print ('test complete - this statement will always print')"
   ]
  },
  {
   "cell_type": "code",
   "execution_count": 27,
   "id": "2e952db9",
   "metadata": {},
   "outputs": [],
   "source": [
    "# checking for outliers\n",
    "df_ev_hist.describe()"
   ]
  },
  {
   "cell_type": "code",
   "execution_count": null,
   "id": "cabee64e",
   "metadata": {},
   "outputs": [],
   "source": []
  },
  {
   "cell_type": "markdown",
   "id": "1468b196",
   "metadata": {},
   "source": [
    "### 2d. Data Cleaning - city.csv"
   ]
  },
  {
   "cell_type": "code",
   "execution_count": 28,
   "id": "552e46d9",
   "metadata": {},
   "outputs": [],
   "source": [
    "# Get summary information on df_city\n",
    "df_city.info()"
   ]
  },
  {
   "cell_type": "code",
   "execution_count": 29,
   "id": "a1931912",
   "metadata": {},
   "outputs": [],
   "source": [
    "# remove duplicate rows\n",
    "df_city = df_city.drop_duplicates()"
   ]
  },
  {
   "cell_type": "code",
   "execution_count": 30,
   "id": "900e4633",
   "metadata": {},
   "outputs": [],
   "source": [
    "# checking for outliers\n",
    "df_city.describe()"
   ]
  },
  {
   "cell_type": "code",
   "execution_count": null,
   "id": "e991ddde",
   "metadata": {},
   "outputs": [],
   "source": []
  },
  {
   "cell_type": "markdown",
   "id": "668e8a78",
   "metadata": {},
   "source": [
    "### 2e. Data Cleaning - wa PopCounty.csv"
   ]
  },
  {
   "cell_type": "code",
   "execution_count": 31,
   "id": "103936e9",
   "metadata": {},
   "outputs": [],
   "source": [
    "# Get summary information on df_pop\n",
    "df_pop.info()"
   ]
  },
  {
   "cell_type": "code",
   "execution_count": 32,
   "id": "2efa3204",
   "metadata": {},
   "outputs": [],
   "source": [
    "# remove duplicate rows\n",
    "df_pop = df_pop.drop_duplicates()"
   ]
  },
  {
   "cell_type": "code",
   "execution_count": 33,
   "id": "35a01673",
   "metadata": {},
   "outputs": [],
   "source": [
    "# checking for outliers\n",
    "df_pop.describe()"
   ]
  },
  {
   "cell_type": "code",
   "execution_count": null,
   "id": "605e08f9",
   "metadata": {},
   "outputs": [],
   "source": []
  },
  {
   "cell_type": "markdown",
   "id": "d5d65495",
   "metadata": {},
   "source": [
    "## 3. Consistency Checks"
   ]
  },
  {
   "cell_type": "markdown",
   "id": "d447b3b7",
   "metadata": {},
   "source": [
    "### 3a. Consistency Checks - df_station"
   ]
  },
  {
   "cell_type": "code",
   "execution_count": 13,
   "id": "aa9f5de3",
   "metadata": {},
   "outputs": [
    {
     "name": "stdout",
     "output_type": "stream",
     "text": [
      "<class 'pandas.core.frame.DataFrame'>\n",
      "Int64Index: 1900 entries, 0 to 1899\n",
      "Data columns (total 21 columns):\n",
      " #   Column               Non-Null Count  Dtype  \n",
      "---  ------               --------------  -----  \n",
      " 0   ID                   1900 non-null   int64  \n",
      " 1   Station Name         1900 non-null   object \n",
      " 2   City                 1900 non-null   object \n",
      " 3   County               1900 non-null   object \n",
      " 4   Latitude             1900 non-null   float64\n",
      " 5   Longitude            1900 non-null   float64\n",
      " 6   EV Level1            1900 non-null   int64  \n",
      " 7   EV Level2            1900 non-null   int64  \n",
      " 8   EV Level3            1900 non-null   int64  \n",
      " 9   Open Date            1900 non-null   object \n",
      " 10  EV Network           1900 non-null   object \n",
      " 11  Restricted Access    267 non-null    object \n",
      " 12  EV Pricing           542 non-null    object \n",
      " 13  EV Connector Types   1900 non-null   object \n",
      " 14  EV_Connect NEMA515   1900 non-null   bool   \n",
      " 15  EV_Connect NEMA520   1900 non-null   bool   \n",
      " 16  EV_Connect NEMA1450  1900 non-null   bool   \n",
      " 17  EV_Connect CCS       1900 non-null   bool   \n",
      " 18  EV_Connect CHADEMO   1900 non-null   bool   \n",
      " 19  EV_Connect TESLA     1900 non-null   bool   \n",
      " 20  EV_Connect J1772     1900 non-null   bool   \n",
      "dtypes: bool(7), float64(2), int64(4), object(8)\n",
      "memory usage: 235.6+ KB\n"
     ]
    }
   ],
   "source": [
    "# Get summary information on df_station\n",
    "df_station.info()"
   ]
  },
  {
   "cell_type": "code",
   "execution_count": 14,
   "id": "ca220434",
   "metadata": {},
   "outputs": [],
   "source": [
    "#reduce data size of df_station  \n",
    "df_station['ID'] = df_station['ID'].astype('str')\n",
    "df_station['EV Level1'] = df_station['EV Level1'].astype('int8')\n",
    "df_station['EV Level2'] = df_station['EV Level2'].astype('int8')\n",
    "df_station['EV Level3'] = df_station['EV Level3'].astype('int8')"
   ]
  },
  {
   "cell_type": "code",
   "execution_count": 15,
   "id": "3ac31de4",
   "metadata": {},
   "outputs": [],
   "source": [
    "# Convert the Open date string to a timestamp object\n",
    "df_station['Open Date2'] = pd.to_datetime(df_station['Open Date'])"
   ]
  },
  {
   "cell_type": "code",
   "execution_count": 16,
   "id": "4bf59db1",
   "metadata": {},
   "outputs": [
    {
     "name": "stdout",
     "output_type": "stream",
     "text": [
      "<class 'pandas.core.frame.DataFrame'>\n",
      "Int64Index: 1900 entries, 0 to 1899\n",
      "Data columns (total 22 columns):\n",
      " #   Column               Non-Null Count  Dtype         \n",
      "---  ------               --------------  -----         \n",
      " 0   ID                   1900 non-null   object        \n",
      " 1   Station Name         1900 non-null   object        \n",
      " 2   City                 1900 non-null   object        \n",
      " 3   County               1900 non-null   object        \n",
      " 4   Latitude             1900 non-null   float64       \n",
      " 5   Longitude            1900 non-null   float64       \n",
      " 6   EV Level1            1900 non-null   int8          \n",
      " 7   EV Level2            1900 non-null   int8          \n",
      " 8   EV Level3            1900 non-null   int8          \n",
      " 9   Open Date            1900 non-null   object        \n",
      " 10  EV Network           1900 non-null   object        \n",
      " 11  Restricted Access    267 non-null    object        \n",
      " 12  EV Pricing           542 non-null    object        \n",
      " 13  EV Connector Types   1900 non-null   object        \n",
      " 14  EV_Connect NEMA515   1900 non-null   bool          \n",
      " 15  EV_Connect NEMA520   1900 non-null   bool          \n",
      " 16  EV_Connect NEMA1450  1900 non-null   bool          \n",
      " 17  EV_Connect CCS       1900 non-null   bool          \n",
      " 18  EV_Connect CHADEMO   1900 non-null   bool          \n",
      " 19  EV_Connect TESLA     1900 non-null   bool          \n",
      " 20  EV_Connect J1772     1900 non-null   bool          \n",
      " 21  Open Date2           1900 non-null   datetime64[ns]\n",
      "dtypes: bool(7), datetime64[ns](1), float64(2), int8(3), object(9)\n",
      "memory usage: 211.5+ KB\n"
     ]
    }
   ],
   "source": [
    "# Get summary information on df_station\n",
    "df_station.info()"
   ]
  },
  {
   "cell_type": "markdown",
   "id": "22fb5287",
   "metadata": {},
   "source": [
    "### 3b. Consistency Checks - df_ev_data"
   ]
  },
  {
   "cell_type": "code",
   "execution_count": 38,
   "id": "caa66398",
   "metadata": {},
   "outputs": [],
   "source": [
    "# Get summary information on df_ev_data\n",
    "df_ev_data.info()"
   ]
  },
  {
   "cell_type": "code",
   "execution_count": 39,
   "id": "60af7c98",
   "metadata": {},
   "outputs": [],
   "source": [
    "#reduce data size of df_ev_data\n",
    "df_ev_data['Index'] = df_ev_data['Index'].astype('str')\n",
    "df_ev_data['Model Year'] = df_ev_data['Model Year'].astype('int16')"
   ]
  },
  {
   "cell_type": "code",
   "execution_count": 40,
   "id": "f31c1325",
   "metadata": {},
   "outputs": [],
   "source": [
    "# Get summary information on df_ev_data\n",
    "df_ev_data.info()"
   ]
  },
  {
   "cell_type": "code",
   "execution_count": 41,
   "id": "c5e936fb",
   "metadata": {},
   "outputs": [],
   "source": [
    "# Check datasets to determine on which column the data can relate"
   ]
  },
  {
   "cell_type": "code",
   "execution_count": 42,
   "id": "6cd734d5",
   "metadata": {},
   "outputs": [],
   "source": [
    "# Step 1: Ensure tables have the same key columns to relate\n",
    "key_CityCounty = ['City', 'County']\n",
    "key_county = ['County']"
   ]
  },
  {
   "cell_type": "code",
   "execution_count": 43,
   "id": "294dfe10",
   "metadata": {},
   "outputs": [],
   "source": [
    "# Step 2: Identify unique values in the key columns for each table\n",
    "df_station_unique_cities = df_station['City'].unique()\n",
    "df_station_unique_counties = df_station['County'].unique()\n",
    "\n",
    "df_ev_data_unique_cities = df_ev_data['City'].unique()\n",
    "df_ev_data_unique_counties = df_ev_data['County'].unique()\n",
    "\n",
    "df_ev_hist_unique_counties = df_ev_hist['County'].unique()\n",
    "\n",
    "df_pop_unique_counties = df_pop['County'].unique()\n",
    "\n",
    "df_city_unique_cities = df_city['City'].unique()\n",
    "df_city_unique_counties = df_city['County'].unique()"
   ]
  },
  {
   "cell_type": "code",
   "execution_count": 44,
   "id": "00987d40",
   "metadata": {},
   "outputs": [],
   "source": [
    "# Step 3: Compare the unique values\n",
    "# Check if unique counties in df_city exist in df_pop\n",
    "counties_in_df_City_not_in_df_pop = set(df_city_unique_counties) - set(df_pop_unique_counties)\n",
    "if len(counties_in_df_City_not_in_df_pop) > 0:\n",
    "    print(f\"Counties in df_city that are not in df_pop: {counties_in_df_City_not_in_df_pop}\")"
   ]
  },
  {
   "cell_type": "code",
   "execution_count": 45,
   "id": "69dec053",
   "metadata": {},
   "outputs": [],
   "source": [
    "# Check if unique counties in df_city exist in df_ev_hist\n",
    "counties_in_df_City_not_in_df_ev_hist = set(df_city_unique_counties) - set(df_ev_hist_unique_counties)\n",
    "if len(counties_in_df_City_not_in_df_ev_hist) > 0:\n",
    "    print(f\"Counties in df_city that are not in df_ev_hist: {counties_in_df_City_not_in_df_ev_hist}\")"
   ]
  },
  {
   "cell_type": "code",
   "execution_count": 46,
   "id": "a0286260",
   "metadata": {},
   "outputs": [],
   "source": [
    "# Check if unique counties in df_station exist in df_pop\n",
    "counties_in_df_station_not_in_df_pop = set(df_station_unique_counties) - set(df_pop_unique_counties)\n",
    "if len(counties_in_df_station_not_in_df_pop) > 0:\n",
    "    print(f\"Counties in df_station that are not in df_pop: {counties_in_df_station_not_in_df_pop}\")"
   ]
  },
  {
   "cell_type": "code",
   "execution_count": 47,
   "id": "1e7d273a",
   "metadata": {},
   "outputs": [],
   "source": [
    "# Check if unique counties in df_ev_data exist in df_pop\n",
    "counties_in_df_ev_data_not_in_df_pop = set(df_ev_data_unique_counties) - set(df_pop_unique_counties)\n",
    "if len(counties_in_df_ev_data_not_in_df_pop) > 0:\n",
    "    print(f\"Counties in df_ev_data that are not in df_pop: {counties_in_df_ev_data_not_in_df_pop}\")"
   ]
  },
  {
   "cell_type": "markdown",
   "id": "93bf810a",
   "metadata": {},
   "source": [
    "Tables can be connected on the 'County' column. Remember that df_ev_hist is a time series."
   ]
  },
  {
   "cell_type": "code",
   "execution_count": 48,
   "id": "b1b68b57",
   "metadata": {},
   "outputs": [],
   "source": [
    "# Check if unique cities in df_station exist in df_city\n",
    "cities_in_df_station_not_in_df_city = set(df_station_unique_cities) - set(df_city_unique_cities)\n",
    "if len(cities_in_df_station_not_in_df_city) > 0:\n",
    "    print(f\"Counties in df_station that are not in df_city: {cities_in_df_station_not_in_df_city}\")"
   ]
  },
  {
   "cell_type": "code",
   "execution_count": 49,
   "id": "83cace9b",
   "metadata": {},
   "outputs": [],
   "source": [
    "# Check if unique cities in df_ev_data exist in df_city\n",
    "cities_in_df_ev_data_not_in_df_city = set(df_ev_data_unique_cities) - set(df_city_unique_cities)\n",
    "if len(cities_in_df_ev_data_not_in_df_city) > 0:\n",
    "    print(f\"Counties in df_ev_data that are not in df_city: {cities_in_df_ev_data_not_in_df_city}\")"
   ]
  },
  {
   "cell_type": "markdown",
   "id": "0e395d2c",
   "metadata": {},
   "source": [
    "While the City, EVCS, and EV_list tables can be connected on the 'City' column, the data will be incomplete\n",
    "Join on 'City' column with caution."
   ]
  },
  {
   "cell_type": "markdown",
   "id": "41d2a28c",
   "metadata": {},
   "source": [
    "## 4. Summary Statistics"
   ]
  },
  {
   "cell_type": "code",
   "execution_count": 17,
   "id": "db5f53ff",
   "metadata": {},
   "outputs": [
    {
     "data": {
      "text/html": [
       "<div>\n",
       "<style scoped>\n",
       "    .dataframe tbody tr th:only-of-type {\n",
       "        vertical-align: middle;\n",
       "    }\n",
       "\n",
       "    .dataframe tbody tr th {\n",
       "        vertical-align: top;\n",
       "    }\n",
       "\n",
       "    .dataframe thead th {\n",
       "        text-align: right;\n",
       "    }\n",
       "</style>\n",
       "<table border=\"1\" class=\"dataframe\">\n",
       "  <thead>\n",
       "    <tr style=\"text-align: right;\">\n",
       "      <th></th>\n",
       "      <th>Latitude</th>\n",
       "      <th>Longitude</th>\n",
       "      <th>EV Level1</th>\n",
       "      <th>EV Level2</th>\n",
       "      <th>EV Level3</th>\n",
       "    </tr>\n",
       "  </thead>\n",
       "  <tbody>\n",
       "    <tr>\n",
       "      <th>count</th>\n",
       "      <td>1900.000000</td>\n",
       "      <td>1900.000000</td>\n",
       "      <td>1900.000000</td>\n",
       "      <td>1900.000000</td>\n",
       "      <td>1900.000000</td>\n",
       "    </tr>\n",
       "    <tr>\n",
       "      <th>mean</th>\n",
       "      <td>47.461085</td>\n",
       "      <td>-121.890658</td>\n",
       "      <td>0.036316</td>\n",
       "      <td>1.945263</td>\n",
       "      <td>0.492105</td>\n",
       "    </tr>\n",
       "    <tr>\n",
       "      <th>std</th>\n",
       "      <td>0.599318</td>\n",
       "      <td>1.368342</td>\n",
       "      <td>0.907663</td>\n",
       "      <td>1.672235</td>\n",
       "      <td>1.894656</td>\n",
       "    </tr>\n",
       "    <tr>\n",
       "      <th>min</th>\n",
       "      <td>45.562567</td>\n",
       "      <td>-124.662924</td>\n",
       "      <td>0.000000</td>\n",
       "      <td>0.000000</td>\n",
       "      <td>0.000000</td>\n",
       "    </tr>\n",
       "    <tr>\n",
       "      <th>25%</th>\n",
       "      <td>47.320107</td>\n",
       "      <td>-122.374133</td>\n",
       "      <td>0.000000</td>\n",
       "      <td>1.000000</td>\n",
       "      <td>0.000000</td>\n",
       "    </tr>\n",
       "    <tr>\n",
       "      <th>50%</th>\n",
       "      <td>47.614112</td>\n",
       "      <td>-122.310033</td>\n",
       "      <td>0.000000</td>\n",
       "      <td>2.000000</td>\n",
       "      <td>0.000000</td>\n",
       "    </tr>\n",
       "    <tr>\n",
       "      <th>75%</th>\n",
       "      <td>47.660407</td>\n",
       "      <td>-122.176008</td>\n",
       "      <td>0.000000</td>\n",
       "      <td>2.000000</td>\n",
       "      <td>0.000000</td>\n",
       "    </tr>\n",
       "    <tr>\n",
       "      <th>max</th>\n",
       "      <td>48.995255</td>\n",
       "      <td>-117.043496</td>\n",
       "      <td>36.000000</td>\n",
       "      <td>24.000000</td>\n",
       "      <td>20.000000</td>\n",
       "    </tr>\n",
       "  </tbody>\n",
       "</table>\n",
       "</div>"
      ],
      "text/plain": [
       "          Latitude    Longitude    EV Level1    EV Level2    EV Level3\n",
       "count  1900.000000  1900.000000  1900.000000  1900.000000  1900.000000\n",
       "mean     47.461085  -121.890658     0.036316     1.945263     0.492105\n",
       "std       0.599318     1.368342     0.907663     1.672235     1.894656\n",
       "min      45.562567  -124.662924     0.000000     0.000000     0.000000\n",
       "25%      47.320107  -122.374133     0.000000     1.000000     0.000000\n",
       "50%      47.614112  -122.310033     0.000000     2.000000     0.000000\n",
       "75%      47.660407  -122.176008     0.000000     2.000000     0.000000\n",
       "max      48.995255  -117.043496    36.000000    24.000000    20.000000"
      ]
     },
     "execution_count": 17,
     "metadata": {},
     "output_type": "execute_result"
    }
   ],
   "source": [
    "# Summary statistics (mean, standard deviation, etc.) for numerical columns\n",
    "df_station.describe()"
   ]
  },
  {
   "cell_type": "code",
   "execution_count": 51,
   "id": "d2e755a5",
   "metadata": {},
   "outputs": [],
   "source": [
    "# Summary statistics (mean, standard deviation, etc.) for numerical columns\n",
    "df_ev_data.describe()"
   ]
  },
  {
   "cell_type": "code",
   "execution_count": 52,
   "id": "aa543b0f",
   "metadata": {},
   "outputs": [],
   "source": [
    "# Summary statistics (mean, standard deviation, etc.) for numerical columns\n",
    "df_ev_hist.describe()"
   ]
  },
  {
   "cell_type": "code",
   "execution_count": 53,
   "id": "6b7655d0",
   "metadata": {},
   "outputs": [],
   "source": [
    "# Summary statistics (mean, standard deviation, etc.) for numerical columns\n",
    "df_pop.describe()"
   ]
  },
  {
   "cell_type": "code",
   "execution_count": 54,
   "id": "b4738018",
   "metadata": {},
   "outputs": [],
   "source": [
    "# Summary statistics (mean, standard deviation, etc.) for numerical columns\n",
    "df_city.describe()"
   ]
  },
  {
   "cell_type": "code",
   "execution_count": null,
   "id": "18341249",
   "metadata": {},
   "outputs": [],
   "source": []
  },
  {
   "cell_type": "markdown",
   "id": "926c4f8e",
   "metadata": {},
   "source": [
    "## 5. Exporting Data"
   ]
  },
  {
   "cell_type": "code",
   "execution_count": 55,
   "id": "8407fa12",
   "metadata": {},
   "outputs": [],
   "source": [
    "#Export df_station in .pkl format\n",
    "df_station.to_pickle(os.path.join(path, '02 Data', 'Prepared Data', 'EVCS.pkl'))"
   ]
  },
  {
   "cell_type": "code",
   "execution_count": 56,
   "id": "72e5e8a6",
   "metadata": {},
   "outputs": [],
   "source": [
    "#Export df_ev_data in .pkl format\n",
    "df_ev_data.to_pickle(os.path.join(path, '02 Data', 'Prepared Data', 'EV list.pkl'))"
   ]
  },
  {
   "cell_type": "code",
   "execution_count": 57,
   "id": "d68c0224",
   "metadata": {},
   "outputs": [],
   "source": [
    "#Export df_ev_hist in .pkl format\n",
    "df_ev_hist.to_pickle(os.path.join(path, '02 Data', 'Prepared Data', 'EV sales hist.pkl'))"
   ]
  },
  {
   "cell_type": "code",
   "execution_count": 58,
   "id": "2ec5545e",
   "metadata": {},
   "outputs": [],
   "source": [
    "#Export df_pop in .pkl format\n",
    "df_pop.to_pickle(os.path.join(path, '02 Data', 'Prepared Data', 'County pop.pkl'))"
   ]
  },
  {
   "cell_type": "code",
   "execution_count": 59,
   "id": "39d93514",
   "metadata": {},
   "outputs": [],
   "source": [
    "#Export df_city in .pkl format\n",
    "df_city.to_pickle(os.path.join(path, '02 Data', 'Prepared Data', 'WA cities.pkl'))"
   ]
  },
  {
   "cell_type": "code",
   "execution_count": null,
   "id": "6837d0b1",
   "metadata": {},
   "outputs": [],
   "source": []
  },
  {
   "cell_type": "code",
   "execution_count": null,
   "id": "460697be",
   "metadata": {},
   "outputs": [],
   "source": []
  }
 ],
 "metadata": {
  "kernelspec": {
   "display_name": "Python 3 (ipykernel)",
   "language": "python",
   "name": "python3"
  },
  "language_info": {
   "codemirror_mode": {
    "name": "ipython",
    "version": 3
   },
   "file_extension": ".py",
   "mimetype": "text/x-python",
   "name": "python",
   "nbconvert_exporter": "python",
   "pygments_lexer": "ipython3",
   "version": "3.9.13"
  }
 },
 "nbformat": 4,
 "nbformat_minor": 5
}
